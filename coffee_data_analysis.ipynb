{
 "cells": [
  {
   "cell_type": "code",
   "execution_count": 33,
   "metadata": {},
   "outputs": [],
   "source": [
    "#Import required libraries\n",
    "import matplotlib.pyplot as plt\n",
    "import numpy as np\n",
    "import pandas as pd\n",
    "import seaborn as sns\n",
    "import scipy.stats as stats\n",
    "import math\n",
    "import plotly.express as px\n",
    "from countries_dataset import countries\n",
    "from codes import country_codes\n",
    "from country_surface_area import country_areas\n",
    "from country_latitudes import latitudes\n",
    "sns.set_theme()\n",
    "\n",
    "# Set large float displaying options in pandas\n",
    "pd.options.display.float_format = '{:20,.2f}'.format\n"
   ]
  },
  {
   "cell_type": "code",
   "execution_count": 48,
   "metadata": {},
   "outputs": [
    {
     "name": "stderr",
     "output_type": "stream",
     "text": [
      "d:\\Python\\Python311\\Lib\\site-packages\\openpyxl\\worksheet\\_reader.py:329: UserWarning:\n",
      "\n",
      "Unknown extension is not supported and will be removed\n",
      "\n",
      "d:\\Python\\Python311\\Lib\\site-packages\\openpyxl\\worksheet\\_reader.py:329: UserWarning:\n",
      "\n",
      "Unknown extension is not supported and will be removed\n",
      "\n"
     ]
    }
   ],
   "source": [
    "#Import excel files after initial row cleaning\n",
    "\n",
    "#Production data in thousands 60kg bags\n",
    "df_production = pd.read_excel('datasets/1a - Total production.xlsx',skiprows=3,skipfooter=3) \n",
    "df_production['Country'] = df_production['Country'].str.lstrip()\n",
    "df_production['Code'] = df_production['Country'].map(country_codes)\n",
    "df_production['Continent'] = df_production['Country'].map(countries)\n",
    "\n",
    "#Domestic Consumption data in thousands 60kg bags\n",
    "df_consumption = pd.read_excel('datasets/1b - Domestic consumption.xlsx',skiprows=3,skipfooter=3) \n",
    "df_consumption['Country'] = df_consumption['Country'].str.lstrip()\n",
    "df_consumption['Code'] = df_consumption['Country'].map(country_codes)\n",
    "df_consumption['Continent'] = df_consumption['Country'].map(countries)\n",
    "\n",
    "#Gross Openings \n",
    "df_openings = pd.read_excel('datasets/1d - Gross Opening stocks.xlsx',skiprows=3,skipfooter=3) \n",
    "df_openings['Country'] = df_openings['Country'].str.lstrip()\n",
    "df_openings['Code'] = df_openings['Country'].map(country_codes)\n",
    "df_openings['Continent'] = df_openings['Country'].map(countries)\n",
    "\n",
    "#Exports in thousands 60kg bags\n",
    "df_exports = pd.read_excel('datasets/1e - Exports - crop year.xlsx',skiprows=3,skipfooter=3) \n",
    "df_exports['Country'] = df_exports['Country'].str.lstrip()\n",
    "df_exports['Code'] = df_exports['Country'].map(country_codes)\n",
    "df_exports['Continent'] = df_exports['Country'].map(countries)\n",
    "\n",
    "#Imports in thousands 60kg bags\n",
    "df_imports = pd.read_excel('datasets/2b - Imports.xlsx',skiprows=3,skipfooter=3) \n",
    "df_imports['Country'] = df_imports['Country'].str.lstrip()\n",
    "df_imports['Code'] = df_imports['Country'].map(country_codes)\n",
    "df_imports['Continent'] = df_imports['Country'].map(countries)\n",
    "df_imports['Area'] = df_imports['Country'].map(country_areas)\n",
    "df_imports['Latitude'] = df_imports['Country'].map(latitudes)"
   ]
  },
  {
   "cell_type": "code",
   "execution_count": 59,
   "metadata": {},
   "outputs": [
    {
     "data": {
      "text/html": [
       "<div>\n",
       "<style scoped>\n",
       "    .dataframe tbody tr th:only-of-type {\n",
       "        vertical-align: middle;\n",
       "    }\n",
       "\n",
       "    .dataframe tbody tr th {\n",
       "        vertical-align: top;\n",
       "    }\n",
       "\n",
       "    .dataframe thead th {\n",
       "        text-align: right;\n",
       "    }\n",
       "</style>\n",
       "<table border=\"1\" class=\"dataframe\">\n",
       "  <thead>\n",
       "    <tr style=\"text-align: right;\">\n",
       "      <th></th>\n",
       "      <th>Country</th>\n",
       "      <th>1990</th>\n",
       "      <th>1991</th>\n",
       "      <th>1992</th>\n",
       "      <th>1993</th>\n",
       "      <th>1994</th>\n",
       "      <th>1995</th>\n",
       "      <th>1996</th>\n",
       "      <th>1997</th>\n",
       "      <th>1998</th>\n",
       "      <th>...</th>\n",
       "      <th>2015</th>\n",
       "      <th>2016</th>\n",
       "      <th>2017</th>\n",
       "      <th>2018</th>\n",
       "      <th>2019</th>\n",
       "      <th>Totals</th>\n",
       "      <th>Code</th>\n",
       "      <th>Continent</th>\n",
       "      <th>Area</th>\n",
       "      <th>Latitude</th>\n",
       "    </tr>\n",
       "  </thead>\n",
       "  <tbody>\n",
       "    <tr>\n",
       "      <th>0</th>\n",
       "      <td>Austria</td>\n",
       "      <td>1,879.72</td>\n",
       "      <td>2,058.27</td>\n",
       "      <td>2,206.42</td>\n",
       "      <td>1,836.49</td>\n",
       "      <td>1,417.21</td>\n",
       "      <td>1,231.44</td>\n",
       "      <td>1,210.47</td>\n",
       "      <td>1,294.20</td>\n",
       "      <td>1,293.35</td>\n",
       "      <td>...</td>\n",
       "      <td>1,513.39</td>\n",
       "      <td>1,494.94</td>\n",
       "      <td>1,459.91</td>\n",
       "      <td>1,429.41</td>\n",
       "      <td>1,447.51</td>\n",
       "      <td>46,099.53</td>\n",
       "      <td>AUT</td>\n",
       "      <td>Europe</td>\n",
       "      <td>83,879.00</td>\n",
       "      <td>47.16</td>\n",
       "    </tr>\n",
       "    <tr>\n",
       "      <th>1</th>\n",
       "      <td>Belgium</td>\n",
       "      <td>2,014.95</td>\n",
       "      <td>1,746.23</td>\n",
       "      <td>1,827.85</td>\n",
       "      <td>2,063.26</td>\n",
       "      <td>2,262.47</td>\n",
       "      <td>2,401.50</td>\n",
       "      <td>2,525.82</td>\n",
       "      <td>2,544.38</td>\n",
       "      <td>3,579.68</td>\n",
       "      <td>...</td>\n",
       "      <td>5,533.51</td>\n",
       "      <td>6,052.17</td>\n",
       "      <td>5,677.38</td>\n",
       "      <td>5,742.25</td>\n",
       "      <td>6,198.90</td>\n",
       "      <td>124,974.14</td>\n",
       "      <td>BEL</td>\n",
       "      <td>Europe</td>\n",
       "      <td>30,528.00</td>\n",
       "      <td>50.51</td>\n",
       "    </tr>\n",
       "    <tr>\n",
       "      <th>2</th>\n",
       "      <td>Luxembourg</td>\n",
       "      <td>0.00</td>\n",
       "      <td>0.00</td>\n",
       "      <td>0.00</td>\n",
       "      <td>0.00</td>\n",
       "      <td>0.00</td>\n",
       "      <td>0.00</td>\n",
       "      <td>0.00</td>\n",
       "      <td>0.00</td>\n",
       "      <td>0.00</td>\n",
       "      <td>...</td>\n",
       "      <td>376.23</td>\n",
       "      <td>394.33</td>\n",
       "      <td>379.93</td>\n",
       "      <td>433.32</td>\n",
       "      <td>402.27</td>\n",
       "      <td>6,925.50</td>\n",
       "      <td>LUX</td>\n",
       "      <td>Europe</td>\n",
       "      <td>2,586.00</td>\n",
       "      <td>49.82</td>\n",
       "    </tr>\n",
       "    <tr>\n",
       "      <th>3</th>\n",
       "      <td>Bulgaria</td>\n",
       "      <td>268.18</td>\n",
       "      <td>200.22</td>\n",
       "      <td>182.23</td>\n",
       "      <td>397.44</td>\n",
       "      <td>462.67</td>\n",
       "      <td>515.42</td>\n",
       "      <td>272.16</td>\n",
       "      <td>294.15</td>\n",
       "      <td>342.12</td>\n",
       "      <td>...</td>\n",
       "      <td>681.76</td>\n",
       "      <td>779.16</td>\n",
       "      <td>706.88</td>\n",
       "      <td>737.24</td>\n",
       "      <td>784.90</td>\n",
       "      <td>13,846.26</td>\n",
       "      <td>BGR</td>\n",
       "      <td>Europe</td>\n",
       "      <td>110,910.00</td>\n",
       "      <td>42.73</td>\n",
       "    </tr>\n",
       "    <tr>\n",
       "      <th>4</th>\n",
       "      <td>Croatia</td>\n",
       "      <td>0.00</td>\n",
       "      <td>0.00</td>\n",
       "      <td>168.19</td>\n",
       "      <td>162.77</td>\n",
       "      <td>193.45</td>\n",
       "      <td>320.13</td>\n",
       "      <td>321.84</td>\n",
       "      <td>385.30</td>\n",
       "      <td>339.05</td>\n",
       "      <td>...</td>\n",
       "      <td>437.20</td>\n",
       "      <td>478.67</td>\n",
       "      <td>439.07</td>\n",
       "      <td>445.51</td>\n",
       "      <td>466.42</td>\n",
       "      <td>10,368.61</td>\n",
       "      <td>HRV</td>\n",
       "      <td>Europe</td>\n",
       "      <td>56,594.00</td>\n",
       "      <td>45.13</td>\n",
       "    </tr>\n",
       "    <tr>\n",
       "      <th>5</th>\n",
       "      <td>Cyprus</td>\n",
       "      <td>49.85</td>\n",
       "      <td>53.93</td>\n",
       "      <td>40.88</td>\n",
       "      <td>77.41</td>\n",
       "      <td>51.84</td>\n",
       "      <td>43.77</td>\n",
       "      <td>51.50</td>\n",
       "      <td>41.34</td>\n",
       "      <td>49.78</td>\n",
       "      <td>...</td>\n",
       "      <td>89.30</td>\n",
       "      <td>93.15</td>\n",
       "      <td>99.93</td>\n",
       "      <td>133.18</td>\n",
       "      <td>133.22</td>\n",
       "      <td>2,172.33</td>\n",
       "      <td>CYP</td>\n",
       "      <td>Asia</td>\n",
       "      <td>9,251.00</td>\n",
       "      <td>35.13</td>\n",
       "    </tr>\n",
       "    <tr>\n",
       "      <th>6</th>\n",
       "      <td>Czechia</td>\n",
       "      <td>659.43</td>\n",
       "      <td>525.27</td>\n",
       "      <td>474.73</td>\n",
       "      <td>514.28</td>\n",
       "      <td>553.80</td>\n",
       "      <td>553.20</td>\n",
       "      <td>525.30</td>\n",
       "      <td>560.23</td>\n",
       "      <td>764.84</td>\n",
       "      <td>...</td>\n",
       "      <td>2,067.84</td>\n",
       "      <td>1,779.35</td>\n",
       "      <td>1,506.97</td>\n",
       "      <td>1,903.16</td>\n",
       "      <td>1,608.92</td>\n",
       "      <td>30,268.61</td>\n",
       "      <td>NaN</td>\n",
       "      <td>NaN</td>\n",
       "      <td>NaN</td>\n",
       "      <td>NaN</td>\n",
       "    </tr>\n",
       "    <tr>\n",
       "      <th>7</th>\n",
       "      <td>Denmark</td>\n",
       "      <td>959.11</td>\n",
       "      <td>982.76</td>\n",
       "      <td>1,061.62</td>\n",
       "      <td>993.95</td>\n",
       "      <td>1,033.18</td>\n",
       "      <td>877.16</td>\n",
       "      <td>1,006.00</td>\n",
       "      <td>949.07</td>\n",
       "      <td>1,013.72</td>\n",
       "      <td>...</td>\n",
       "      <td>840.78</td>\n",
       "      <td>905.79</td>\n",
       "      <td>852.19</td>\n",
       "      <td>867.95</td>\n",
       "      <td>907.94</td>\n",
       "      <td>29,030.73</td>\n",
       "      <td>DNK</td>\n",
       "      <td>Europe</td>\n",
       "      <td>43,094.00</td>\n",
       "      <td>55.76</td>\n",
       "    </tr>\n",
       "    <tr>\n",
       "      <th>8</th>\n",
       "      <td>Estonia</td>\n",
       "      <td>NaN</td>\n",
       "      <td>NaN</td>\n",
       "      <td>16.38</td>\n",
       "      <td>51.15</td>\n",
       "      <td>83.10</td>\n",
       "      <td>107.48</td>\n",
       "      <td>116.92</td>\n",
       "      <td>141.11</td>\n",
       "      <td>134.66</td>\n",
       "      <td>...</td>\n",
       "      <td>126.20</td>\n",
       "      <td>134.80</td>\n",
       "      <td>133.15</td>\n",
       "      <td>147.14</td>\n",
       "      <td>147.85</td>\n",
       "      <td>4,484.63</td>\n",
       "      <td>EST</td>\n",
       "      <td>Europe</td>\n",
       "      <td>45,227.00</td>\n",
       "      <td>58.38</td>\n",
       "    </tr>\n",
       "    <tr>\n",
       "      <th>9</th>\n",
       "      <td>Finland</td>\n",
       "      <td>1,095.14</td>\n",
       "      <td>1,033.07</td>\n",
       "      <td>1,055.36</td>\n",
       "      <td>1,301.46</td>\n",
       "      <td>1,361.00</td>\n",
       "      <td>769.50</td>\n",
       "      <td>992.27</td>\n",
       "      <td>1,185.52</td>\n",
       "      <td>1,167.94</td>\n",
       "      <td>...</td>\n",
       "      <td>1,320.80</td>\n",
       "      <td>1,388.97</td>\n",
       "      <td>1,360.02</td>\n",
       "      <td>1,284.82</td>\n",
       "      <td>1,515.47</td>\n",
       "      <td>35,866.24</td>\n",
       "      <td>FIN</td>\n",
       "      <td>Europe</td>\n",
       "      <td>338,420.00</td>\n",
       "      <td>60.17</td>\n",
       "    </tr>\n",
       "    <tr>\n",
       "      <th>10</th>\n",
       "      <td>France</td>\n",
       "      <td>6,301.22</td>\n",
       "      <td>6,552.71</td>\n",
       "      <td>6,612.06</td>\n",
       "      <td>6,334.47</td>\n",
       "      <td>6,368.66</td>\n",
       "      <td>6,213.68</td>\n",
       "      <td>6,659.51</td>\n",
       "      <td>6,703.99</td>\n",
       "      <td>6,576.02</td>\n",
       "      <td>...</td>\n",
       "      <td>6,808.57</td>\n",
       "      <td>6,737.78</td>\n",
       "      <td>6,966.51</td>\n",
       "      <td>7,624.02</td>\n",
       "      <td>7,992.91</td>\n",
       "      <td>199,539.46</td>\n",
       "      <td>FRA</td>\n",
       "      <td>Europe</td>\n",
       "      <td>547,500.00</td>\n",
       "      <td>46.23</td>\n",
       "    </tr>\n",
       "    <tr>\n",
       "      <th>11</th>\n",
       "      <td>Germany</td>\n",
       "      <td>13,670.95</td>\n",
       "      <td>13,228.85</td>\n",
       "      <td>13,788.55</td>\n",
       "      <td>14,107.00</td>\n",
       "      <td>13,583.22</td>\n",
       "      <td>12,851.84</td>\n",
       "      <td>13,507.13</td>\n",
       "      <td>13,905.18</td>\n",
       "      <td>13,739.57</td>\n",
       "      <td>...</td>\n",
       "      <td>21,316.21</td>\n",
       "      <td>22,368.39</td>\n",
       "      <td>21,764.78</td>\n",
       "      <td>22,147.18</td>\n",
       "      <td>22,431.91</td>\n",
       "      <td>524,689.62</td>\n",
       "      <td>DEU</td>\n",
       "      <td>Europe</td>\n",
       "      <td>357,022.00</td>\n",
       "      <td>51.17</td>\n",
       "    </tr>\n",
       "    <tr>\n",
       "      <th>12</th>\n",
       "      <td>Greece</td>\n",
       "      <td>641.96</td>\n",
       "      <td>407.03</td>\n",
       "      <td>348.92</td>\n",
       "      <td>374.59</td>\n",
       "      <td>502.13</td>\n",
       "      <td>522.60</td>\n",
       "      <td>765.51</td>\n",
       "      <td>788.62</td>\n",
       "      <td>704.46</td>\n",
       "      <td>...</td>\n",
       "      <td>1,209.96</td>\n",
       "      <td>1,583.74</td>\n",
       "      <td>867.12</td>\n",
       "      <td>1,160.02</td>\n",
       "      <td>1,246.27</td>\n",
       "      <td>27,332.07</td>\n",
       "      <td>GRC</td>\n",
       "      <td>Europe</td>\n",
       "      <td>131,940.00</td>\n",
       "      <td>39.08</td>\n",
       "    </tr>\n",
       "    <tr>\n",
       "      <th>13</th>\n",
       "      <td>Hungary</td>\n",
       "      <td>573.97</td>\n",
       "      <td>640.99</td>\n",
       "      <td>522.25</td>\n",
       "      <td>668.06</td>\n",
       "      <td>771.22</td>\n",
       "      <td>519.50</td>\n",
       "      <td>602.91</td>\n",
       "      <td>674.96</td>\n",
       "      <td>715.59</td>\n",
       "      <td>...</td>\n",
       "      <td>714.21</td>\n",
       "      <td>725.44</td>\n",
       "      <td>721.56</td>\n",
       "      <td>779.21</td>\n",
       "      <td>772.97</td>\n",
       "      <td>22,122.88</td>\n",
       "      <td>HUN</td>\n",
       "      <td>Europe</td>\n",
       "      <td>93,030.00</td>\n",
       "      <td>47.16</td>\n",
       "    </tr>\n",
       "    <tr>\n",
       "      <th>14</th>\n",
       "      <td>Ireland</td>\n",
       "      <td>129.48</td>\n",
       "      <td>118.27</td>\n",
       "      <td>94.57</td>\n",
       "      <td>110.54</td>\n",
       "      <td>130.54</td>\n",
       "      <td>114.61</td>\n",
       "      <td>98.16</td>\n",
       "      <td>106.28</td>\n",
       "      <td>101.98</td>\n",
       "      <td>...</td>\n",
       "      <td>356.57</td>\n",
       "      <td>402.63</td>\n",
       "      <td>426.92</td>\n",
       "      <td>439.61</td>\n",
       "      <td>438.28</td>\n",
       "      <td>6,403.48</td>\n",
       "      <td>IRL</td>\n",
       "      <td>Europe</td>\n",
       "      <td>70,273.00</td>\n",
       "      <td>53.15</td>\n",
       "    </tr>\n",
       "    <tr>\n",
       "      <th>15</th>\n",
       "      <td>Italy</td>\n",
       "      <td>5,241.83</td>\n",
       "      <td>4,630.02</td>\n",
       "      <td>4,594.73</td>\n",
       "      <td>5,593.71</td>\n",
       "      <td>5,553.77</td>\n",
       "      <td>5,387.86</td>\n",
       "      <td>5,607.99</td>\n",
       "      <td>5,742.63</td>\n",
       "      <td>5,889.39</td>\n",
       "      <td>...</td>\n",
       "      <td>9,328.19</td>\n",
       "      <td>10,224.19</td>\n",
       "      <td>10,020.27</td>\n",
       "      <td>10,639.35</td>\n",
       "      <td>10,913.76</td>\n",
       "      <td>221,201.34</td>\n",
       "      <td>ITA</td>\n",
       "      <td>Europe</td>\n",
       "      <td>301,340.00</td>\n",
       "      <td>41.88</td>\n",
       "    </tr>\n",
       "    <tr>\n",
       "      <th>16</th>\n",
       "      <td>Latvia</td>\n",
       "      <td>0.00</td>\n",
       "      <td>0.00</td>\n",
       "      <td>20.26</td>\n",
       "      <td>59.77</td>\n",
       "      <td>22.56</td>\n",
       "      <td>29.52</td>\n",
       "      <td>65.75</td>\n",
       "      <td>143.64</td>\n",
       "      <td>158.96</td>\n",
       "      <td>...</td>\n",
       "      <td>201.59</td>\n",
       "      <td>231.29</td>\n",
       "      <td>228.92</td>\n",
       "      <td>242.74</td>\n",
       "      <td>234.94</td>\n",
       "      <td>4,356.97</td>\n",
       "      <td>LVA</td>\n",
       "      <td>Europe</td>\n",
       "      <td>64,589.00</td>\n",
       "      <td>56.95</td>\n",
       "    </tr>\n",
       "    <tr>\n",
       "      <th>17</th>\n",
       "      <td>Lithuania</td>\n",
       "      <td>0.00</td>\n",
       "      <td>0.00</td>\n",
       "      <td>1.86</td>\n",
       "      <td>9.10</td>\n",
       "      <td>46.73</td>\n",
       "      <td>112.95</td>\n",
       "      <td>149.56</td>\n",
       "      <td>187.11</td>\n",
       "      <td>185.15</td>\n",
       "      <td>...</td>\n",
       "      <td>427.76</td>\n",
       "      <td>499.27</td>\n",
       "      <td>432.45</td>\n",
       "      <td>441.47</td>\n",
       "      <td>473.63</td>\n",
       "      <td>7,890.65</td>\n",
       "      <td>LTU</td>\n",
       "      <td>Europe</td>\n",
       "      <td>65,200.00</td>\n",
       "      <td>54.68</td>\n",
       "    </tr>\n",
       "    <tr>\n",
       "      <th>18</th>\n",
       "      <td>Malta</td>\n",
       "      <td>20.71</td>\n",
       "      <td>16.07</td>\n",
       "      <td>17.86</td>\n",
       "      <td>22.61</td>\n",
       "      <td>13.21</td>\n",
       "      <td>22.65</td>\n",
       "      <td>9.23</td>\n",
       "      <td>9.46</td>\n",
       "      <td>10.10</td>\n",
       "      <td>...</td>\n",
       "      <td>16.31</td>\n",
       "      <td>18.53</td>\n",
       "      <td>16.75</td>\n",
       "      <td>19.38</td>\n",
       "      <td>23.37</td>\n",
       "      <td>494.89</td>\n",
       "      <td>MLT</td>\n",
       "      <td>Europe</td>\n",
       "      <td>316.00</td>\n",
       "      <td>35.92</td>\n",
       "    </tr>\n",
       "    <tr>\n",
       "      <th>19</th>\n",
       "      <td>Netherlands</td>\n",
       "      <td>3,128.15</td>\n",
       "      <td>3,120.77</td>\n",
       "      <td>3,204.95</td>\n",
       "      <td>2,803.73</td>\n",
       "      <td>2,799.88</td>\n",
       "      <td>2,910.37</td>\n",
       "      <td>3,083.96</td>\n",
       "      <td>2,923.77</td>\n",
       "      <td>2,862.05</td>\n",
       "      <td>...</td>\n",
       "      <td>4,176.24</td>\n",
       "      <td>4,781.45</td>\n",
       "      <td>5,067.74</td>\n",
       "      <td>5,520.44</td>\n",
       "      <td>5,354.02</td>\n",
       "      <td>99,189.06</td>\n",
       "      <td>NLD</td>\n",
       "      <td>Europe</td>\n",
       "      <td>41,526.00</td>\n",
       "      <td>52.36</td>\n",
       "    </tr>\n",
       "    <tr>\n",
       "      <th>20</th>\n",
       "      <td>Poland</td>\n",
       "      <td>435.07</td>\n",
       "      <td>249.87</td>\n",
       "      <td>1,787.06</td>\n",
       "      <td>1,670.50</td>\n",
       "      <td>1,842.64</td>\n",
       "      <td>1,770.71</td>\n",
       "      <td>1,924.07</td>\n",
       "      <td>2,253.08</td>\n",
       "      <td>2,292.96</td>\n",
       "      <td>...</td>\n",
       "      <td>3,665.61</td>\n",
       "      <td>3,827.17</td>\n",
       "      <td>3,999.32</td>\n",
       "      <td>4,325.06</td>\n",
       "      <td>4,452.46</td>\n",
       "      <td>80,259.42</td>\n",
       "      <td>POL</td>\n",
       "      <td>Europe</td>\n",
       "      <td>312,679.00</td>\n",
       "      <td>52.23</td>\n",
       "    </tr>\n",
       "    <tr>\n",
       "      <th>21</th>\n",
       "      <td>Portugal</td>\n",
       "      <td>551.59</td>\n",
       "      <td>557.47</td>\n",
       "      <td>591.17</td>\n",
       "      <td>666.45</td>\n",
       "      <td>663.86</td>\n",
       "      <td>633.17</td>\n",
       "      <td>742.96</td>\n",
       "      <td>727.29</td>\n",
       "      <td>761.59</td>\n",
       "      <td>...</td>\n",
       "      <td>1,043.86</td>\n",
       "      <td>1,128.48</td>\n",
       "      <td>1,093.95</td>\n",
       "      <td>1,140.20</td>\n",
       "      <td>1,219.76</td>\n",
       "      <td>26,146.35</td>\n",
       "      <td>PRT</td>\n",
       "      <td>Europe</td>\n",
       "      <td>92,222.00</td>\n",
       "      <td>39.40</td>\n",
       "    </tr>\n",
       "    <tr>\n",
       "      <th>22</th>\n",
       "      <td>Romania</td>\n",
       "      <td>441.53</td>\n",
       "      <td>335.45</td>\n",
       "      <td>603.21</td>\n",
       "      <td>425.35</td>\n",
       "      <td>347.45</td>\n",
       "      <td>551.34</td>\n",
       "      <td>696.56</td>\n",
       "      <td>630.98</td>\n",
       "      <td>595.30</td>\n",
       "      <td>...</td>\n",
       "      <td>1,011.64</td>\n",
       "      <td>1,133.70</td>\n",
       "      <td>1,154.57</td>\n",
       "      <td>1,174.14</td>\n",
       "      <td>1,165.06</td>\n",
       "      <td>23,006.17</td>\n",
       "      <td>ROU</td>\n",
       "      <td>Europe</td>\n",
       "      <td>238,391.00</td>\n",
       "      <td>45.94</td>\n",
       "    </tr>\n",
       "    <tr>\n",
       "      <th>23</th>\n",
       "      <td>Slovakia</td>\n",
       "      <td>0.00</td>\n",
       "      <td>0.00</td>\n",
       "      <td>0.00</td>\n",
       "      <td>288.48</td>\n",
       "      <td>256.69</td>\n",
       "      <td>250.09</td>\n",
       "      <td>260.55</td>\n",
       "      <td>252.88</td>\n",
       "      <td>258.93</td>\n",
       "      <td>...</td>\n",
       "      <td>910.38</td>\n",
       "      <td>906.18</td>\n",
       "      <td>723.05</td>\n",
       "      <td>889.52</td>\n",
       "      <td>773.50</td>\n",
       "      <td>13,696.09</td>\n",
       "      <td>SVK</td>\n",
       "      <td>Europe</td>\n",
       "      <td>49,035.00</td>\n",
       "      <td>48.67</td>\n",
       "    </tr>\n",
       "    <tr>\n",
       "      <th>24</th>\n",
       "      <td>Slovenia</td>\n",
       "      <td>0.00</td>\n",
       "      <td>0.00</td>\n",
       "      <td>122.87</td>\n",
       "      <td>152.22</td>\n",
       "      <td>159.14</td>\n",
       "      <td>147.62</td>\n",
       "      <td>174.63</td>\n",
       "      <td>170.65</td>\n",
       "      <td>174.30</td>\n",
       "      <td>...</td>\n",
       "      <td>271.79</td>\n",
       "      <td>322.87</td>\n",
       "      <td>401.44</td>\n",
       "      <td>549.66</td>\n",
       "      <td>619.50</td>\n",
       "      <td>6,588.93</td>\n",
       "      <td>SVN</td>\n",
       "      <td>Europe</td>\n",
       "      <td>20,273.00</td>\n",
       "      <td>46.08</td>\n",
       "    </tr>\n",
       "    <tr>\n",
       "      <th>25</th>\n",
       "      <td>Spain</td>\n",
       "      <td>3,053.25</td>\n",
       "      <td>2,969.54</td>\n",
       "      <td>3,414.29</td>\n",
       "      <td>2,813.09</td>\n",
       "      <td>3,028.42</td>\n",
       "      <td>3,145.87</td>\n",
       "      <td>3,515.28</td>\n",
       "      <td>3,776.56</td>\n",
       "      <td>3,717.65</td>\n",
       "      <td>...</td>\n",
       "      <td>5,428.57</td>\n",
       "      <td>5,660.15</td>\n",
       "      <td>5,414.23</td>\n",
       "      <td>5,673.00</td>\n",
       "      <td>5,983.51</td>\n",
       "      <td>130,676.54</td>\n",
       "      <td>ESP</td>\n",
       "      <td>Europe</td>\n",
       "      <td>505,990.00</td>\n",
       "      <td>40.42</td>\n",
       "    </tr>\n",
       "    <tr>\n",
       "      <th>26</th>\n",
       "      <td>Sweden</td>\n",
       "      <td>1,766.67</td>\n",
       "      <td>1,717.09</td>\n",
       "      <td>1,771.73</td>\n",
       "      <td>1,756.60</td>\n",
       "      <td>1,893.29</td>\n",
       "      <td>1,420.44</td>\n",
       "      <td>1,522.38</td>\n",
       "      <td>1,472.84</td>\n",
       "      <td>1,439.64</td>\n",
       "      <td>...</td>\n",
       "      <td>2,120.55</td>\n",
       "      <td>2,349.87</td>\n",
       "      <td>2,306.33</td>\n",
       "      <td>2,262.21</td>\n",
       "      <td>2,347.80</td>\n",
       "      <td>52,479.86</td>\n",
       "      <td>SWE</td>\n",
       "      <td>Europe</td>\n",
       "      <td>450,295.00</td>\n",
       "      <td>60.17</td>\n",
       "    </tr>\n",
       "    <tr>\n",
       "      <th>27</th>\n",
       "      <td>Japan</td>\n",
       "      <td>5,329.75</td>\n",
       "      <td>5,510.47</td>\n",
       "      <td>5,325.62</td>\n",
       "      <td>5,691.12</td>\n",
       "      <td>6,217.15</td>\n",
       "      <td>5,489.09</td>\n",
       "      <td>5,994.11</td>\n",
       "      <td>5,921.42</td>\n",
       "      <td>6,026.97</td>\n",
       "      <td>...</td>\n",
       "      <td>8,063.40</td>\n",
       "      <td>8,026.15</td>\n",
       "      <td>7,646.64</td>\n",
       "      <td>7,539.98</td>\n",
       "      <td>8,039.68</td>\n",
       "      <td>207,046.56</td>\n",
       "      <td>JPN</td>\n",
       "      <td>Asia</td>\n",
       "      <td>377,945.00</td>\n",
       "      <td>35.69</td>\n",
       "    </tr>\n",
       "    <tr>\n",
       "      <th>28</th>\n",
       "      <td>Norway</td>\n",
       "      <td>742.04</td>\n",
       "      <td>761.21</td>\n",
       "      <td>739.15</td>\n",
       "      <td>692.83</td>\n",
       "      <td>805.63</td>\n",
       "      <td>662.10</td>\n",
       "      <td>719.89</td>\n",
       "      <td>683.89</td>\n",
       "      <td>706.88</td>\n",
       "      <td>...</td>\n",
       "      <td>799.74</td>\n",
       "      <td>799.15</td>\n",
       "      <td>800.86</td>\n",
       "      <td>743.34</td>\n",
       "      <td>785.89</td>\n",
       "      <td>22,240.54</td>\n",
       "      <td>NOR</td>\n",
       "      <td>Europe</td>\n",
       "      <td>385,207.00</td>\n",
       "      <td>60.47</td>\n",
       "    </tr>\n",
       "    <tr>\n",
       "      <th>29</th>\n",
       "      <td>Russia</td>\n",
       "      <td>0.00</td>\n",
       "      <td>0.00</td>\n",
       "      <td>1,381.86</td>\n",
       "      <td>1,794.95</td>\n",
       "      <td>1,725.73</td>\n",
       "      <td>1,728.14</td>\n",
       "      <td>1,127.97</td>\n",
       "      <td>2,185.29</td>\n",
       "      <td>1,731.92</td>\n",
       "      <td>...</td>\n",
       "      <td>4,710.04</td>\n",
       "      <td>5,232.88</td>\n",
       "      <td>5,467.78</td>\n",
       "      <td>5,287.54</td>\n",
       "      <td>5,916.63</td>\n",
       "      <td>95,517.85</td>\n",
       "      <td>RUS</td>\n",
       "      <td>Europe</td>\n",
       "      <td>17,075,200.00</td>\n",
       "      <td>60.32</td>\n",
       "    </tr>\n",
       "    <tr>\n",
       "      <th>30</th>\n",
       "      <td>Switzerland</td>\n",
       "      <td>1,170.51</td>\n",
       "      <td>1,130.29</td>\n",
       "      <td>1,101.25</td>\n",
       "      <td>1,059.88</td>\n",
       "      <td>1,099.41</td>\n",
       "      <td>1,016.83</td>\n",
       "      <td>1,111.63</td>\n",
       "      <td>970.77</td>\n",
       "      <td>1,111.84</td>\n",
       "      <td>...</td>\n",
       "      <td>2,747.86</td>\n",
       "      <td>2,816.03</td>\n",
       "      <td>2,903.62</td>\n",
       "      <td>3,086.02</td>\n",
       "      <td>3,228.38</td>\n",
       "      <td>53,542.96</td>\n",
       "      <td>CHE</td>\n",
       "      <td>Europe</td>\n",
       "      <td>41,285.00</td>\n",
       "      <td>46.83</td>\n",
       "    </tr>\n",
       "    <tr>\n",
       "      <th>31</th>\n",
       "      <td>Tunisia</td>\n",
       "      <td>101.00</td>\n",
       "      <td>90.20</td>\n",
       "      <td>110.58</td>\n",
       "      <td>100.62</td>\n",
       "      <td>137.27</td>\n",
       "      <td>136.78</td>\n",
       "      <td>143.65</td>\n",
       "      <td>164.62</td>\n",
       "      <td>147.42</td>\n",
       "      <td>...</td>\n",
       "      <td>458.71</td>\n",
       "      <td>465.55</td>\n",
       "      <td>546.16</td>\n",
       "      <td>532.97</td>\n",
       "      <td>508.33</td>\n",
       "      <td>8,207.74</td>\n",
       "      <td>TUN</td>\n",
       "      <td>Africa</td>\n",
       "      <td>163,610.00</td>\n",
       "      <td>33.88</td>\n",
       "    </tr>\n",
       "    <tr>\n",
       "      <th>32</th>\n",
       "      <td>United Kingdom</td>\n",
       "      <td>2,898.30</td>\n",
       "      <td>2,805.91</td>\n",
       "      <td>3,088.17</td>\n",
       "      <td>3,196.98</td>\n",
       "      <td>3,465.86</td>\n",
       "      <td>2,806.72</td>\n",
       "      <td>2,903.45</td>\n",
       "      <td>2,929.34</td>\n",
       "      <td>3,142.41</td>\n",
       "      <td>...</td>\n",
       "      <td>4,895.41</td>\n",
       "      <td>5,052.29</td>\n",
       "      <td>4,989.04</td>\n",
       "      <td>5,687.86</td>\n",
       "      <td>5,554.36</td>\n",
       "      <td>112,193.59</td>\n",
       "      <td>GBR</td>\n",
       "      <td>Europe</td>\n",
       "      <td>242,900.00</td>\n",
       "      <td>51.50</td>\n",
       "    </tr>\n",
       "    <tr>\n",
       "      <th>33</th>\n",
       "      <td>United States</td>\n",
       "      <td>21,006.79</td>\n",
       "      <td>19,839.63</td>\n",
       "      <td>22,939.03</td>\n",
       "      <td>19,328.72</td>\n",
       "      <td>16,171.25</td>\n",
       "      <td>17,106.86</td>\n",
       "      <td>19,444.53</td>\n",
       "      <td>20,342.75</td>\n",
       "      <td>21,030.40</td>\n",
       "      <td>...</td>\n",
       "      <td>27,707.66</td>\n",
       "      <td>28,837.84</td>\n",
       "      <td>29,487.89</td>\n",
       "      <td>28,918.21</td>\n",
       "      <td>30,854.07</td>\n",
       "      <td>708,460.33</td>\n",
       "      <td>USA</td>\n",
       "      <td>North America</td>\n",
       "      <td>9,833,517.00</td>\n",
       "      <td>37.04</td>\n",
       "    </tr>\n",
       "  </tbody>\n",
       "</table>\n",
       "<p>34 rows × 36 columns</p>\n",
       "</div>"
      ],
      "text/plain": [
       "           Country                 1990                 1991  \\\n",
       "0          Austria             1,879.72             2,058.27   \n",
       "1          Belgium             2,014.95             1,746.23   \n",
       "2       Luxembourg                 0.00                 0.00   \n",
       "3         Bulgaria               268.18               200.22   \n",
       "4          Croatia                 0.00                 0.00   \n",
       "5           Cyprus                49.85                53.93   \n",
       "6          Czechia               659.43               525.27   \n",
       "7          Denmark               959.11               982.76   \n",
       "8          Estonia                  NaN                  NaN   \n",
       "9          Finland             1,095.14             1,033.07   \n",
       "10          France             6,301.22             6,552.71   \n",
       "11         Germany            13,670.95            13,228.85   \n",
       "12          Greece               641.96               407.03   \n",
       "13         Hungary               573.97               640.99   \n",
       "14         Ireland               129.48               118.27   \n",
       "15           Italy             5,241.83             4,630.02   \n",
       "16          Latvia                 0.00                 0.00   \n",
       "17       Lithuania                 0.00                 0.00   \n",
       "18           Malta                20.71                16.07   \n",
       "19     Netherlands             3,128.15             3,120.77   \n",
       "20          Poland               435.07               249.87   \n",
       "21        Portugal               551.59               557.47   \n",
       "22         Romania               441.53               335.45   \n",
       "23        Slovakia                 0.00                 0.00   \n",
       "24        Slovenia                 0.00                 0.00   \n",
       "25           Spain             3,053.25             2,969.54   \n",
       "26          Sweden             1,766.67             1,717.09   \n",
       "27           Japan             5,329.75             5,510.47   \n",
       "28          Norway               742.04               761.21   \n",
       "29          Russia                 0.00                 0.00   \n",
       "30     Switzerland             1,170.51             1,130.29   \n",
       "31         Tunisia               101.00                90.20   \n",
       "32  United Kingdom             2,898.30             2,805.91   \n",
       "33   United States            21,006.79            19,839.63   \n",
       "\n",
       "                   1992                 1993                 1994  \\\n",
       "0              2,206.42             1,836.49             1,417.21   \n",
       "1              1,827.85             2,063.26             2,262.47   \n",
       "2                  0.00                 0.00                 0.00   \n",
       "3                182.23               397.44               462.67   \n",
       "4                168.19               162.77               193.45   \n",
       "5                 40.88                77.41                51.84   \n",
       "6                474.73               514.28               553.80   \n",
       "7              1,061.62               993.95             1,033.18   \n",
       "8                 16.38                51.15                83.10   \n",
       "9              1,055.36             1,301.46             1,361.00   \n",
       "10             6,612.06             6,334.47             6,368.66   \n",
       "11            13,788.55            14,107.00            13,583.22   \n",
       "12               348.92               374.59               502.13   \n",
       "13               522.25               668.06               771.22   \n",
       "14                94.57               110.54               130.54   \n",
       "15             4,594.73             5,593.71             5,553.77   \n",
       "16                20.26                59.77                22.56   \n",
       "17                 1.86                 9.10                46.73   \n",
       "18                17.86                22.61                13.21   \n",
       "19             3,204.95             2,803.73             2,799.88   \n",
       "20             1,787.06             1,670.50             1,842.64   \n",
       "21               591.17               666.45               663.86   \n",
       "22               603.21               425.35               347.45   \n",
       "23                 0.00               288.48               256.69   \n",
       "24               122.87               152.22               159.14   \n",
       "25             3,414.29             2,813.09             3,028.42   \n",
       "26             1,771.73             1,756.60             1,893.29   \n",
       "27             5,325.62             5,691.12             6,217.15   \n",
       "28               739.15               692.83               805.63   \n",
       "29             1,381.86             1,794.95             1,725.73   \n",
       "30             1,101.25             1,059.88             1,099.41   \n",
       "31               110.58               100.62               137.27   \n",
       "32             3,088.17             3,196.98             3,465.86   \n",
       "33            22,939.03            19,328.72            16,171.25   \n",
       "\n",
       "                   1995                 1996                 1997  \\\n",
       "0              1,231.44             1,210.47             1,294.20   \n",
       "1              2,401.50             2,525.82             2,544.38   \n",
       "2                  0.00                 0.00                 0.00   \n",
       "3                515.42               272.16               294.15   \n",
       "4                320.13               321.84               385.30   \n",
       "5                 43.77                51.50                41.34   \n",
       "6                553.20               525.30               560.23   \n",
       "7                877.16             1,006.00               949.07   \n",
       "8                107.48               116.92               141.11   \n",
       "9                769.50               992.27             1,185.52   \n",
       "10             6,213.68             6,659.51             6,703.99   \n",
       "11            12,851.84            13,507.13            13,905.18   \n",
       "12               522.60               765.51               788.62   \n",
       "13               519.50               602.91               674.96   \n",
       "14               114.61                98.16               106.28   \n",
       "15             5,387.86             5,607.99             5,742.63   \n",
       "16                29.52                65.75               143.64   \n",
       "17               112.95               149.56               187.11   \n",
       "18                22.65                 9.23                 9.46   \n",
       "19             2,910.37             3,083.96             2,923.77   \n",
       "20             1,770.71             1,924.07             2,253.08   \n",
       "21               633.17               742.96               727.29   \n",
       "22               551.34               696.56               630.98   \n",
       "23               250.09               260.55               252.88   \n",
       "24               147.62               174.63               170.65   \n",
       "25             3,145.87             3,515.28             3,776.56   \n",
       "26             1,420.44             1,522.38             1,472.84   \n",
       "27             5,489.09             5,994.11             5,921.42   \n",
       "28               662.10               719.89               683.89   \n",
       "29             1,728.14             1,127.97             2,185.29   \n",
       "30             1,016.83             1,111.63               970.77   \n",
       "31               136.78               143.65               164.62   \n",
       "32             2,806.72             2,903.45             2,929.34   \n",
       "33            17,106.86            19,444.53            20,342.75   \n",
       "\n",
       "                   1998  ...                 2015                 2016  \\\n",
       "0              1,293.35  ...             1,513.39             1,494.94   \n",
       "1              3,579.68  ...             5,533.51             6,052.17   \n",
       "2                  0.00  ...               376.23               394.33   \n",
       "3                342.12  ...               681.76               779.16   \n",
       "4                339.05  ...               437.20               478.67   \n",
       "5                 49.78  ...                89.30                93.15   \n",
       "6                764.84  ...             2,067.84             1,779.35   \n",
       "7              1,013.72  ...               840.78               905.79   \n",
       "8                134.66  ...               126.20               134.80   \n",
       "9              1,167.94  ...             1,320.80             1,388.97   \n",
       "10             6,576.02  ...             6,808.57             6,737.78   \n",
       "11            13,739.57  ...            21,316.21            22,368.39   \n",
       "12               704.46  ...             1,209.96             1,583.74   \n",
       "13               715.59  ...               714.21               725.44   \n",
       "14               101.98  ...               356.57               402.63   \n",
       "15             5,889.39  ...             9,328.19            10,224.19   \n",
       "16               158.96  ...               201.59               231.29   \n",
       "17               185.15  ...               427.76               499.27   \n",
       "18                10.10  ...                16.31                18.53   \n",
       "19             2,862.05  ...             4,176.24             4,781.45   \n",
       "20             2,292.96  ...             3,665.61             3,827.17   \n",
       "21               761.59  ...             1,043.86             1,128.48   \n",
       "22               595.30  ...             1,011.64             1,133.70   \n",
       "23               258.93  ...               910.38               906.18   \n",
       "24               174.30  ...               271.79               322.87   \n",
       "25             3,717.65  ...             5,428.57             5,660.15   \n",
       "26             1,439.64  ...             2,120.55             2,349.87   \n",
       "27             6,026.97  ...             8,063.40             8,026.15   \n",
       "28               706.88  ...               799.74               799.15   \n",
       "29             1,731.92  ...             4,710.04             5,232.88   \n",
       "30             1,111.84  ...             2,747.86             2,816.03   \n",
       "31               147.42  ...               458.71               465.55   \n",
       "32             3,142.41  ...             4,895.41             5,052.29   \n",
       "33            21,030.40  ...            27,707.66            28,837.84   \n",
       "\n",
       "                   2017                 2018                 2019  \\\n",
       "0              1,459.91             1,429.41             1,447.51   \n",
       "1              5,677.38             5,742.25             6,198.90   \n",
       "2                379.93               433.32               402.27   \n",
       "3                706.88               737.24               784.90   \n",
       "4                439.07               445.51               466.42   \n",
       "5                 99.93               133.18               133.22   \n",
       "6              1,506.97             1,903.16             1,608.92   \n",
       "7                852.19               867.95               907.94   \n",
       "8                133.15               147.14               147.85   \n",
       "9              1,360.02             1,284.82             1,515.47   \n",
       "10             6,966.51             7,624.02             7,992.91   \n",
       "11            21,764.78            22,147.18            22,431.91   \n",
       "12               867.12             1,160.02             1,246.27   \n",
       "13               721.56               779.21               772.97   \n",
       "14               426.92               439.61               438.28   \n",
       "15            10,020.27            10,639.35            10,913.76   \n",
       "16               228.92               242.74               234.94   \n",
       "17               432.45               441.47               473.63   \n",
       "18                16.75                19.38                23.37   \n",
       "19             5,067.74             5,520.44             5,354.02   \n",
       "20             3,999.32             4,325.06             4,452.46   \n",
       "21             1,093.95             1,140.20             1,219.76   \n",
       "22             1,154.57             1,174.14             1,165.06   \n",
       "23               723.05               889.52               773.50   \n",
       "24               401.44               549.66               619.50   \n",
       "25             5,414.23             5,673.00             5,983.51   \n",
       "26             2,306.33             2,262.21             2,347.80   \n",
       "27             7,646.64             7,539.98             8,039.68   \n",
       "28               800.86               743.34               785.89   \n",
       "29             5,467.78             5,287.54             5,916.63   \n",
       "30             2,903.62             3,086.02             3,228.38   \n",
       "31               546.16               532.97               508.33   \n",
       "32             4,989.04             5,687.86             5,554.36   \n",
       "33            29,487.89            28,918.21            30,854.07   \n",
       "\n",
       "                 Totals  Code      Continent                 Area  \\\n",
       "0             46,099.53   AUT         Europe            83,879.00   \n",
       "1            124,974.14   BEL         Europe            30,528.00   \n",
       "2              6,925.50   LUX         Europe             2,586.00   \n",
       "3             13,846.26   BGR         Europe           110,910.00   \n",
       "4             10,368.61   HRV         Europe            56,594.00   \n",
       "5              2,172.33   CYP           Asia             9,251.00   \n",
       "6             30,268.61   NaN            NaN                  NaN   \n",
       "7             29,030.73   DNK         Europe            43,094.00   \n",
       "8              4,484.63   EST         Europe            45,227.00   \n",
       "9             35,866.24   FIN         Europe           338,420.00   \n",
       "10           199,539.46   FRA         Europe           547,500.00   \n",
       "11           524,689.62   DEU         Europe           357,022.00   \n",
       "12            27,332.07   GRC         Europe           131,940.00   \n",
       "13            22,122.88   HUN         Europe            93,030.00   \n",
       "14             6,403.48   IRL         Europe            70,273.00   \n",
       "15           221,201.34   ITA         Europe           301,340.00   \n",
       "16             4,356.97   LVA         Europe            64,589.00   \n",
       "17             7,890.65   LTU         Europe            65,200.00   \n",
       "18               494.89   MLT         Europe               316.00   \n",
       "19            99,189.06   NLD         Europe            41,526.00   \n",
       "20            80,259.42   POL         Europe           312,679.00   \n",
       "21            26,146.35   PRT         Europe            92,222.00   \n",
       "22            23,006.17   ROU         Europe           238,391.00   \n",
       "23            13,696.09   SVK         Europe            49,035.00   \n",
       "24             6,588.93   SVN         Europe            20,273.00   \n",
       "25           130,676.54   ESP         Europe           505,990.00   \n",
       "26            52,479.86   SWE         Europe           450,295.00   \n",
       "27           207,046.56   JPN           Asia           377,945.00   \n",
       "28            22,240.54   NOR         Europe           385,207.00   \n",
       "29            95,517.85   RUS         Europe        17,075,200.00   \n",
       "30            53,542.96   CHE         Europe            41,285.00   \n",
       "31             8,207.74   TUN         Africa           163,610.00   \n",
       "32           112,193.59   GBR         Europe           242,900.00   \n",
       "33           708,460.33   USA  North America         9,833,517.00   \n",
       "\n",
       "               Latitude  \n",
       "0                 47.16  \n",
       "1                 50.51  \n",
       "2                 49.82  \n",
       "3                 42.73  \n",
       "4                 45.13  \n",
       "5                 35.13  \n",
       "6                   NaN  \n",
       "7                 55.76  \n",
       "8                 58.38  \n",
       "9                 60.17  \n",
       "10                46.23  \n",
       "11                51.17  \n",
       "12                39.08  \n",
       "13                47.16  \n",
       "14                53.15  \n",
       "15                41.88  \n",
       "16                56.95  \n",
       "17                54.68  \n",
       "18                35.92  \n",
       "19                52.36  \n",
       "20                52.23  \n",
       "21                39.40  \n",
       "22                45.94  \n",
       "23                48.67  \n",
       "24                46.08  \n",
       "25                40.42  \n",
       "26                60.17  \n",
       "27                35.69  \n",
       "28                60.47  \n",
       "29                60.32  \n",
       "30                46.83  \n",
       "31                33.88  \n",
       "32                51.50  \n",
       "33                37.04  \n",
       "\n",
       "[34 rows x 36 columns]"
      ]
     },
     "execution_count": 59,
     "metadata": {},
     "output_type": "execute_result"
    }
   ],
   "source": [
    "df_imports"
   ]
  },
  {
   "cell_type": "code",
   "execution_count": 35,
   "metadata": {},
   "outputs": [],
   "source": [
    "# Create a function that return the top10s for each dataframe with a barplot\n",
    "\n",
    "def top10s(df):\n",
    "    top10 = df[['Country','Code','Totals']].sort_values(by='Totals', ascending=False).head(10)\n",
    "    # plot the top 10 producing countries with Seaborn using a bar chart\n",
    "    sns.barplot(x='Country', y='Totals', data=top10,palette='Blues_d')\n",
    "    # Edit y axis with \"Total 60kg bags in thousands\"\n",
    "    plt.ylabel('Total 60kg bags in thousands')\n",
    "    # Edit the x axis countries to display them diagonally\n",
    "    plt.xticks(rotation=45)\n",
    "    plt.show()\n",
    "    return top10"
   ]
  },
  {
   "cell_type": "code",
   "execution_count": 36,
   "metadata": {},
   "outputs": [
    {
     "data": {
      "image/png": "[encoded data removed]",
      "text/plain": [
       "<Figure size 640x480 with 1 Axes>"
      ]
     },
     "metadata": {},
     "output_type": "display_data"
    },
    {
     "name": "stdout",
     "output_type": "stream",
     "text": [
      "           Country Code               Totals\n",
      "33   United States  USA           708,460.33\n",
      "11         Germany  DEU           524,689.62\n",
      "15           Italy  ITA           221,201.34\n",
      "27           Japan  JPN           207,046.56\n",
      "10          France  FRA           199,539.46\n",
      "25           Spain  ESP           130,676.54\n",
      "1          Belgium  BEL           124,974.14\n",
      "32  United Kingdom  GBR           112,193.59\n",
      "19     Netherlands  NLD            99,189.06\n",
      "29          Russia  RUS            95,517.85\n"
     ]
    }
   ],
   "source": [
    "top10_imports = top10s(df_imports)\n",
    "print(top10_imports)"
   ]
  },
  {
   "cell_type": "code",
   "execution_count": 37,
   "metadata": {},
   "outputs": [],
   "source": [
    "def lineplot_imports(df,country_code):\n",
    "    '''Create a line plot of imports for a given country'''\n",
    "    country_imports = df[df['Code'] == country_code].iloc[:,1:-3].T\n",
    "    country_imports.rename(columns={country_imports.columns[0]:f'{country_code} Imports'},inplace=True)\n",
    "    sns.lineplot(data=country_imports)\n",
    "    plt.xticks(rotation=45)\n",
    "    plt.xlabel('Year')\n",
    "    plt.ylabel('Total 60kg bags in thousands')\n",
    "    plt.show()"
   ]
  },
  {
   "cell_type": "code",
   "execution_count": 38,
   "metadata": {},
   "outputs": [
    {
     "data": {
      "image/png": "[encoded data removed]",
      "text/plain": [
       "<Figure size 640x480 with 1 Axes>"
      ]
     },
     "metadata": {},
     "output_type": "display_data"
    }
   ],
   "source": [
    "lineplot_imports(df_imports,'GBR')"
   ]
  },
  {
   "cell_type": "code",
   "execution_count": 39,
   "metadata": {},
   "outputs": [
    {
     "data": {
      "text/html": [
       "<div>\n",
       "<style scoped>\n",
       "    .dataframe tbody tr th:only-of-type {\n",
       "        vertical-align: middle;\n",
       "    }\n",
       "\n",
       "    .dataframe tbody tr th {\n",
       "        vertical-align: top;\n",
       "    }\n",
       "\n",
       "    .dataframe thead th {\n",
       "        text-align: right;\n",
       "    }\n",
       "</style>\n",
       "<table border=\"1\" class=\"dataframe\">\n",
       "  <thead>\n",
       "    <tr style=\"text-align: right;\">\n",
       "      <th></th>\n",
       "      <th>Country</th>\n",
       "      <th>Code</th>\n",
       "      <th>Continent</th>\n",
       "      <th>Production</th>\n",
       "      <th>Domestic Consumption</th>\n",
       "      <th>Exports</th>\n",
       "      <th>Openings</th>\n",
       "      <th>Offset</th>\n",
       "      <th>Exports Ratio</th>\n",
       "      <th>Domestic Consump Ratio</th>\n",
       "      <th>area</th>\n",
       "      <th>Production/Area1000</th>\n",
       "      <th>Latitude</th>\n",
       "    </tr>\n",
       "  </thead>\n",
       "  <tbody>\n",
       "    <tr>\n",
       "      <th>0</th>\n",
       "      <td>Angola</td>\n",
       "      <td>AGO</td>\n",
       "      <td>Africa</td>\n",
       "      <td>1,365.78</td>\n",
       "      <td>775.00</td>\n",
       "      <td>695.78</td>\n",
       "      <td>3,725.00</td>\n",
       "      <td>3,830.00</td>\n",
       "      <td>0.51</td>\n",
       "      <td>0.57</td>\n",
       "      <td>1,246,700.00</td>\n",
       "      <td>1.10</td>\n",
       "      <td>-11.76</td>\n",
       "    </tr>\n",
       "    <tr>\n",
       "      <th>1</th>\n",
       "      <td>Bolivia</td>\n",
       "      <td>BOL</td>\n",
       "      <td>South America</td>\n",
       "      <td>3,449.50</td>\n",
       "      <td>1,253.00</td>\n",
       "      <td>2,250.50</td>\n",
       "      <td>209.90</td>\n",
       "      <td>263.90</td>\n",
       "      <td>0.65</td>\n",
       "      <td>0.36</td>\n",
       "      <td>1,098,581.00</td>\n",
       "      <td>3.14</td>\n",
       "      <td>-16.50</td>\n",
       "    </tr>\n",
       "    <tr>\n",
       "      <th>2</th>\n",
       "      <td>Brazil</td>\n",
       "      <td>BRA</td>\n",
       "      <td>South America</td>\n",
       "      <td>1,251,382.32</td>\n",
       "      <td>463,745.00</td>\n",
       "      <td>792,421.32</td>\n",
       "      <td>688,076.00</td>\n",
       "      <td>692,860.00</td>\n",
       "      <td>0.63</td>\n",
       "      <td>0.37</td>\n",
       "      <td>8,515,767.00</td>\n",
       "      <td>146.95</td>\n",
       "      <td>-15.78</td>\n",
       "    </tr>\n",
       "    <tr>\n",
       "      <th>3</th>\n",
       "      <td>Burundi</td>\n",
       "      <td>BDI</td>\n",
       "      <td>Africa</td>\n",
       "      <td>10,396.36</td>\n",
       "      <td>56.87</td>\n",
       "      <td>10,571.50</td>\n",
       "      <td>1,440.41</td>\n",
       "      <td>1,672.41</td>\n",
       "      <td>1.02</td>\n",
       "      <td>0.01</td>\n",
       "      <td>27,830.00</td>\n",
       "      <td>373.57</td>\n",
       "      <td>-3.37</td>\n",
       "    </tr>\n",
       "    <tr>\n",
       "      <th>4</th>\n",
       "      <td>Ecuador</td>\n",
       "      <td>ECU</td>\n",
       "      <td>South America</td>\n",
       "      <td>31,672.56</td>\n",
       "      <td>6,359.00</td>\n",
       "      <td>32,545.52</td>\n",
       "      <td>3,152.17</td>\n",
       "      <td>10,384.13</td>\n",
       "      <td>1.03</td>\n",
       "      <td>0.20</td>\n",
       "      <td>283,561.00</td>\n",
       "      <td>111.70</td>\n",
       "      <td>-2.17</td>\n",
       "    </tr>\n",
       "    <tr>\n",
       "      <th>5</th>\n",
       "      <td>Indonesia</td>\n",
       "      <td>IDN</td>\n",
       "      <td>Asia</td>\n",
       "      <td>256,749.71</td>\n",
       "      <td>82,008.00</td>\n",
       "      <td>177,119.71</td>\n",
       "      <td>20,513.32</td>\n",
       "      <td>22,891.32</td>\n",
       "      <td>0.69</td>\n",
       "      <td>0.32</td>\n",
       "      <td>1,904,569.00</td>\n",
       "      <td>134.81</td>\n",
       "      <td>-6.17</td>\n",
       "    </tr>\n",
       "    <tr>\n",
       "      <th>6</th>\n",
       "      <td>Madagascar</td>\n",
       "      <td>MDG</td>\n",
       "      <td>Africa</td>\n",
       "      <td>17,426.54</td>\n",
       "      <td>9,811.77</td>\n",
       "      <td>8,151.54</td>\n",
       "      <td>2,550.02</td>\n",
       "      <td>3,086.78</td>\n",
       "      <td>0.47</td>\n",
       "      <td>0.56</td>\n",
       "      <td>587,041.00</td>\n",
       "      <td>29.69</td>\n",
       "      <td>-18.95</td>\n",
       "    </tr>\n",
       "    <tr>\n",
       "      <th>7</th>\n",
       "      <td>Malawi</td>\n",
       "      <td>MWI</td>\n",
       "      <td>Africa</td>\n",
       "      <td>1,370.83</td>\n",
       "      <td>39.00</td>\n",
       "      <td>1,351.83</td>\n",
       "      <td>142.00</td>\n",
       "      <td>162.00</td>\n",
       "      <td>0.99</td>\n",
       "      <td>0.03</td>\n",
       "      <td>118,484.00</td>\n",
       "      <td>11.57</td>\n",
       "      <td>-13.88</td>\n",
       "    </tr>\n",
       "    <tr>\n",
       "      <th>8</th>\n",
       "      <td>Papua New Guinea</td>\n",
       "      <td>PNG</td>\n",
       "      <td>Oceania</td>\n",
       "      <td>30,051.43</td>\n",
       "      <td>60.14</td>\n",
       "      <td>30,185.29</td>\n",
       "      <td>1,621.98</td>\n",
       "      <td>1,815.98</td>\n",
       "      <td>1.00</td>\n",
       "      <td>0.00</td>\n",
       "      <td>462,840.00</td>\n",
       "      <td>64.93</td>\n",
       "      <td>-6.33</td>\n",
       "    </tr>\n",
       "    <tr>\n",
       "      <th>9</th>\n",
       "      <td>Paraguay</td>\n",
       "      <td>PRY</td>\n",
       "      <td>South America</td>\n",
       "      <td>1,035.86</td>\n",
       "      <td>585.00</td>\n",
       "      <td>638.86</td>\n",
       "      <td>1,055.00</td>\n",
       "      <td>1,243.00</td>\n",
       "      <td>0.62</td>\n",
       "      <td>0.56</td>\n",
       "      <td>406,750.00</td>\n",
       "      <td>2.55</td>\n",
       "      <td>-25.28</td>\n",
       "    </tr>\n",
       "  </tbody>\n",
       "</table>\n",
       "</div>"
      ],
      "text/plain": [
       "            Country Code      Continent           Production  \\\n",
       "0            Angola  AGO         Africa             1,365.78   \n",
       "1           Bolivia  BOL  South America             3,449.50   \n",
       "2            Brazil  BRA  South America         1,251,382.32   \n",
       "3           Burundi  BDI         Africa            10,396.36   \n",
       "4           Ecuador  ECU  South America            31,672.56   \n",
       "5         Indonesia  IDN           Asia           256,749.71   \n",
       "6        Madagascar  MDG         Africa            17,426.54   \n",
       "7            Malawi  MWI         Africa             1,370.83   \n",
       "8  Papua New Guinea  PNG        Oceania            30,051.43   \n",
       "9          Paraguay  PRY  South America             1,035.86   \n",
       "\n",
       "   Domestic Consumption              Exports             Openings  \\\n",
       "0                775.00               695.78             3,725.00   \n",
       "1              1,253.00             2,250.50               209.90   \n",
       "2            463,745.00           792,421.32           688,076.00   \n",
       "3                 56.87            10,571.50             1,440.41   \n",
       "4              6,359.00            32,545.52             3,152.17   \n",
       "5             82,008.00           177,119.71            20,513.32   \n",
       "6              9,811.77             8,151.54             2,550.02   \n",
       "7                 39.00             1,351.83               142.00   \n",
       "8                 60.14            30,185.29             1,621.98   \n",
       "9                585.00               638.86             1,055.00   \n",
       "\n",
       "                Offset        Exports Ratio  Domestic Consump Ratio  \\\n",
       "0             3,830.00                 0.51                    0.57   \n",
       "1               263.90                 0.65                    0.36   \n",
       "2           692,860.00                 0.63                    0.37   \n",
       "3             1,672.41                 1.02                    0.01   \n",
       "4            10,384.13                 1.03                    0.20   \n",
       "5            22,891.32                 0.69                    0.32   \n",
       "6             3,086.78                 0.47                    0.56   \n",
       "7               162.00                 0.99                    0.03   \n",
       "8             1,815.98                 1.00                    0.00   \n",
       "9             1,243.00                 0.62                    0.56   \n",
       "\n",
       "                  area  Production/Area1000             Latitude  \n",
       "0         1,246,700.00                 1.10               -11.76  \n",
       "1         1,098,581.00                 3.14               -16.50  \n",
       "2         8,515,767.00               146.95               -15.78  \n",
       "3            27,830.00               373.57                -3.37  \n",
       "4           283,561.00               111.70                -2.17  \n",
       "5         1,904,569.00               134.81                -6.17  \n",
       "6           587,041.00                29.69               -18.95  \n",
       "7           118,484.00                11.57               -13.88  \n",
       "8           462,840.00                64.93                -6.33  \n",
       "9           406,750.00                 2.55               -25.28  "
      ]
     },
     "execution_count": 39,
     "metadata": {},
     "output_type": "execute_result"
    }
   ],
   "source": [
    "# Create a dataframe with the 'Totals' columns from this 4 dataframes: df_production, df_consumption, df_openings and df_exports. Create exports to production ratio\n",
    "# Created a summary table to detect anomalies in the data. There's an offset that make the column addition not matching.\n",
    "df_totals = pd.concat([df_production[['Country','Code','Continent','Totals']],df_consumption['Totals'],df_exports['Totals'],df_openings['Totals'],],axis=1)\n",
    "df_totals.columns=['Country','Code','Continent','Production','Domestic Consumption','Exports','Openings']\n",
    "df_totals['Offset'] = -df_totals['Production'] + df_totals['Domestic Consumption'] + df_totals['Exports'] + df_totals['Openings']\n",
    "df_totals['Exports Ratio'] = df_totals['Exports']/df_totals['Production']\n",
    "df_totals['Domestic Consump Ratio'] = df_totals['Domestic Consumption']/df_totals['Production']\n",
    "df_totals['area'] = df_totals['Country'].map(country_areas)\n",
    "df_totals['Production/Area1000'] = 1000*df_totals['Production']/df_totals['area']\n",
    "df_totals['Latitude']=df_totals['Country'].map(latitudes)\n",
    "df_totals.head(10)\n"
   ]
  },
  {
   "attachments": {},
   "cell_type": "markdown",
   "metadata": {},
   "source": [
    "Working with this dataframe and calculating ratios, we found there are some issues with the data. For example, some countries have more exports or domestic consumption than total production, thing that doesn't seems to be very logical. "
   ]
  },
  {
   "cell_type": "code",
   "execution_count": 40,
   "metadata": {},
   "outputs": [],
   "source": [
    "# Create docstring for world_plot\n",
    "''' Create a figure using Plotly Express' `px.choropleth` function.\n",
    "    Receives a dataframe and also the plotly colorscale string as an input'''\n",
    "\n",
    "def world_plot2(df,column,color_scale):\n",
    "    fig = px.choropleth(\n",
    "        df,\n",
    "        locations='Code',\n",
    "        color=column,\n",
    "        hover_name='Country',\n",
    "        \n",
    "        color_continuous_scale=color_scale,\n",
    "        #range_color=(0, 1500000),\n",
    "        scope='world',\n",
    "    )\n",
    "\n",
    "    # Update the layout of the figure\n",
    "    fig.update_layout(\n",
    "        title='Totals by Country',\n",
    "        margin={'r': 0, 't': 40, 'l': 0, 'b': 10},\n",
    "    )\n",
    "\n",
    "    # Show the figure\n",
    "    fig.show()"
   ]
  },
  {
   "cell_type": "code",
   "execution_count": 46,
   "metadata": {},
   "outputs": [
    {
     "data": {
      "application/vnd.plotly.v1+json": {
       "config": {
        "plotlyServerURL": "https://plot.ly"
       },
       "data": [
        {
         "coloraxis": "coloraxis",
         "geo": "geo",
         "hovertemplate": "<b>%{hovertext}</b><br><br>Code=%{location}<br>Production=%{z}<extra></extra>",
         "hovertext": [
          "Angola",
          "Bolivia",
          "Brazil",
          "Burundi",
          "Ecuador",
          "Indonesia",
          "Madagascar",
          "Malawi",
          "Papua New Guinea",
          "Paraguay",
          "Peru",
          "Rwanda",
          "Timor-Leste",
          "Zimbabwe",
          "Congo",
          "Cuba",
          "Dominican Republic",
          "Haiti",
          "Philippines",
          "Tanzania",
          "Zambia",
          "Cameroon",
          "Central African Republic",
          "Colombia",
          "Costa Rica",
          "Côte d'Ivoire",
          "Democratic Republic of Congo",
          "El Salvador",
          "Equatorial Guinea",
          "Ethiopia",
          "Gabon",
          "Ghana",
          "Guatemala",
          "Guinea",
          "Guyana",
          "Honduras",
          "India",
          "Jamaica",
          "Kenya",
          "Lao People's Democratic Republic",
          "Liberia",
          "Mexico",
          "Nepal",
          "Nicaragua",
          "Nigeria",
          "Panama",
          "Sierra Leone",
          "Sri Lanka",
          "Thailand",
          "Togo",
          "Trinidad & Tobago",
          "Uganda",
          "Venezuela",
          "Vietnam",
          "Yemen"
         ],
         "locations": [
          "AGO",
          "BOL",
          "BRA",
          "BDI",
          "ECU",
          "IDN",
          "MDG",
          "MWI",
          "PNG",
          "PRY",
          "PER",
          "RWA",
          null,
          "ZWE",
          null,
          "CUB",
          "DOM",
          "HTI",
          "PHL",
          "TZA",
          "ZMB",
          "CMR",
          "CAF",
          "COL",
          "CRI",
          "CIV",
          null,
          "SLV",
          "GNQ",
          "ETH",
          "GAB",
          "GHA",
          "GTM",
          "GIN",
          "GUY",
          "HND",
          "IND",
          "JAM",
          "KEN",
          null,
          "LBR",
          "MEX",
          "NPL",
          "NIC",
          "NGA",
          "PAN",
          "SLE",
          "LKA",
          "THA",
          "TGO",
          null,
          "UGA",
          "VEN",
          "VNM",
          "YEM"
         ],
         "name": "",
         "type": "choropleth",
         "z": [
          1365.7826,
          3449.5031,
          1251382.3185,
          10396.362999999998,
          31672.561400000006,
          256749.71320000003,
          17426.543600000005,
          1370.8337999999999,
          30051.428900000006,
          1035.8646999999999,
          88627.0521,
          9457.456700000002,
          1143.4122000000002,
          2203.851900000001,
          114.58370000000002,
          5987.277100000003,
          15157.5079,
          11646.973000000004,
          14843.433400000002,
          24579.262600000002,
          1281.0475000000004,
          22644.342099999994,
          3065.7106000000003,
          359979.56460000004,
          59941.651699999995,
          79357.41130000002,
          17516.6023,
          47013.8373,
          16.835,
          144494.32599999994,
          45.1871,
          1063.6336000000001,
          117006.83459999999,
          8041.097,
          179.72599999999997,
          111212.80880000001,
          137036.3074,
          899.1378,
          29471.561400000002,
          9470.036999999998,
          249.49809999999997,
          130892.84779999997,
          25.377499999999998,
          45824.5063,
          1366.0042999999994,
          4684.544700000001,
          1452.3503999999998,
          1228.4842999999998,
          27900.515300000006,
          4689.8741,
          430.74589999999995,
          98655.523,
          33213.3564,
          480054.9727,
          3182.6585
         ]
        }
       ],
       "layout": {
        "coloraxis": {
         "colorbar": {
          "title": {
           "text": "Production"
          }
         },
         "colorscale": [
          [
           0,
           "rgb(255,255,204)"
          ],
          [
           0.125,
           "rgb(255,237,160)"
          ],
          [
           0.25,
           "rgb(254,217,118)"
          ],
          [
           0.375,
           "rgb(254,178,76)"
          ],
          [
           0.5,
           "rgb(253,141,60)"
          ],
          [
           0.625,
           "rgb(252,78,42)"
          ],
          [
           0.75,
           "rgb(227,26,28)"
          ],
          [
           0.875,
           "rgb(189,0,38)"
          ],
          [
           1,
           "rgb(128,0,38)"
          ]
         ]
        },
        "geo": {
         "center": {},
         "domain": {
          "x": [
           0,
           1
          ],
          "y": [
           0,
           1
          ]
         },
         "scope": "world"
        },
        "legend": {
         "tracegroupgap": 0
        },
        "margin": {
         "b": 10,
         "l": 0,
         "r": 0,
         "t": 40
        },
        "template": {
         "data": {
          "bar": [
           {
            "error_x": {
             "color": "#2a3f5f"
            },
            "error_y": {
             "color": "#2a3f5f"
            },
            "marker": {
             "line": {
              "color": "#E5ECF6",
              "width": 0.5
             },
             "pattern": {
              "fillmode": "overlay",
              "size": 10,
              "solidity": 0.2
             }
            },
            "type": "bar"
           }
          ],
          "barpolar": [
           {
            "marker": {
             "line": {
              "color": "#E5ECF6",
              "width": 0.5
             },
             "pattern": {
              "fillmode": "overlay",
              "size": 10,
              "solidity": 0.2
             }
            },
            "type": "barpolar"
           }
          ],
          "carpet": [
           {
            "aaxis": {
             "endlinecolor": "#2a3f5f",
             "gridcolor": "white",
             "linecolor": "white",
             "minorgridcolor": "white",
             "startlinecolor": "#2a3f5f"
            },
            "baxis": {
             "endlinecolor": "#2a3f5f",
             "gridcolor": "white",
             "linecolor": "white",
             "minorgridcolor": "white",
             "startlinecolor": "#2a3f5f"
            },
            "type": "carpet"
           }
          ],
          "choropleth": [
           {
            "colorbar": {
             "outlinewidth": 0,
             "ticks": ""
            },
            "type": "choropleth"
           }
          ],
          "contour": [
           {
            "colorbar": {
             "outlinewidth": 0,
             "ticks": ""
            },
            "colorscale": [
             [
              0,
              "#0d0887"
             ],
             [
              0.1111111111111111,
              "#46039f"
             ],
             [
              0.2222222222222222,
              "#7201a8"
             ],
             [
              0.3333333333333333,
              "#9c179e"
             ],
             [
              0.4444444444444444,
              "#bd3786"
             ],
             [
              0.5555555555555556,
              "#d8576b"
             ],
             [
              0.6666666666666666,
              "#ed7953"
             ],
             [
              0.7777777777777778,
              "#fb9f3a"
             ],
             [
              0.8888888888888888,
              "#fdca26"
             ],
             [
              1,
              "#f0f921"
             ]
            ],
            "type": "contour"
           }
          ],
          "contourcarpet": [
           {
            "colorbar": {
             "outlinewidth": 0,
             "ticks": ""
            },
            "type": "contourcarpet"
           }
          ],
          "heatmap": [
           {
            "colorbar": {
             "outlinewidth": 0,
             "ticks": ""
            },
            "colorscale": [
             [
              0,
              "#0d0887"
             ],
             [
              0.1111111111111111,
              "#46039f"
             ],
             [
              0.2222222222222222,
              "#7201a8"
             ],
             [
              0.3333333333333333,
              "#9c179e"
             ],
             [
              0.4444444444444444,
              "#bd3786"
             ],
             [
              0.5555555555555556,
              "#d8576b"
             ],
             [
              0.6666666666666666,
              "#ed7953"
             ],
             [
              0.7777777777777778,
              "#fb9f3a"
             ],
             [
              0.8888888888888888,
              "#fdca26"
             ],
             [
              1,
              "#f0f921"
             ]
            ],
            "type": "heatmap"
           }
          ],
          "heatmapgl": [
           {
            "colorbar": {
             "outlinewidth": 0,
             "ticks": ""
            },
            "colorscale": [
             [
              0,
              "#0d0887"
             ],
             [
              0.1111111111111111,
              "#46039f"
             ],
             [
              0.2222222222222222,
              "#7201a8"
             ],
             [
              0.3333333333333333,
              "#9c179e"
             ],
             [
              0.4444444444444444,
              "#bd3786"
             ],
             [
              0.5555555555555556,
              "#d8576b"
             ],
             [
              0.6666666666666666,
              "#ed7953"
             ],
             [
              0.7777777777777778,
              "#fb9f3a"
             ],
             [
              0.8888888888888888,
              "#fdca26"
             ],
             [
              1,
              "#f0f921"
             ]
            ],
            "type": "heatmapgl"
           }
          ],
          "histogram": [
           {
            "marker": {
             "pattern": {
              "fillmode": "overlay",
              "size": 10,
              "solidity": 0.2
             }
            },
            "type": "histogram"
           }
          ],
          "histogram2d": [
           {
            "colorbar": {
             "outlinewidth": 0,
             "ticks": ""
            },
            "colorscale": [
             [
              0,
              "#0d0887"
             ],
             [
              0.1111111111111111,
              "#46039f"
             ],
             [
              0.2222222222222222,
              "#7201a8"
             ],
             [
              0.3333333333333333,
              "#9c179e"
             ],
             [
              0.4444444444444444,
              "#bd3786"
             ],
             [
              0.5555555555555556,
              "#d8576b"
             ],
             [
              0.6666666666666666,
              "#ed7953"
             ],
             [
              0.7777777777777778,
              "#fb9f3a"
             ],
             [
              0.8888888888888888,
              "#fdca26"
             ],
             [
              1,
              "#f0f921"
             ]
            ],
            "type": "histogram2d"
           }
          ],
          "histogram2dcontour": [
           {
            "colorbar": {
             "outlinewidth": 0,
             "ticks": ""
            },
            "colorscale": [
             [
              0,
              "#0d0887"
             ],
             [
              0.1111111111111111,
              "#46039f"
             ],
             [
              0.2222222222222222,
              "#7201a8"
             ],
             [
              0.3333333333333333,
              "#9c179e"
             ],
             [
              0.4444444444444444,
              "#bd3786"
             ],
             [
              0.5555555555555556,
              "#d8576b"
             ],
             [
              0.6666666666666666,
              "#ed7953"
             ],
             [
              0.7777777777777778,
              "#fb9f3a"
             ],
             [
              0.8888888888888888,
              "#fdca26"
             ],
             [
              1,
              "#f0f921"
             ]
            ],
            "type": "histogram2dcontour"
           }
          ],
          "mesh3d": [
           {
            "colorbar": {
             "outlinewidth": 0,
             "ticks": ""
            },
            "type": "mesh3d"
           }
          ],
          "parcoords": [
           {
            "line": {
             "colorbar": {
              "outlinewidth": 0,
              "ticks": ""
             }
            },
            "type": "parcoords"
           }
          ],
          "pie": [
           {
            "automargin": true,
            "type": "pie"
           }
          ],
          "scatter": [
           {
            "fillpattern": {
             "fillmode": "overlay",
             "size": 10,
             "solidity": 0.2
            },
            "type": "scatter"
           }
          ],
          "scatter3d": [
           {
            "line": {
             "colorbar": {
              "outlinewidth": 0,
              "ticks": ""
             }
            },
            "marker": {
             "colorbar": {
              "outlinewidth": 0,
              "ticks": ""
             }
            },
            "type": "scatter3d"
           }
          ],
          "scattercarpet": [
           {
            "marker": {
             "colorbar": {
              "outlinewidth": 0,
              "ticks": ""
             }
            },
            "type": "scattercarpet"
           }
          ],
          "scattergeo": [
           {
            "marker": {
             "colorbar": {
              "outlinewidth": 0,
              "ticks": ""
             }
            },
            "type": "scattergeo"
           }
          ],
          "scattergl": [
           {
            "marker": {
             "colorbar": {
              "outlinewidth": 0,
              "ticks": ""
             }
            },
            "type": "scattergl"
           }
          ],
          "scattermapbox": [
           {
            "marker": {
             "colorbar": {
              "outlinewidth": 0,
              "ticks": ""
             }
            },
            "type": "scattermapbox"
           }
          ],
          "scatterpolar": [
           {
            "marker": {
             "colorbar": {
              "outlinewidth": 0,
              "ticks": ""
             }
            },
            "type": "scatterpolar"
           }
          ],
          "scatterpolargl": [
           {
            "marker": {
             "colorbar": {
              "outlinewidth": 0,
              "ticks": ""
             }
            },
            "type": "scatterpolargl"
           }
          ],
          "scatterternary": [
           {
            "marker": {
             "colorbar": {
              "outlinewidth": 0,
              "ticks": ""
             }
            },
            "type": "scatterternary"
           }
          ],
          "surface": [
           {
            "colorbar": {
             "outlinewidth": 0,
             "ticks": ""
            },
            "colorscale": [
             [
              0,
              "#0d0887"
             ],
             [
              0.1111111111111111,
              "#46039f"
             ],
             [
              0.2222222222222222,
              "#7201a8"
             ],
             [
              0.3333333333333333,
              "#9c179e"
             ],
             [
              0.4444444444444444,
              "#bd3786"
             ],
             [
              0.5555555555555556,
              "#d8576b"
             ],
             [
              0.6666666666666666,
              "#ed7953"
             ],
             [
              0.7777777777777778,
              "#fb9f3a"
             ],
             [
              0.8888888888888888,
              "#fdca26"
             ],
             [
              1,
              "#f0f921"
             ]
            ],
            "type": "surface"
           }
          ],
          "table": [
           {
            "cells": {
             "fill": {
              "color": "#EBF0F8"
             },
             "line": {
              "color": "white"
             }
            },
            "header": {
             "fill": {
              "color": "#C8D4E3"
             },
             "line": {
              "color": "white"
             }
            },
            "type": "table"
           }
          ]
         },
         "layout": {
          "annotationdefaults": {
           "arrowcolor": "#2a3f5f",
           "arrowhead": 0,
           "arrowwidth": 1
          },
          "autotypenumbers": "strict",
          "coloraxis": {
           "colorbar": {
            "outlinewidth": 0,
            "ticks": ""
           }
          },
          "colorscale": {
           "diverging": [
            [
             0,
             "#8e0152"
            ],
            [
             0.1,
             "#c51b7d"
            ],
            [
             0.2,
             "#de77ae"
            ],
            [
             0.3,
             "#f1b6da"
            ],
            [
             0.4,
             "#fde0ef"
            ],
            [
             0.5,
             "#f7f7f7"
            ],
            [
             0.6,
             "#e6f5d0"
            ],
            [
             0.7,
             "#b8e186"
            ],
            [
             0.8,
             "#7fbc41"
            ],
            [
             0.9,
             "#4d9221"
            ],
            [
             1,
             "#276419"
            ]
           ],
           "sequential": [
            [
             0,
             "#0d0887"
            ],
            [
             0.1111111111111111,
             "#46039f"
            ],
            [
             0.2222222222222222,
             "#7201a8"
            ],
            [
             0.3333333333333333,
             "#9c179e"
            ],
            [
             0.4444444444444444,
             "#bd3786"
            ],
            [
             0.5555555555555556,
             "#d8576b"
            ],
            [
             0.6666666666666666,
             "#ed7953"
            ],
            [
             0.7777777777777778,
             "#fb9f3a"
            ],
            [
             0.8888888888888888,
             "#fdca26"
            ],
            [
             1,
             "#f0f921"
            ]
           ],
           "sequentialminus": [
            [
             0,
             "#0d0887"
            ],
            [
             0.1111111111111111,
             "#46039f"
            ],
            [
             0.2222222222222222,
             "#7201a8"
            ],
            [
             0.3333333333333333,
             "#9c179e"
            ],
            [
             0.4444444444444444,
             "#bd3786"
            ],
            [
             0.5555555555555556,
             "#d8576b"
            ],
            [
             0.6666666666666666,
             "#ed7953"
            ],
            [
             0.7777777777777778,
             "#fb9f3a"
            ],
            [
             0.8888888888888888,
             "#fdca26"
            ],
            [
             1,
             "#f0f921"
            ]
           ]
          },
          "colorway": [
           "#636efa",
           "#EF553B",
           "#00cc96",
           "#ab63fa",
           "#FFA15A",
           "#19d3f3",
           "#FF6692",
           "#B6E880",
           "#FF97FF",
           "#FECB52"
          ],
          "font": {
           "color": "#2a3f5f"
          },
          "geo": {
           "bgcolor": "white",
           "lakecolor": "white",
           "landcolor": "#E5ECF6",
           "showlakes": true,
           "showland": true,
           "subunitcolor": "white"
          },
          "hoverlabel": {
           "align": "left"
          },
          "hovermode": "closest",
          "mapbox": {
           "style": "light"
          },
          "paper_bgcolor": "white",
          "plot_bgcolor": "#E5ECF6",
          "polar": {
           "angularaxis": {
            "gridcolor": "white",
            "linecolor": "white",
            "ticks": ""
           },
           "bgcolor": "#E5ECF6",
           "radialaxis": {
            "gridcolor": "white",
            "linecolor": "white",
            "ticks": ""
           }
          },
          "scene": {
           "xaxis": {
            "backgroundcolor": "#E5ECF6",
            "gridcolor": "white",
            "gridwidth": 2,
            "linecolor": "white",
            "showbackground": true,
            "ticks": "",
            "zerolinecolor": "white"
           },
           "yaxis": {
            "backgroundcolor": "#E5ECF6",
            "gridcolor": "white",
            "gridwidth": 2,
            "linecolor": "white",
            "showbackground": true,
            "ticks": "",
            "zerolinecolor": "white"
           },
           "zaxis": {
            "backgroundcolor": "#E5ECF6",
            "gridcolor": "white",
            "gridwidth": 2,
            "linecolor": "white",
            "showbackground": true,
            "ticks": "",
            "zerolinecolor": "white"
           }
          },
          "shapedefaults": {
           "line": {
            "color": "#2a3f5f"
           }
          },
          "ternary": {
           "aaxis": {
            "gridcolor": "white",
            "linecolor": "white",
            "ticks": ""
           },
           "baxis": {
            "gridcolor": "white",
            "linecolor": "white",
            "ticks": ""
           },
           "bgcolor": "#E5ECF6",
           "caxis": {
            "gridcolor": "white",
            "linecolor": "white",
            "ticks": ""
           }
          },
          "title": {
           "x": 0.05
          },
          "xaxis": {
           "automargin": true,
           "gridcolor": "white",
           "linecolor": "white",
           "ticks": "",
           "title": {
            "standoff": 15
           },
           "zerolinecolor": "white",
           "zerolinewidth": 2
          },
          "yaxis": {
           "automargin": true,
           "gridcolor": "white",
           "linecolor": "white",
           "ticks": "",
           "title": {
            "standoff": 15
           },
           "zerolinecolor": "white",
           "zerolinewidth": 2
          }
         }
        },
        "title": {
         "text": "Totals by Country"
        }
       }
      }
     },
     "metadata": {},
     "output_type": "display_data"
    }
   ],
   "source": [
    "world_plot2(df_totals,'Production','YlOrRd')"
   ]
  },
  {
   "cell_type": "code",
   "execution_count": 42,
   "metadata": {},
   "outputs": [
    {
     "data": {
      "application/vnd.plotly.v1+json": {
       "config": {
        "plotlyServerURL": "https://plot.ly"
       },
       "data": [
        {
         "coloraxis": "coloraxis",
         "geo": "geo",
         "hovertemplate": "<b>%{hovertext}</b><br><br>Code=%{location}<br>Production/Area1000=%{z}<extra></extra>",
         "hovertext": [
          "Angola",
          "Bolivia",
          "Brazil",
          "Burundi",
          "Ecuador",
          "Indonesia",
          "Madagascar",
          "Malawi",
          "Papua New Guinea",
          "Paraguay",
          "Peru",
          "Rwanda",
          "Timor-Leste",
          "Zimbabwe",
          "Congo",
          "Cuba",
          "Dominican Republic",
          "Haiti",
          "Philippines",
          "Tanzania",
          "Zambia",
          "Cameroon",
          "Central African Republic",
          "Colombia",
          "Costa Rica",
          "Côte d'Ivoire",
          "Democratic Republic of Congo",
          "El Salvador",
          "Equatorial Guinea",
          "Ethiopia",
          "Gabon",
          "Ghana",
          "Guatemala",
          "Guinea",
          "Guyana",
          "Honduras",
          "India",
          "Jamaica",
          "Kenya",
          "Lao People's Democratic Republic",
          "Liberia",
          "Mexico",
          "Nepal",
          "Nicaragua",
          "Nigeria",
          "Panama",
          "Sierra Leone",
          "Sri Lanka",
          "Thailand",
          "Togo",
          "Trinidad & Tobago",
          "Uganda",
          "Venezuela",
          "Vietnam",
          "Yemen"
         ],
         "locations": [
          "AGO",
          "BOL",
          "BRA",
          "BDI",
          "ECU",
          "IDN",
          "MDG",
          "MWI",
          "PNG",
          "PRY",
          "PER",
          "RWA",
          null,
          "ZWE",
          null,
          "CUB",
          "DOM",
          "HTI",
          "PHL",
          "TZA",
          "ZMB",
          "CMR",
          "CAF",
          "COL",
          "CRI",
          "CIV",
          null,
          "SLV",
          "GNQ",
          "ETH",
          "GAB",
          "GHA",
          "GTM",
          "GIN",
          "GUY",
          "HND",
          "IND",
          "JAM",
          "KEN",
          null,
          "LBR",
          "MEX",
          "NPL",
          "NIC",
          "NGA",
          "PAN",
          "SLE",
          "LKA",
          "THA",
          "TGO",
          null,
          "UGA",
          "VEN",
          "VNM",
          "YEM"
         ],
         "name": "",
         "type": "choropleth",
         "z": [
          1.0955182481751826,
          3.139962460665167,
          146.94886772970656,
          373.56676248652525,
          111.69575999520387,
          134.8072520344498,
          29.685394376202012,
          11.569779885891764,
          64.92833138881689,
          2.5466864167178853,
          68.9586624079924,
          359.0802908345358,
          null,
          5.642510881253522,
          null,
          54.00755096518134,
          311.0508495793146,
          419.7107387387389,
          49.47811133333334,
          26.00740736038058,
          1.7021217935260657,
          47.6281804223456,
          4.921010170405661,
          316.07375876934964,
          1173.0264520547944,
          246.1000164361472,
          null,
          2234.3917732046953,
          0.6001568571530427,
          130.84698542062839,
          0.16881834518263364,
          4.45898791382469,
          1074.541597942878,
          32.70639843486254,
          0.8360554312482263,
          992.1742242840576,
          41.68705315029554,
          81.80673278136656,
          50.78090484124701,
          null,
          2.240263087007273,
          66.35717614255657,
          0.17242375034821067,
          351.48770297530933,
          1.4787309151215449,
          62.11276451869532,
          20.24463897407304,
          18.72404054260021,
          54.374250272840676,
          82.59001672977018,
          null,
          409.29108446730834,
          36.24151629394017,
          1449.397580688989,
          6.0281276516758595
         ]
        }
       ],
       "layout": {
        "coloraxis": {
         "colorbar": {
          "title": {
           "text": "Production/Area1000"
          }
         },
         "colorscale": [
          [
           0,
           "rgb(255,255,204)"
          ],
          [
           0.125,
           "rgb(255,237,160)"
          ],
          [
           0.25,
           "rgb(254,217,118)"
          ],
          [
           0.375,
           "rgb(254,178,76)"
          ],
          [
           0.5,
           "rgb(253,141,60)"
          ],
          [
           0.625,
           "rgb(252,78,42)"
          ],
          [
           0.75,
           "rgb(227,26,28)"
          ],
          [
           0.875,
           "rgb(189,0,38)"
          ],
          [
           1,
           "rgb(128,0,38)"
          ]
         ]
        },
        "geo": {
         "center": {},
         "domain": {
          "x": [
           0,
           1
          ],
          "y": [
           0,
           1
          ]
         },
         "scope": "world"
        },
        "legend": {
         "tracegroupgap": 0
        },
        "margin": {
         "b": 10,
         "l": 0,
         "r": 0,
         "t": 40
        },
        "template": {
         "data": {
          "bar": [
           {
            "error_x": {
             "color": "#2a3f5f"
            },
            "error_y": {
             "color": "#2a3f5f"
            },
            "marker": {
             "line": {
              "color": "#E5ECF6",
              "width": 0.5
             },
             "pattern": {
              "fillmode": "overlay",
              "size": 10,
              "solidity": 0.2
             }
            },
            "type": "bar"
           }
          ],
          "barpolar": [
           {
            "marker": {
             "line": {
              "color": "#E5ECF6",
              "width": 0.5
             },
             "pattern": {
              "fillmode": "overlay",
              "size": 10,
              "solidity": 0.2
             }
            },
            "type": "barpolar"
           }
          ],
          "carpet": [
           {
            "aaxis": {
             "endlinecolor": "#2a3f5f",
             "gridcolor": "white",
             "linecolor": "white",
             "minorgridcolor": "white",
             "startlinecolor": "#2a3f5f"
            },
            "baxis": {
             "endlinecolor": "#2a3f5f",
             "gridcolor": "white",
             "linecolor": "white",
             "minorgridcolor": "white",
             "startlinecolor": "#2a3f5f"
            },
            "type": "carpet"
           }
          ],
          "choropleth": [
           {
            "colorbar": {
             "outlinewidth": 0,
             "ticks": ""
            },
            "type": "choropleth"
           }
          ],
          "contour": [
           {
            "colorbar": {
             "outlinewidth": 0,
             "ticks": ""
            },
            "colorscale": [
             [
              0,
              "#0d0887"
             ],
             [
              0.1111111111111111,
              "#46039f"
             ],
             [
              0.2222222222222222,
              "#7201a8"
             ],
             [
              0.3333333333333333,
              "#9c179e"
             ],
             [
              0.4444444444444444,
              "#bd3786"
             ],
             [
              0.5555555555555556,
              "#d8576b"
             ],
             [
              0.6666666666666666,
              "#ed7953"
             ],
             [
              0.7777777777777778,
              "#fb9f3a"
             ],
             [
              0.8888888888888888,
              "#fdca26"
             ],
             [
              1,
              "#f0f921"
             ]
            ],
            "type": "contour"
           }
          ],
          "contourcarpet": [
           {
            "colorbar": {
             "outlinewidth": 0,
             "ticks": ""
            },
            "type": "contourcarpet"
           }
          ],
          "heatmap": [
           {
            "colorbar": {
             "outlinewidth": 0,
             "ticks": ""
            },
            "colorscale": [
             [
              0,
              "#0d0887"
             ],
             [
              0.1111111111111111,
              "#46039f"
             ],
             [
              0.2222222222222222,
              "#7201a8"
             ],
             [
              0.3333333333333333,
              "#9c179e"
             ],
             [
              0.4444444444444444,
              "#bd3786"
             ],
             [
              0.5555555555555556,
              "#d8576b"
             ],
             [
              0.6666666666666666,
              "#ed7953"
             ],
             [
              0.7777777777777778,
              "#fb9f3a"
             ],
             [
              0.8888888888888888,
              "#fdca26"
             ],
             [
              1,
              "#f0f921"
             ]
            ],
            "type": "heatmap"
           }
          ],
          "heatmapgl": [
           {
            "colorbar": {
             "outlinewidth": 0,
             "ticks": ""
            },
            "colorscale": [
             [
              0,
              "#0d0887"
             ],
             [
              0.1111111111111111,
              "#46039f"
             ],
             [
              0.2222222222222222,
              "#7201a8"
             ],
             [
              0.3333333333333333,
              "#9c179e"
             ],
             [
              0.4444444444444444,
              "#bd3786"
             ],
             [
              0.5555555555555556,
              "#d8576b"
             ],
             [
              0.6666666666666666,
              "#ed7953"
             ],
             [
              0.7777777777777778,
              "#fb9f3a"
             ],
             [
              0.8888888888888888,
              "#fdca26"
             ],
             [
              1,
              "#f0f921"
             ]
            ],
            "type": "heatmapgl"
           }
          ],
          "histogram": [
           {
            "marker": {
             "pattern": {
              "fillmode": "overlay",
              "size": 10,
              "solidity": 0.2
             }
            },
            "type": "histogram"
           }
          ],
          "histogram2d": [
           {
            "colorbar": {
             "outlinewidth": 0,
             "ticks": ""
            },
            "colorscale": [
             [
              0,
              "#0d0887"
             ],
             [
              0.1111111111111111,
              "#46039f"
             ],
             [
              0.2222222222222222,
              "#7201a8"
             ],
             [
              0.3333333333333333,
              "#9c179e"
             ],
             [
              0.4444444444444444,
              "#bd3786"
             ],
             [
              0.5555555555555556,
              "#d8576b"
             ],
             [
              0.6666666666666666,
              "#ed7953"
             ],
             [
              0.7777777777777778,
              "#fb9f3a"
             ],
             [
              0.8888888888888888,
              "#fdca26"
             ],
             [
              1,
              "#f0f921"
             ]
            ],
            "type": "histogram2d"
           }
          ],
          "histogram2dcontour": [
           {
            "colorbar": {
             "outlinewidth": 0,
             "ticks": ""
            },
            "colorscale": [
             [
              0,
              "#0d0887"
             ],
             [
              0.1111111111111111,
              "#46039f"
             ],
             [
              0.2222222222222222,
              "#7201a8"
             ],
             [
              0.3333333333333333,
              "#9c179e"
             ],
             [
              0.4444444444444444,
              "#bd3786"
             ],
             [
              0.5555555555555556,
              "#d8576b"
             ],
             [
              0.6666666666666666,
              "#ed7953"
             ],
             [
              0.7777777777777778,
              "#fb9f3a"
             ],
             [
              0.8888888888888888,
              "#fdca26"
             ],
             [
              1,
              "#f0f921"
             ]
            ],
            "type": "histogram2dcontour"
           }
          ],
          "mesh3d": [
           {
            "colorbar": {
             "outlinewidth": 0,
             "ticks": ""
            },
            "type": "mesh3d"
           }
          ],
          "parcoords": [
           {
            "line": {
             "colorbar": {
              "outlinewidth": 0,
              "ticks": ""
             }
            },
            "type": "parcoords"
           }
          ],
          "pie": [
           {
            "automargin": true,
            "type": "pie"
           }
          ],
          "scatter": [
           {
            "fillpattern": {
             "fillmode": "overlay",
             "size": 10,
             "solidity": 0.2
            },
            "type": "scatter"
           }
          ],
          "scatter3d": [
           {
            "line": {
             "colorbar": {
              "outlinewidth": 0,
              "ticks": ""
             }
            },
            "marker": {
             "colorbar": {
              "outlinewidth": 0,
              "ticks": ""
             }
            },
            "type": "scatter3d"
           }
          ],
          "scattercarpet": [
           {
            "marker": {
             "colorbar": {
              "outlinewidth": 0,
              "ticks": ""
             }
            },
            "type": "scattercarpet"
           }
          ],
          "scattergeo": [
           {
            "marker": {
             "colorbar": {
              "outlinewidth": 0,
              "ticks": ""
             }
            },
            "type": "scattergeo"
           }
          ],
          "scattergl": [
           {
            "marker": {
             "colorbar": {
              "outlinewidth": 0,
              "ticks": ""
             }
            },
            "type": "scattergl"
           }
          ],
          "scattermapbox": [
           {
            "marker": {
             "colorbar": {
              "outlinewidth": 0,
              "ticks": ""
             }
            },
            "type": "scattermapbox"
           }
          ],
          "scatterpolar": [
           {
            "marker": {
             "colorbar": {
              "outlinewidth": 0,
              "ticks": ""
             }
            },
            "type": "scatterpolar"
           }
          ],
          "scatterpolargl": [
           {
            "marker": {
             "colorbar": {
              "outlinewidth": 0,
              "ticks": ""
             }
            },
            "type": "scatterpolargl"
           }
          ],
          "scatterternary": [
           {
            "marker": {
             "colorbar": {
              "outlinewidth": 0,
              "ticks": ""
             }
            },
            "type": "scatterternary"
           }
          ],
          "surface": [
           {
            "colorbar": {
             "outlinewidth": 0,
             "ticks": ""
            },
            "colorscale": [
             [
              0,
              "#0d0887"
             ],
             [
              0.1111111111111111,
              "#46039f"
             ],
             [
              0.2222222222222222,
              "#7201a8"
             ],
             [
              0.3333333333333333,
              "#9c179e"
             ],
             [
              0.4444444444444444,
              "#bd3786"
             ],
             [
              0.5555555555555556,
              "#d8576b"
             ],
             [
              0.6666666666666666,
              "#ed7953"
             ],
             [
              0.7777777777777778,
              "#fb9f3a"
             ],
             [
              0.8888888888888888,
              "#fdca26"
             ],
             [
              1,
              "#f0f921"
             ]
            ],
            "type": "surface"
           }
          ],
          "table": [
           {
            "cells": {
             "fill": {
              "color": "#EBF0F8"
             },
             "line": {
              "color": "white"
             }
            },
            "header": {
             "fill": {
              "color": "#C8D4E3"
             },
             "line": {
              "color": "white"
             }
            },
            "type": "table"
           }
          ]
         },
         "layout": {
          "annotationdefaults": {
           "arrowcolor": "#2a3f5f",
           "arrowhead": 0,
           "arrowwidth": 1
          },
          "autotypenumbers": "strict",
          "coloraxis": {
           "colorbar": {
            "outlinewidth": 0,
            "ticks": ""
           }
          },
          "colorscale": {
           "diverging": [
            [
             0,
             "#8e0152"
            ],
            [
             0.1,
             "#c51b7d"
            ],
            [
             0.2,
             "#de77ae"
            ],
            [
             0.3,
             "#f1b6da"
            ],
            [
             0.4,
             "#fde0ef"
            ],
            [
             0.5,
             "#f7f7f7"
            ],
            [
             0.6,
             "#e6f5d0"
            ],
            [
             0.7,
             "#b8e186"
            ],
            [
             0.8,
             "#7fbc41"
            ],
            [
             0.9,
             "#4d9221"
            ],
            [
             1,
             "#276419"
            ]
           ],
           "sequential": [
            [
             0,
             "#0d0887"
            ],
            [
             0.1111111111111111,
             "#46039f"
            ],
            [
             0.2222222222222222,
             "#7201a8"
            ],
            [
             0.3333333333333333,
             "#9c179e"
            ],
            [
             0.4444444444444444,
             "#bd3786"
            ],
            [
             0.5555555555555556,
             "#d8576b"
            ],
            [
             0.6666666666666666,
             "#ed7953"
            ],
            [
             0.7777777777777778,
             "#fb9f3a"
            ],
            [
             0.8888888888888888,
             "#fdca26"
            ],
            [
             1,
             "#f0f921"
            ]
           ],
           "sequentialminus": [
            [
             0,
             "#0d0887"
            ],
            [
             0.1111111111111111,
             "#46039f"
            ],
            [
             0.2222222222222222,
             "#7201a8"
            ],
            [
             0.3333333333333333,
             "#9c179e"
            ],
            [
             0.4444444444444444,
             "#bd3786"
            ],
            [
             0.5555555555555556,
             "#d8576b"
            ],
            [
             0.6666666666666666,
             "#ed7953"
            ],
            [
             0.7777777777777778,
             "#fb9f3a"
            ],
            [
             0.8888888888888888,
             "#fdca26"
            ],
            [
             1,
             "#f0f921"
            ]
           ]
          },
          "colorway": [
           "#636efa",
           "#EF553B",
           "#00cc96",
           "#ab63fa",
           "#FFA15A",
           "#19d3f3",
           "#FF6692",
           "#B6E880",
           "#FF97FF",
           "#FECB52"
          ],
          "font": {
           "color": "#2a3f5f"
          },
          "geo": {
           "bgcolor": "white",
           "lakecolor": "white",
           "landcolor": "#E5ECF6",
           "showlakes": true,
           "showland": true,
           "subunitcolor": "white"
          },
          "hoverlabel": {
           "align": "left"
          },
          "hovermode": "closest",
          "mapbox": {
           "style": "light"
          },
          "paper_bgcolor": "white",
          "plot_bgcolor": "#E5ECF6",
          "polar": {
           "angularaxis": {
            "gridcolor": "white",
            "linecolor": "white",
            "ticks": ""
           },
           "bgcolor": "#E5ECF6",
           "radialaxis": {
            "gridcolor": "white",
            "linecolor": "white",
            "ticks": ""
           }
          },
          "scene": {
           "xaxis": {
            "backgroundcolor": "#E5ECF6",
            "gridcolor": "white",
            "gridwidth": 2,
            "linecolor": "white",
            "showbackground": true,
            "ticks": "",
            "zerolinecolor": "white"
           },
           "yaxis": {
            "backgroundcolor": "#E5ECF6",
            "gridcolor": "white",
            "gridwidth": 2,
            "linecolor": "white",
            "showbackground": true,
            "ticks": "",
            "zerolinecolor": "white"
           },
           "zaxis": {
            "backgroundcolor": "#E5ECF6",
            "gridcolor": "white",
            "gridwidth": 2,
            "linecolor": "white",
            "showbackground": true,
            "ticks": "",
            "zerolinecolor": "white"
           }
          },
          "shapedefaults": {
           "line": {
            "color": "#2a3f5f"
           }
          },
          "ternary": {
           "aaxis": {
            "gridcolor": "white",
            "linecolor": "white",
            "ticks": ""
           },
           "baxis": {
            "gridcolor": "white",
            "linecolor": "white",
            "ticks": ""
           },
           "bgcolor": "#E5ECF6",
           "caxis": {
            "gridcolor": "white",
            "linecolor": "white",
            "ticks": ""
           }
          },
          "title": {
           "x": 0.05
          },
          "xaxis": {
           "automargin": true,
           "gridcolor": "white",
           "linecolor": "white",
           "ticks": "",
           "title": {
            "standoff": 15
           },
           "zerolinecolor": "white",
           "zerolinewidth": 2
          },
          "yaxis": {
           "automargin": true,
           "gridcolor": "white",
           "linecolor": "white",
           "ticks": "",
           "title": {
            "standoff": 15
           },
           "zerolinecolor": "white",
           "zerolinewidth": 2
          }
         }
        },
        "title": {
         "text": "Totals by Country"
        }
       }
      }
     },
     "metadata": {},
     "output_type": "display_data"
    }
   ],
   "source": [
    "world_plot2(df_totals,'Production/Area1000','YlOrRd')"
   ]
  },
  {
   "cell_type": "code",
   "execution_count": 57,
   "metadata": {},
   "outputs": [
    {
     "ename": "ValueError",
     "evalue": "Could not interpret value `Area` for parameter `size`",
     "output_type": "error",
     "traceback": [
      "\u001b[1;31m---------------------------------------------------------------------------\u001b[0m",
      "\u001b[1;31mValueError\u001b[0m                                Traceback (most recent call last)",
      "Cell \u001b[1;32mIn[57], line 2\u001b[0m\n\u001b[0;32m      1\u001b[0m \u001b[39m# Create a correlation seaborn plot between production and surface area\u001b[39;00m\n\u001b[1;32m----> 2\u001b[0m sns\u001b[39m.\u001b[39;49mscatterplot(df_totals,y\u001b[39m=\u001b[39;49m\u001b[39m'\u001b[39;49m\u001b[39mProduction\u001b[39;49m\u001b[39m'\u001b[39;49m,x\u001b[39m=\u001b[39;49m\u001b[39m'\u001b[39;49m\u001b[39mLatitude\u001b[39;49m\u001b[39m'\u001b[39;49m,hue\u001b[39m=\u001b[39;49m\u001b[39m'\u001b[39;49m\u001b[39mContinent\u001b[39;49m\u001b[39m'\u001b[39;49m,size\u001b[39m=\u001b[39;49m\u001b[39m'\u001b[39;49m\u001b[39mArea\u001b[39;49m\u001b[39m'\u001b[39;49m,sizes\u001b[39m=\u001b[39;49m(\u001b[39m40\u001b[39;49m,\u001b[39m400\u001b[39;49m),alpha\u001b[39m=\u001b[39;49m\u001b[39m0.7\u001b[39;49m)\n\u001b[0;32m      3\u001b[0m plt\u001b[39m.\u001b[39mshow()\n",
      "File \u001b[1;32md:\\Python\\Python311\\Lib\\site-packages\\seaborn\\relational.py:742\u001b[0m, in \u001b[0;36mscatterplot\u001b[1;34m(data, x, y, hue, size, style, palette, hue_order, hue_norm, sizes, size_order, size_norm, markers, style_order, legend, ax, **kwargs)\u001b[0m\n\u001b[0;32m    732\u001b[0m \u001b[39mdef\u001b[39;00m \u001b[39mscatterplot\u001b[39m(\n\u001b[0;32m    733\u001b[0m     data\u001b[39m=\u001b[39m\u001b[39mNone\u001b[39;00m, \u001b[39m*\u001b[39m,\n\u001b[0;32m    734\u001b[0m     x\u001b[39m=\u001b[39m\u001b[39mNone\u001b[39;00m, y\u001b[39m=\u001b[39m\u001b[39mNone\u001b[39;00m, hue\u001b[39m=\u001b[39m\u001b[39mNone\u001b[39;00m, size\u001b[39m=\u001b[39m\u001b[39mNone\u001b[39;00m, style\u001b[39m=\u001b[39m\u001b[39mNone\u001b[39;00m,\n\u001b[1;32m   (...)\u001b[0m\n\u001b[0;32m    738\u001b[0m     \u001b[39m*\u001b[39m\u001b[39m*\u001b[39mkwargs\n\u001b[0;32m    739\u001b[0m ):\n\u001b[0;32m    741\u001b[0m     variables \u001b[39m=\u001b[39m _ScatterPlotter\u001b[39m.\u001b[39mget_semantics(\u001b[39mlocals\u001b[39m())\n\u001b[1;32m--> 742\u001b[0m     p \u001b[39m=\u001b[39m _ScatterPlotter(data\u001b[39m=\u001b[39;49mdata, variables\u001b[39m=\u001b[39;49mvariables, legend\u001b[39m=\u001b[39;49mlegend)\n\u001b[0;32m    744\u001b[0m     p\u001b[39m.\u001b[39mmap_hue(palette\u001b[39m=\u001b[39mpalette, order\u001b[39m=\u001b[39mhue_order, norm\u001b[39m=\u001b[39mhue_norm)\n\u001b[0;32m    745\u001b[0m     p\u001b[39m.\u001b[39mmap_size(sizes\u001b[39m=\u001b[39msizes, order\u001b[39m=\u001b[39msize_order, norm\u001b[39m=\u001b[39msize_norm)\n",
      "File \u001b[1;32md:\\Python\\Python311\\Lib\\site-packages\\seaborn\\relational.py:538\u001b[0m, in \u001b[0;36m_ScatterPlotter.__init__\u001b[1;34m(self, data, variables, legend)\u001b[0m\n\u001b[0;32m    529\u001b[0m \u001b[39mdef\u001b[39;00m \u001b[39m__init__\u001b[39m(\u001b[39mself\u001b[39m, \u001b[39m*\u001b[39m, data\u001b[39m=\u001b[39m\u001b[39mNone\u001b[39;00m, variables\u001b[39m=\u001b[39m{}, legend\u001b[39m=\u001b[39m\u001b[39mNone\u001b[39;00m):\n\u001b[0;32m    530\u001b[0m \n\u001b[0;32m    531\u001b[0m     \u001b[39m# TODO this is messy, we want the mapping to be agnostic about\u001b[39;00m\n\u001b[0;32m    532\u001b[0m     \u001b[39m# the kind of plot to draw, but for the time being we need to set\u001b[39;00m\n\u001b[0;32m    533\u001b[0m     \u001b[39m# this information so the SizeMapping can use it\u001b[39;00m\n\u001b[0;32m    534\u001b[0m     \u001b[39mself\u001b[39m\u001b[39m.\u001b[39m_default_size_range \u001b[39m=\u001b[39m (\n\u001b[0;32m    535\u001b[0m         np\u001b[39m.\u001b[39mr_[\u001b[39m.5\u001b[39m, \u001b[39m2\u001b[39m] \u001b[39m*\u001b[39m np\u001b[39m.\u001b[39msquare(mpl\u001b[39m.\u001b[39mrcParams[\u001b[39m\"\u001b[39m\u001b[39mlines.markersize\u001b[39m\u001b[39m\"\u001b[39m])\n\u001b[0;32m    536\u001b[0m     )\n\u001b[1;32m--> 538\u001b[0m     \u001b[39msuper\u001b[39;49m()\u001b[39m.\u001b[39;49m\u001b[39m__init__\u001b[39;49m(data\u001b[39m=\u001b[39;49mdata, variables\u001b[39m=\u001b[39;49mvariables)\n\u001b[0;32m    540\u001b[0m     \u001b[39mself\u001b[39m\u001b[39m.\u001b[39mlegend \u001b[39m=\u001b[39m legend\n",
      "File \u001b[1;32md:\\Python\\Python311\\Lib\\site-packages\\seaborn\\_oldcore.py:640\u001b[0m, in \u001b[0;36mVectorPlotter.__init__\u001b[1;34m(self, data, variables)\u001b[0m\n\u001b[0;32m    635\u001b[0m \u001b[39m# var_ordered is relevant only for categorical axis variables, and may\u001b[39;00m\n\u001b[0;32m    636\u001b[0m \u001b[39m# be better handled by an internal axis information object that tracks\u001b[39;00m\n\u001b[0;32m    637\u001b[0m \u001b[39m# such information and is set up by the scale_* methods. The analogous\u001b[39;00m\n\u001b[0;32m    638\u001b[0m \u001b[39m# information for numeric axes would be information about log scales.\u001b[39;00m\n\u001b[0;32m    639\u001b[0m \u001b[39mself\u001b[39m\u001b[39m.\u001b[39m_var_ordered \u001b[39m=\u001b[39m {\u001b[39m\"\u001b[39m\u001b[39mx\u001b[39m\u001b[39m\"\u001b[39m: \u001b[39mFalse\u001b[39;00m, \u001b[39m\"\u001b[39m\u001b[39my\u001b[39m\u001b[39m\"\u001b[39m: \u001b[39mFalse\u001b[39;00m}  \u001b[39m# alt., used DefaultDict\u001b[39;00m\n\u001b[1;32m--> 640\u001b[0m \u001b[39mself\u001b[39;49m\u001b[39m.\u001b[39;49massign_variables(data, variables)\n\u001b[0;32m    642\u001b[0m \u001b[39mfor\u001b[39;00m var, \u001b[39mcls\u001b[39m \u001b[39min\u001b[39;00m \u001b[39mself\u001b[39m\u001b[39m.\u001b[39m_semantic_mappings\u001b[39m.\u001b[39mitems():\n\u001b[0;32m    643\u001b[0m \n\u001b[0;32m    644\u001b[0m     \u001b[39m# Create the mapping function\u001b[39;00m\n\u001b[0;32m    645\u001b[0m     map_func \u001b[39m=\u001b[39m partial(\u001b[39mcls\u001b[39m\u001b[39m.\u001b[39mmap, plotter\u001b[39m=\u001b[39m\u001b[39mself\u001b[39m)\n",
      "File \u001b[1;32md:\\Python\\Python311\\Lib\\site-packages\\seaborn\\_oldcore.py:701\u001b[0m, in \u001b[0;36mVectorPlotter.assign_variables\u001b[1;34m(self, data, variables)\u001b[0m\n\u001b[0;32m    699\u001b[0m \u001b[39melse\u001b[39;00m:\n\u001b[0;32m    700\u001b[0m     \u001b[39mself\u001b[39m\u001b[39m.\u001b[39minput_format \u001b[39m=\u001b[39m \u001b[39m\"\u001b[39m\u001b[39mlong\u001b[39m\u001b[39m\"\u001b[39m\n\u001b[1;32m--> 701\u001b[0m     plot_data, variables \u001b[39m=\u001b[39m \u001b[39mself\u001b[39;49m\u001b[39m.\u001b[39;49m_assign_variables_longform(\n\u001b[0;32m    702\u001b[0m         data, \u001b[39m*\u001b[39;49m\u001b[39m*\u001b[39;49mvariables,\n\u001b[0;32m    703\u001b[0m     )\n\u001b[0;32m    705\u001b[0m \u001b[39mself\u001b[39m\u001b[39m.\u001b[39mplot_data \u001b[39m=\u001b[39m plot_data\n\u001b[0;32m    706\u001b[0m \u001b[39mself\u001b[39m\u001b[39m.\u001b[39mvariables \u001b[39m=\u001b[39m variables\n",
      "File \u001b[1;32md:\\Python\\Python311\\Lib\\site-packages\\seaborn\\_oldcore.py:938\u001b[0m, in \u001b[0;36mVectorPlotter._assign_variables_longform\u001b[1;34m(self, data, **kwargs)\u001b[0m\n\u001b[0;32m    933\u001b[0m \u001b[39melif\u001b[39;00m \u001b[39misinstance\u001b[39m(val, (\u001b[39mstr\u001b[39m, \u001b[39mbytes\u001b[39m)):\n\u001b[0;32m    934\u001b[0m \n\u001b[0;32m    935\u001b[0m     \u001b[39m# This looks like a column name but we don't know what it means!\u001b[39;00m\n\u001b[0;32m    937\u001b[0m     err \u001b[39m=\u001b[39m \u001b[39mf\u001b[39m\u001b[39m\"\u001b[39m\u001b[39mCould not interpret value `\u001b[39m\u001b[39m{\u001b[39;00mval\u001b[39m}\u001b[39;00m\u001b[39m` for parameter `\u001b[39m\u001b[39m{\u001b[39;00mkey\u001b[39m}\u001b[39;00m\u001b[39m`\u001b[39m\u001b[39m\"\u001b[39m\n\u001b[1;32m--> 938\u001b[0m     \u001b[39mraise\u001b[39;00m \u001b[39mValueError\u001b[39;00m(err)\n\u001b[0;32m    940\u001b[0m \u001b[39melse\u001b[39;00m:\n\u001b[0;32m    941\u001b[0m \n\u001b[0;32m    942\u001b[0m     \u001b[39m# Otherwise, assume the value is itself data\u001b[39;00m\n\u001b[0;32m    943\u001b[0m \n\u001b[0;32m    944\u001b[0m     \u001b[39m# Raise when data object is present and a vector can't matched\u001b[39;00m\n\u001b[0;32m    945\u001b[0m     \u001b[39mif\u001b[39;00m \u001b[39misinstance\u001b[39m(data, pd\u001b[39m.\u001b[39mDataFrame) \u001b[39mand\u001b[39;00m \u001b[39mnot\u001b[39;00m \u001b[39misinstance\u001b[39m(val, pd\u001b[39m.\u001b[39mSeries):\n",
      "\u001b[1;31mValueError\u001b[0m: Could not interpret value `Area` for parameter `size`"
     ]
    }
   ],
   "source": [
    "# Create a correlation seaborn plot between production and surface area\n",
    "sns.scatterplot(df_totals,y='Production',x='Latitude',hue='Continent',size='Area',sizes=(40,400),alpha=0.7)\n",
    "plt.show()"
   ]
  },
  {
   "cell_type": "code",
   "execution_count": 56,
   "metadata": {},
   "outputs": [
    {
     "ename": "ValueError",
     "evalue": "Could not interpret value `area` for parameter `size`",
     "output_type": "error",
     "traceback": [
      "\u001b[1;31m---------------------------------------------------------------------------\u001b[0m",
      "\u001b[1;31mValueError\u001b[0m                                Traceback (most recent call last)",
      "Cell \u001b[1;32mIn[56], line 2\u001b[0m\n\u001b[0;32m      1\u001b[0m \u001b[39m# Create a correlation seaborn plot between imports and surface area\u001b[39;00m\n\u001b[1;32m----> 2\u001b[0m sns\u001b[39m.\u001b[39;49mscatterplot(df_imports,y\u001b[39m=\u001b[39;49m\u001b[39m'\u001b[39;49m\u001b[39mTotals\u001b[39;49m\u001b[39m'\u001b[39;49m,x\u001b[39m=\u001b[39;49m\u001b[39m'\u001b[39;49m\u001b[39mLatitude\u001b[39;49m\u001b[39m'\u001b[39;49m,hue\u001b[39m=\u001b[39;49m\u001b[39m'\u001b[39;49m\u001b[39mContinent\u001b[39;49m\u001b[39m'\u001b[39;49m,size\u001b[39m=\u001b[39;49m\u001b[39m'\u001b[39;49m\u001b[39marea\u001b[39;49m\u001b[39m'\u001b[39;49m,sizes\u001b[39m=\u001b[39;49m(\u001b[39m40\u001b[39;49m,\u001b[39m400\u001b[39;49m),alpha\u001b[39m=\u001b[39;49m\u001b[39m0.7\u001b[39;49m)\n\u001b[0;32m      3\u001b[0m plt\u001b[39m.\u001b[39mshow()\n",
      "File \u001b[1;32md:\\Python\\Python311\\Lib\\site-packages\\seaborn\\relational.py:742\u001b[0m, in \u001b[0;36mscatterplot\u001b[1;34m(data, x, y, hue, size, style, palette, hue_order, hue_norm, sizes, size_order, size_norm, markers, style_order, legend, ax, **kwargs)\u001b[0m\n\u001b[0;32m    732\u001b[0m \u001b[39mdef\u001b[39;00m \u001b[39mscatterplot\u001b[39m(\n\u001b[0;32m    733\u001b[0m     data\u001b[39m=\u001b[39m\u001b[39mNone\u001b[39;00m, \u001b[39m*\u001b[39m,\n\u001b[0;32m    734\u001b[0m     x\u001b[39m=\u001b[39m\u001b[39mNone\u001b[39;00m, y\u001b[39m=\u001b[39m\u001b[39mNone\u001b[39;00m, hue\u001b[39m=\u001b[39m\u001b[39mNone\u001b[39;00m, size\u001b[39m=\u001b[39m\u001b[39mNone\u001b[39;00m, style\u001b[39m=\u001b[39m\u001b[39mNone\u001b[39;00m,\n\u001b[1;32m   (...)\u001b[0m\n\u001b[0;32m    738\u001b[0m     \u001b[39m*\u001b[39m\u001b[39m*\u001b[39mkwargs\n\u001b[0;32m    739\u001b[0m ):\n\u001b[0;32m    741\u001b[0m     variables \u001b[39m=\u001b[39m _ScatterPlotter\u001b[39m.\u001b[39mget_semantics(\u001b[39mlocals\u001b[39m())\n\u001b[1;32m--> 742\u001b[0m     p \u001b[39m=\u001b[39m _ScatterPlotter(data\u001b[39m=\u001b[39;49mdata, variables\u001b[39m=\u001b[39;49mvariables, legend\u001b[39m=\u001b[39;49mlegend)\n\u001b[0;32m    744\u001b[0m     p\u001b[39m.\u001b[39mmap_hue(palette\u001b[39m=\u001b[39mpalette, order\u001b[39m=\u001b[39mhue_order, norm\u001b[39m=\u001b[39mhue_norm)\n\u001b[0;32m    745\u001b[0m     p\u001b[39m.\u001b[39mmap_size(sizes\u001b[39m=\u001b[39msizes, order\u001b[39m=\u001b[39msize_order, norm\u001b[39m=\u001b[39msize_norm)\n",
      "File \u001b[1;32md:\\Python\\Python311\\Lib\\site-packages\\seaborn\\relational.py:538\u001b[0m, in \u001b[0;36m_ScatterPlotter.__init__\u001b[1;34m(self, data, variables, legend)\u001b[0m\n\u001b[0;32m    529\u001b[0m \u001b[39mdef\u001b[39;00m \u001b[39m__init__\u001b[39m(\u001b[39mself\u001b[39m, \u001b[39m*\u001b[39m, data\u001b[39m=\u001b[39m\u001b[39mNone\u001b[39;00m, variables\u001b[39m=\u001b[39m{}, legend\u001b[39m=\u001b[39m\u001b[39mNone\u001b[39;00m):\n\u001b[0;32m    530\u001b[0m \n\u001b[0;32m    531\u001b[0m     \u001b[39m# TODO this is messy, we want the mapping to be agnostic about\u001b[39;00m\n\u001b[0;32m    532\u001b[0m     \u001b[39m# the kind of plot to draw, but for the time being we need to set\u001b[39;00m\n\u001b[0;32m    533\u001b[0m     \u001b[39m# this information so the SizeMapping can use it\u001b[39;00m\n\u001b[0;32m    534\u001b[0m     \u001b[39mself\u001b[39m\u001b[39m.\u001b[39m_default_size_range \u001b[39m=\u001b[39m (\n\u001b[0;32m    535\u001b[0m         np\u001b[39m.\u001b[39mr_[\u001b[39m.5\u001b[39m, \u001b[39m2\u001b[39m] \u001b[39m*\u001b[39m np\u001b[39m.\u001b[39msquare(mpl\u001b[39m.\u001b[39mrcParams[\u001b[39m\"\u001b[39m\u001b[39mlines.markersize\u001b[39m\u001b[39m\"\u001b[39m])\n\u001b[0;32m    536\u001b[0m     )\n\u001b[1;32m--> 538\u001b[0m     \u001b[39msuper\u001b[39;49m()\u001b[39m.\u001b[39;49m\u001b[39m__init__\u001b[39;49m(data\u001b[39m=\u001b[39;49mdata, variables\u001b[39m=\u001b[39;49mvariables)\n\u001b[0;32m    540\u001b[0m     \u001b[39mself\u001b[39m\u001b[39m.\u001b[39mlegend \u001b[39m=\u001b[39m legend\n",
      "File \u001b[1;32md:\\Python\\Python311\\Lib\\site-packages\\seaborn\\_oldcore.py:640\u001b[0m, in \u001b[0;36mVectorPlotter.__init__\u001b[1;34m(self, data, variables)\u001b[0m\n\u001b[0;32m    635\u001b[0m \u001b[39m# var_ordered is relevant only for categorical axis variables, and may\u001b[39;00m\n\u001b[0;32m    636\u001b[0m \u001b[39m# be better handled by an internal axis information object that tracks\u001b[39;00m\n\u001b[0;32m    637\u001b[0m \u001b[39m# such information and is set up by the scale_* methods. The analogous\u001b[39;00m\n\u001b[0;32m    638\u001b[0m \u001b[39m# information for numeric axes would be information about log scales.\u001b[39;00m\n\u001b[0;32m    639\u001b[0m \u001b[39mself\u001b[39m\u001b[39m.\u001b[39m_var_ordered \u001b[39m=\u001b[39m {\u001b[39m\"\u001b[39m\u001b[39mx\u001b[39m\u001b[39m\"\u001b[39m: \u001b[39mFalse\u001b[39;00m, \u001b[39m\"\u001b[39m\u001b[39my\u001b[39m\u001b[39m\"\u001b[39m: \u001b[39mFalse\u001b[39;00m}  \u001b[39m# alt., used DefaultDict\u001b[39;00m\n\u001b[1;32m--> 640\u001b[0m \u001b[39mself\u001b[39;49m\u001b[39m.\u001b[39;49massign_variables(data, variables)\n\u001b[0;32m    642\u001b[0m \u001b[39mfor\u001b[39;00m var, \u001b[39mcls\u001b[39m \u001b[39min\u001b[39;00m \u001b[39mself\u001b[39m\u001b[39m.\u001b[39m_semantic_mappings\u001b[39m.\u001b[39mitems():\n\u001b[0;32m    643\u001b[0m \n\u001b[0;32m    644\u001b[0m     \u001b[39m# Create the mapping function\u001b[39;00m\n\u001b[0;32m    645\u001b[0m     map_func \u001b[39m=\u001b[39m partial(\u001b[39mcls\u001b[39m\u001b[39m.\u001b[39mmap, plotter\u001b[39m=\u001b[39m\u001b[39mself\u001b[39m)\n",
      "File \u001b[1;32md:\\Python\\Python311\\Lib\\site-packages\\seaborn\\_oldcore.py:701\u001b[0m, in \u001b[0;36mVectorPlotter.assign_variables\u001b[1;34m(self, data, variables)\u001b[0m\n\u001b[0;32m    699\u001b[0m \u001b[39melse\u001b[39;00m:\n\u001b[0;32m    700\u001b[0m     \u001b[39mself\u001b[39m\u001b[39m.\u001b[39minput_format \u001b[39m=\u001b[39m \u001b[39m\"\u001b[39m\u001b[39mlong\u001b[39m\u001b[39m\"\u001b[39m\n\u001b[1;32m--> 701\u001b[0m     plot_data, variables \u001b[39m=\u001b[39m \u001b[39mself\u001b[39;49m\u001b[39m.\u001b[39;49m_assign_variables_longform(\n\u001b[0;32m    702\u001b[0m         data, \u001b[39m*\u001b[39;49m\u001b[39m*\u001b[39;49mvariables,\n\u001b[0;32m    703\u001b[0m     )\n\u001b[0;32m    705\u001b[0m \u001b[39mself\u001b[39m\u001b[39m.\u001b[39mplot_data \u001b[39m=\u001b[39m plot_data\n\u001b[0;32m    706\u001b[0m \u001b[39mself\u001b[39m\u001b[39m.\u001b[39mvariables \u001b[39m=\u001b[39m variables\n",
      "File \u001b[1;32md:\\Python\\Python311\\Lib\\site-packages\\seaborn\\_oldcore.py:938\u001b[0m, in \u001b[0;36mVectorPlotter._assign_variables_longform\u001b[1;34m(self, data, **kwargs)\u001b[0m\n\u001b[0;32m    933\u001b[0m \u001b[39melif\u001b[39;00m \u001b[39misinstance\u001b[39m(val, (\u001b[39mstr\u001b[39m, \u001b[39mbytes\u001b[39m)):\n\u001b[0;32m    934\u001b[0m \n\u001b[0;32m    935\u001b[0m     \u001b[39m# This looks like a column name but we don't know what it means!\u001b[39;00m\n\u001b[0;32m    937\u001b[0m     err \u001b[39m=\u001b[39m \u001b[39mf\u001b[39m\u001b[39m\"\u001b[39m\u001b[39mCould not interpret value `\u001b[39m\u001b[39m{\u001b[39;00mval\u001b[39m}\u001b[39;00m\u001b[39m` for parameter `\u001b[39m\u001b[39m{\u001b[39;00mkey\u001b[39m}\u001b[39;00m\u001b[39m`\u001b[39m\u001b[39m\"\u001b[39m\n\u001b[1;32m--> 938\u001b[0m     \u001b[39mraise\u001b[39;00m \u001b[39mValueError\u001b[39;00m(err)\n\u001b[0;32m    940\u001b[0m \u001b[39melse\u001b[39;00m:\n\u001b[0;32m    941\u001b[0m \n\u001b[0;32m    942\u001b[0m     \u001b[39m# Otherwise, assume the value is itself data\u001b[39;00m\n\u001b[0;32m    943\u001b[0m \n\u001b[0;32m    944\u001b[0m     \u001b[39m# Raise when data object is present and a vector can't matched\u001b[39;00m\n\u001b[0;32m    945\u001b[0m     \u001b[39mif\u001b[39;00m \u001b[39misinstance\u001b[39m(data, pd\u001b[39m.\u001b[39mDataFrame) \u001b[39mand\u001b[39;00m \u001b[39mnot\u001b[39;00m \u001b[39misinstance\u001b[39m(val, pd\u001b[39m.\u001b[39mSeries):\n",
      "\u001b[1;31mValueError\u001b[0m: Could not interpret value `area` for parameter `size`"
     ]
    }
   ],
   "source": [
    "# Create a correlation seaborn plot between imports and surface area\n",
    "sns.scatterplot(df_imports,y='Totals',x='Latitude',hue='Continent',size='area',sizes=(40,400),alpha=0.7)\n",
    "plt.show()"
   ]
  }
 ],
 "metadata": {
  "kernelspec": {
   "display_name": "Python 3",
   "language": "python",
   "name": "python3"
  },
  "language_info": {
   "codemirror_mode": {
    "name": "ipython",
    "version": 3
   },
   "file_extension": ".py",
   "mimetype": "text/x-python",
   "name": "python",
   "nbconvert_exporter": "python",
   "pygments_lexer": "ipython3",
   "version": "3.11.3"
  },
  "orig_nbformat": 4
 },
 "nbformat": 4,
 "nbformat_minor": 2
}
