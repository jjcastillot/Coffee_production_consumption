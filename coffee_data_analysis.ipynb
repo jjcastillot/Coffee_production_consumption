{
 "cells": [
  {
   "cell_type": "code",
   "execution_count": 1,
   "metadata": {},
   "outputs": [],
   "source": [
    "#Import required libraries\n",
    "import matplotlib.pyplot as plt\n",
    "import numpy as np\n",
    "import pandas as pd\n",
    "import seaborn as sns\n",
    "import scipy.stats as stats\n",
    "import math\n",
    "import plotly.express as px\n",
    "from countries_dataset import countries\n",
    "from codes import country_codes\n",
    "from country_surface_area import country_areas\n",
    "from country_latitudes import latitudes\n",
    "sns.set_theme()\n",
    "\n",
    "# Set large float displaying options in pandas\n",
    "pd.options.display.float_format = '{:20,.2f}'.format\n"
   ]
  },
  {
   "cell_type": "code",
   "execution_count": 2,
   "metadata": {},
   "outputs": [
    {
     "name": "stderr",
     "output_type": "stream",
     "text": [
      "d:\\Python\\Python311\\Lib\\site-packages\\openpyxl\\worksheet\\_reader.py:329: UserWarning: Unknown extension is not supported and will be removed\n",
      "  warn(msg)\n",
      "d:\\Python\\Python311\\Lib\\site-packages\\openpyxl\\worksheet\\_reader.py:329: UserWarning: Unknown extension is not supported and will be removed\n",
      "  warn(msg)\n"
     ]
    }
   ],
   "source": [
    "#Import excel files after initial row cleaning\n",
    "\n",
    "#Production data in thousands 60kg bags\n",
    "df_production = pd.read_excel('datasets/1a - Total production.xlsx',skiprows=3,skipfooter=3) \n",
    "df_production['Country'] = df_production['Country'].str.lstrip()\n",
    "df_production['Code'] = df_production['Country'].map(country_codes)\n",
    "df_production['Continent'] = df_production['Country'].map(countries)\n",
    "\n",
    "#Domestic Consumption data in thousands 60kg bags\n",
    "df_consumption = pd.read_excel('datasets/1b - Domestic consumption.xlsx',skiprows=3,skipfooter=3) \n",
    "df_consumption['Country'] = df_consumption['Country'].str.lstrip()\n",
    "df_consumption['Code'] = df_consumption['Country'].map(country_codes)\n",
    "df_consumption['Continent'] = df_consumption['Country'].map(countries)\n",
    "\n",
    "#Gross Openings \n",
    "df_openings = pd.read_excel('datasets/1d - Gross Opening stocks.xlsx',skiprows=3,skipfooter=3) \n",
    "df_openings['Country'] = df_openings['Country'].str.lstrip()\n",
    "df_openings['Code'] = df_openings['Country'].map(country_codes)\n",
    "df_openings['Continent'] = df_openings['Country'].map(countries)\n",
    "\n",
    "#Exports in thousands 60kg bags\n",
    "df_exports = pd.read_excel('datasets/1e - Exports - crop year.xlsx',skiprows=3,skipfooter=3) \n",
    "df_exports['Country'] = df_exports['Country'].str.lstrip()\n",
    "df_exports['Code'] = df_exports['Country'].map(country_codes)\n",
    "df_exports['Continent'] = df_exports['Country'].map(countries)\n",
    "\n",
    "#Imports in thousands 60kg bags\n",
    "df_imports = pd.read_excel('datasets/2b - Imports.xlsx',skiprows=3,skipfooter=3) \n",
    "df_imports['Country'] = df_imports['Country'].str.lstrip()\n",
    "df_imports['Code'] = df_imports['Country'].map(country_codes)\n",
    "df_imports['Continent'] = df_imports['Country'].map(countries)\n",
    "df_imports['Area'] = df_imports['Country'].map(country_areas)\n",
    "df_imports['Latitude'] = df_imports['Country'].map(latitudes)"
   ]
  },
  {
   "cell_type": "code",
   "execution_count": 3,
   "metadata": {},
   "outputs": [
    {
     "data": {
      "text/html": [
       "<div>\n",
       "<style scoped>\n",
       "    .dataframe tbody tr th:only-of-type {\n",
       "        vertical-align: middle;\n",
       "    }\n",
       "\n",
       "    .dataframe tbody tr th {\n",
       "        vertical-align: top;\n",
       "    }\n",
       "\n",
       "    .dataframe thead th {\n",
       "        text-align: right;\n",
       "    }\n",
       "</style>\n",
       "<table border=\"1\" class=\"dataframe\">\n",
       "  <thead>\n",
       "    <tr style=\"text-align: right;\">\n",
       "      <th></th>\n",
       "      <th>Country</th>\n",
       "      <th>Group</th>\n",
       "      <th>1990</th>\n",
       "      <th>1991</th>\n",
       "      <th>1992</th>\n",
       "      <th>1993</th>\n",
       "      <th>1994</th>\n",
       "      <th>1995</th>\n",
       "      <th>1996</th>\n",
       "      <th>1997</th>\n",
       "      <th>...</th>\n",
       "      <th>2013</th>\n",
       "      <th>2014</th>\n",
       "      <th>2015</th>\n",
       "      <th>2016</th>\n",
       "      <th>2017</th>\n",
       "      <th>2018</th>\n",
       "      <th>2019</th>\n",
       "      <th>Totals</th>\n",
       "      <th>Code</th>\n",
       "      <th>Continent</th>\n",
       "    </tr>\n",
       "  </thead>\n",
       "  <tbody>\n",
       "    <tr>\n",
       "      <th>0</th>\n",
       "      <td>Angola</td>\n",
       "      <td>April</td>\n",
       "      <td>50.34</td>\n",
       "      <td>79.33</td>\n",
       "      <td>77.52</td>\n",
       "      <td>32.61</td>\n",
       "      <td>76.80</td>\n",
       "      <td>62.11</td>\n",
       "      <td>70.92</td>\n",
       "      <td>64.33</td>\n",
       "      <td>...</td>\n",
       "      <td>34.94</td>\n",
       "      <td>39.41</td>\n",
       "      <td>40.52</td>\n",
       "      <td>44.83</td>\n",
       "      <td>35.01</td>\n",
       "      <td>41.90</td>\n",
       "      <td>51.84</td>\n",
       "      <td>1,365.78</td>\n",
       "      <td>AGO</td>\n",
       "      <td>Africa</td>\n",
       "    </tr>\n",
       "    <tr>\n",
       "      <th>1</th>\n",
       "      <td>Bolivia</td>\n",
       "      <td>April</td>\n",
       "      <td>122.78</td>\n",
       "      <td>103.54</td>\n",
       "      <td>120.23</td>\n",
       "      <td>50.82</td>\n",
       "      <td>116.94</td>\n",
       "      <td>142.49</td>\n",
       "      <td>124.58</td>\n",
       "      <td>140.72</td>\n",
       "      <td>...</td>\n",
       "      <td>119.91</td>\n",
       "      <td>99.88</td>\n",
       "      <td>84.22</td>\n",
       "      <td>77.98</td>\n",
       "      <td>83.81</td>\n",
       "      <td>82.57</td>\n",
       "      <td>81.27</td>\n",
       "      <td>3,449.50</td>\n",
       "      <td>BOL</td>\n",
       "      <td>South America</td>\n",
       "    </tr>\n",
       "    <tr>\n",
       "      <th>2</th>\n",
       "      <td>Brazil</td>\n",
       "      <td>April</td>\n",
       "      <td>27,285.63</td>\n",
       "      <td>27,293.49</td>\n",
       "      <td>34,603.35</td>\n",
       "      <td>28,166.98</td>\n",
       "      <td>28,192.05</td>\n",
       "      <td>18,060.20</td>\n",
       "      <td>29,196.74</td>\n",
       "      <td>26,148.00</td>\n",
       "      <td>...</td>\n",
       "      <td>54,688.97</td>\n",
       "      <td>53,304.77</td>\n",
       "      <td>52,870.59</td>\n",
       "      <td>56,788.18</td>\n",
       "      <td>52,739.82</td>\n",
       "      <td>65,130.80</td>\n",
       "      <td>58,210.71</td>\n",
       "      <td>1,251,382.32</td>\n",
       "      <td>BRA</td>\n",
       "      <td>South America</td>\n",
       "    </tr>\n",
       "    <tr>\n",
       "      <th>3</th>\n",
       "      <td>Burundi</td>\n",
       "      <td>April</td>\n",
       "      <td>487.39</td>\n",
       "      <td>667.20</td>\n",
       "      <td>620.24</td>\n",
       "      <td>393.35</td>\n",
       "      <td>664.14</td>\n",
       "      <td>433.98</td>\n",
       "      <td>400.97</td>\n",
       "      <td>249.78</td>\n",
       "      <td>...</td>\n",
       "      <td>163.22</td>\n",
       "      <td>247.55</td>\n",
       "      <td>269.46</td>\n",
       "      <td>196.41</td>\n",
       "      <td>202.11</td>\n",
       "      <td>204.34</td>\n",
       "      <td>272.47</td>\n",
       "      <td>10,396.36</td>\n",
       "      <td>BDI</td>\n",
       "      <td>Africa</td>\n",
       "    </tr>\n",
       "    <tr>\n",
       "      <th>4</th>\n",
       "      <td>Ecuador</td>\n",
       "      <td>April</td>\n",
       "      <td>1,503.82</td>\n",
       "      <td>2,123.82</td>\n",
       "      <td>1,185.48</td>\n",
       "      <td>2,069.01</td>\n",
       "      <td>2,375.77</td>\n",
       "      <td>1,888.23</td>\n",
       "      <td>1,992.91</td>\n",
       "      <td>1,190.66</td>\n",
       "      <td>...</td>\n",
       "      <td>665.54</td>\n",
       "      <td>644.01</td>\n",
       "      <td>644.49</td>\n",
       "      <td>644.88</td>\n",
       "      <td>623.57</td>\n",
       "      <td>496.00</td>\n",
       "      <td>558.94</td>\n",
       "      <td>31,672.56</td>\n",
       "      <td>ECU</td>\n",
       "      <td>South America</td>\n",
       "    </tr>\n",
       "  </tbody>\n",
       "</table>\n",
       "<p>5 rows × 35 columns</p>\n",
       "</div>"
      ],
      "text/plain": [
       "   Country  Group                 1990                 1991  \\\n",
       "0   Angola  April                50.34                79.33   \n",
       "1  Bolivia  April               122.78               103.54   \n",
       "2   Brazil  April            27,285.63            27,293.49   \n",
       "3  Burundi  April               487.39               667.20   \n",
       "4  Ecuador  April             1,503.82             2,123.82   \n",
       "\n",
       "                  1992                 1993                 1994  \\\n",
       "0                77.52                32.61                76.80   \n",
       "1               120.23                50.82               116.94   \n",
       "2            34,603.35            28,166.98            28,192.05   \n",
       "3               620.24               393.35               664.14   \n",
       "4             1,185.48             2,069.01             2,375.77   \n",
       "\n",
       "                  1995                 1996                 1997  ...  \\\n",
       "0                62.11                70.92                64.33  ...   \n",
       "1               142.49               124.58               140.72  ...   \n",
       "2            18,060.20            29,196.74            26,148.00  ...   \n",
       "3               433.98               400.97               249.78  ...   \n",
       "4             1,888.23             1,992.91             1,190.66  ...   \n",
       "\n",
       "                  2013                 2014                 2015  \\\n",
       "0                34.94                39.41                40.52   \n",
       "1               119.91                99.88                84.22   \n",
       "2            54,688.97            53,304.77            52,870.59   \n",
       "3               163.22               247.55               269.46   \n",
       "4               665.54               644.01               644.49   \n",
       "\n",
       "                  2016                 2017                 2018  \\\n",
       "0                44.83                35.01                41.90   \n",
       "1                77.98                83.81                82.57   \n",
       "2            56,788.18            52,739.82            65,130.80   \n",
       "3               196.41               202.11               204.34   \n",
       "4               644.88               623.57               496.00   \n",
       "\n",
       "                  2019               Totals  Code      Continent  \n",
       "0                51.84             1,365.78   AGO         Africa  \n",
       "1                81.27             3,449.50   BOL  South America  \n",
       "2            58,210.71         1,251,382.32   BRA  South America  \n",
       "3               272.47            10,396.36   BDI         Africa  \n",
       "4               558.94            31,672.56   ECU  South America  \n",
       "\n",
       "[5 rows x 35 columns]"
      ]
     },
     "execution_count": 3,
     "metadata": {},
     "output_type": "execute_result"
    }
   ],
   "source": [
    "df_production.head()"
   ]
  },
  {
   "cell_type": "code",
   "execution_count": 4,
   "metadata": {},
   "outputs": [],
   "source": [
    "# Create a function that return the top10s for each dataframe with a barplot\n",
    "\n",
    "def top10s(df,color_scale):\n",
    "    top10 = df[['Country','Code','Totals']].sort_values(by='Totals', ascending=False).head(10)\n",
    "    # plot the top 10 producing countries with Seaborn using a bar chart\n",
    "    sns.barplot(x='Country', y='Totals', data=top10,palette=color_scale)\n",
    "    # Edit y axis with \"Total 60kg bags in thousands\"\n",
    "    plt.ylabel('Total 60kg bags in thousands')\n",
    "    # Edit the x axis countries to display them diagonally\n",
    "    plt.xticks(rotation=45)\n",
    "    plt.show()\n",
    "    return top10"
   ]
  },
  {
   "cell_type": "code",
   "execution_count": 5,
   "metadata": {},
   "outputs": [
    {
     "data": {
      "image/png": "[encoded data removed]",
      "text/plain": [
       "<Figure size 640x480 with 1 Axes>"
      ]
     },
     "metadata": {},
     "output_type": "display_data"
    },
    {
     "name": "stdout",
     "output_type": "stream",
     "text": [
      "           Country Code               Totals\n",
      "33   United States  USA           708,460.33\n",
      "11         Germany  DEU           524,689.62\n",
      "15           Italy  ITA           221,201.34\n",
      "27           Japan  JPN           207,046.56\n",
      "10          France  FRA           199,539.46\n",
      "25           Spain  ESP           130,676.54\n",
      "1          Belgium  BEL           124,974.14\n",
      "32  United Kingdom  GBR           112,193.59\n",
      "19     Netherlands  NLD            99,189.06\n",
      "29          Russia  RUS            95,517.85\n"
     ]
    }
   ],
   "source": [
    "top10_imports = top10s(df_imports,'Blues_d')\n",
    "print(top10_imports)"
   ]
  },
  {
   "cell_type": "code",
   "execution_count": 6,
   "metadata": {},
   "outputs": [],
   "source": [
    "def lineplot_imports(df,country_code):\n",
    "    '''Create a line plot of imports for a given country code'''\n",
    "    country_imports = df[df['Code'] == country_code].iloc[:,1:-5].T\n",
    "    country_imports.rename(columns={country_imports.columns[0]:f'{country_code} Imports'},inplace=True)\n",
    "    sns.lineplot(data=country_imports)\n",
    "    plt.xticks(rotation=45)\n",
    "    plt.xlabel('Year')\n",
    "    plt.ylabel('Total 60kg bags in thousands') \n",
    "    plt.show()"
   ]
  },
  {
   "cell_type": "code",
   "execution_count": 7,
   "metadata": {},
   "outputs": [
    {
     "data": {
      "image/png": "[encoded data removed]",
      "text/plain": [
       "<Figure size 640x480 with 1 Axes>"
      ]
     },
     "metadata": {},
     "output_type": "display_data"
    }
   ],
   "source": [
    "lineplot_imports(df_imports,'USA')"
   ]
  },
  {
   "cell_type": "code",
   "execution_count": 8,
   "metadata": {},
   "outputs": [
    {
     "data": {
      "text/html": [
       "<div>\n",
       "<style scoped>\n",
       "    .dataframe tbody tr th:only-of-type {\n",
       "        vertical-align: middle;\n",
       "    }\n",
       "\n",
       "    .dataframe tbody tr th {\n",
       "        vertical-align: top;\n",
       "    }\n",
       "\n",
       "    .dataframe thead th {\n",
       "        text-align: right;\n",
       "    }\n",
       "</style>\n",
       "<table border=\"1\" class=\"dataframe\">\n",
       "  <thead>\n",
       "    <tr style=\"text-align: right;\">\n",
       "      <th></th>\n",
       "      <th>Country</th>\n",
       "      <th>Code</th>\n",
       "      <th>Continent</th>\n",
       "      <th>Production</th>\n",
       "      <th>Domestic Consumption</th>\n",
       "      <th>Exports</th>\n",
       "      <th>Openings</th>\n",
       "      <th>Offset</th>\n",
       "      <th>Exports Ratio</th>\n",
       "      <th>Domestic Consump Ratio</th>\n",
       "      <th>Area</th>\n",
       "      <th>Production/Area1000</th>\n",
       "      <th>Latitude</th>\n",
       "    </tr>\n",
       "  </thead>\n",
       "  <tbody>\n",
       "    <tr>\n",
       "      <th>0</th>\n",
       "      <td>Angola</td>\n",
       "      <td>AGO</td>\n",
       "      <td>Africa</td>\n",
       "      <td>1,365.78</td>\n",
       "      <td>775.00</td>\n",
       "      <td>695.78</td>\n",
       "      <td>3,725.00</td>\n",
       "      <td>3,830.00</td>\n",
       "      <td>0.51</td>\n",
       "      <td>0.57</td>\n",
       "      <td>1,246,700.00</td>\n",
       "      <td>1.10</td>\n",
       "      <td>-11.76</td>\n",
       "    </tr>\n",
       "    <tr>\n",
       "      <th>1</th>\n",
       "      <td>Bolivia</td>\n",
       "      <td>BOL</td>\n",
       "      <td>South America</td>\n",
       "      <td>3,449.50</td>\n",
       "      <td>1,253.00</td>\n",
       "      <td>2,250.50</td>\n",
       "      <td>209.90</td>\n",
       "      <td>263.90</td>\n",
       "      <td>0.65</td>\n",
       "      <td>0.36</td>\n",
       "      <td>1,098,581.00</td>\n",
       "      <td>3.14</td>\n",
       "      <td>-16.50</td>\n",
       "    </tr>\n",
       "    <tr>\n",
       "      <th>2</th>\n",
       "      <td>Brazil</td>\n",
       "      <td>BRA</td>\n",
       "      <td>South America</td>\n",
       "      <td>1,251,382.32</td>\n",
       "      <td>463,745.00</td>\n",
       "      <td>792,421.32</td>\n",
       "      <td>688,076.00</td>\n",
       "      <td>692,860.00</td>\n",
       "      <td>0.63</td>\n",
       "      <td>0.37</td>\n",
       "      <td>8,515,767.00</td>\n",
       "      <td>146.95</td>\n",
       "      <td>-15.78</td>\n",
       "    </tr>\n",
       "    <tr>\n",
       "      <th>3</th>\n",
       "      <td>Burundi</td>\n",
       "      <td>BDI</td>\n",
       "      <td>Africa</td>\n",
       "      <td>10,396.36</td>\n",
       "      <td>56.87</td>\n",
       "      <td>10,571.50</td>\n",
       "      <td>1,440.41</td>\n",
       "      <td>1,672.41</td>\n",
       "      <td>1.02</td>\n",
       "      <td>0.01</td>\n",
       "      <td>27,830.00</td>\n",
       "      <td>373.57</td>\n",
       "      <td>-3.37</td>\n",
       "    </tr>\n",
       "    <tr>\n",
       "      <th>4</th>\n",
       "      <td>Ecuador</td>\n",
       "      <td>ECU</td>\n",
       "      <td>South America</td>\n",
       "      <td>31,672.56</td>\n",
       "      <td>6,359.00</td>\n",
       "      <td>32,545.52</td>\n",
       "      <td>3,152.17</td>\n",
       "      <td>10,384.13</td>\n",
       "      <td>1.03</td>\n",
       "      <td>0.20</td>\n",
       "      <td>283,561.00</td>\n",
       "      <td>111.70</td>\n",
       "      <td>-2.17</td>\n",
       "    </tr>\n",
       "    <tr>\n",
       "      <th>5</th>\n",
       "      <td>Indonesia</td>\n",
       "      <td>IDN</td>\n",
       "      <td>Asia</td>\n",
       "      <td>256,749.71</td>\n",
       "      <td>82,008.00</td>\n",
       "      <td>177,119.71</td>\n",
       "      <td>20,513.32</td>\n",
       "      <td>22,891.32</td>\n",
       "      <td>0.69</td>\n",
       "      <td>0.32</td>\n",
       "      <td>1,904,569.00</td>\n",
       "      <td>134.81</td>\n",
       "      <td>-6.17</td>\n",
       "    </tr>\n",
       "    <tr>\n",
       "      <th>6</th>\n",
       "      <td>Madagascar</td>\n",
       "      <td>MDG</td>\n",
       "      <td>Africa</td>\n",
       "      <td>17,426.54</td>\n",
       "      <td>9,811.77</td>\n",
       "      <td>8,151.54</td>\n",
       "      <td>2,550.02</td>\n",
       "      <td>3,086.78</td>\n",
       "      <td>0.47</td>\n",
       "      <td>0.56</td>\n",
       "      <td>587,041.00</td>\n",
       "      <td>29.69</td>\n",
       "      <td>-18.95</td>\n",
       "    </tr>\n",
       "    <tr>\n",
       "      <th>7</th>\n",
       "      <td>Malawi</td>\n",
       "      <td>MWI</td>\n",
       "      <td>Africa</td>\n",
       "      <td>1,370.83</td>\n",
       "      <td>39.00</td>\n",
       "      <td>1,351.83</td>\n",
       "      <td>142.00</td>\n",
       "      <td>162.00</td>\n",
       "      <td>0.99</td>\n",
       "      <td>0.03</td>\n",
       "      <td>118,484.00</td>\n",
       "      <td>11.57</td>\n",
       "      <td>-13.88</td>\n",
       "    </tr>\n",
       "    <tr>\n",
       "      <th>8</th>\n",
       "      <td>Papua New Guinea</td>\n",
       "      <td>PNG</td>\n",
       "      <td>Oceania</td>\n",
       "      <td>30,051.43</td>\n",
       "      <td>60.14</td>\n",
       "      <td>30,185.29</td>\n",
       "      <td>1,621.98</td>\n",
       "      <td>1,815.98</td>\n",
       "      <td>1.00</td>\n",
       "      <td>0.00</td>\n",
       "      <td>462,840.00</td>\n",
       "      <td>64.93</td>\n",
       "      <td>-6.33</td>\n",
       "    </tr>\n",
       "    <tr>\n",
       "      <th>9</th>\n",
       "      <td>Paraguay</td>\n",
       "      <td>PRY</td>\n",
       "      <td>South America</td>\n",
       "      <td>1,035.86</td>\n",
       "      <td>585.00</td>\n",
       "      <td>638.86</td>\n",
       "      <td>1,055.00</td>\n",
       "      <td>1,243.00</td>\n",
       "      <td>0.62</td>\n",
       "      <td>0.56</td>\n",
       "      <td>406,750.00</td>\n",
       "      <td>2.55</td>\n",
       "      <td>-25.28</td>\n",
       "    </tr>\n",
       "  </tbody>\n",
       "</table>\n",
       "</div>"
      ],
      "text/plain": [
       "            Country Code      Continent           Production  \\\n",
       "0            Angola  AGO         Africa             1,365.78   \n",
       "1           Bolivia  BOL  South America             3,449.50   \n",
       "2            Brazil  BRA  South America         1,251,382.32   \n",
       "3           Burundi  BDI         Africa            10,396.36   \n",
       "4           Ecuador  ECU  South America            31,672.56   \n",
       "5         Indonesia  IDN           Asia           256,749.71   \n",
       "6        Madagascar  MDG         Africa            17,426.54   \n",
       "7            Malawi  MWI         Africa             1,370.83   \n",
       "8  Papua New Guinea  PNG        Oceania            30,051.43   \n",
       "9          Paraguay  PRY  South America             1,035.86   \n",
       "\n",
       "   Domestic Consumption              Exports             Openings  \\\n",
       "0                775.00               695.78             3,725.00   \n",
       "1              1,253.00             2,250.50               209.90   \n",
       "2            463,745.00           792,421.32           688,076.00   \n",
       "3                 56.87            10,571.50             1,440.41   \n",
       "4              6,359.00            32,545.52             3,152.17   \n",
       "5             82,008.00           177,119.71            20,513.32   \n",
       "6              9,811.77             8,151.54             2,550.02   \n",
       "7                 39.00             1,351.83               142.00   \n",
       "8                 60.14            30,185.29             1,621.98   \n",
       "9                585.00               638.86             1,055.00   \n",
       "\n",
       "                Offset        Exports Ratio  Domestic Consump Ratio  \\\n",
       "0             3,830.00                 0.51                    0.57   \n",
       "1               263.90                 0.65                    0.36   \n",
       "2           692,860.00                 0.63                    0.37   \n",
       "3             1,672.41                 1.02                    0.01   \n",
       "4            10,384.13                 1.03                    0.20   \n",
       "5            22,891.32                 0.69                    0.32   \n",
       "6             3,086.78                 0.47                    0.56   \n",
       "7               162.00                 0.99                    0.03   \n",
       "8             1,815.98                 1.00                    0.00   \n",
       "9             1,243.00                 0.62                    0.56   \n",
       "\n",
       "                  Area  Production/Area1000             Latitude  \n",
       "0         1,246,700.00                 1.10               -11.76  \n",
       "1         1,098,581.00                 3.14               -16.50  \n",
       "2         8,515,767.00               146.95               -15.78  \n",
       "3            27,830.00               373.57                -3.37  \n",
       "4           283,561.00               111.70                -2.17  \n",
       "5         1,904,569.00               134.81                -6.17  \n",
       "6           587,041.00                29.69               -18.95  \n",
       "7           118,484.00                11.57               -13.88  \n",
       "8           462,840.00                64.93                -6.33  \n",
       "9           406,750.00                 2.55               -25.28  "
      ]
     },
     "execution_count": 8,
     "metadata": {},
     "output_type": "execute_result"
    }
   ],
   "source": [
    "# Create a dataframe with the 'Totals' columns from this 4 dataframes: df_production, df_consumption, df_openings and df_exports. Create exports to production ratio\n",
    "df_totals = pd.concat([df_production[['Country','Code','Continent','Totals']],df_consumption['Totals'],df_exports['Totals'],df_openings['Totals'],],axis=1)\n",
    "df_totals.columns=['Country','Code','Continent','Production','Domestic Consumption','Exports','Openings']\n",
    "df_totals['Offset'] = -df_totals['Production'] + df_totals['Domestic Consumption'] + df_totals['Exports'] + df_totals['Openings']\n",
    "df_totals['Exports Ratio'] = df_totals['Exports']/df_totals['Production']\n",
    "df_totals['Domestic Consump Ratio'] = df_totals['Domestic Consumption']/df_totals['Production']\n",
    "df_totals['Area'] = df_totals['Country'].map(country_areas)\n",
    "df_totals['Production/Area1000'] = 1000*df_totals['Production']/df_totals['Area']\n",
    "df_totals['Latitude']=df_totals['Country'].map(latitudes)\n",
    "df_totals.head(10)\n"
   ]
  },
  {
   "attachments": {},
   "cell_type": "markdown",
   "metadata": {},
   "source": [
    "Working with this dataframe and calculating ratios, we found there are some issues with the data. For example, some countries have more exports or domestic consumption than total production, thing that doesn't seems to be very logical. "
   ]
  },
  {
   "cell_type": "code",
   "execution_count": 9,
   "metadata": {},
   "outputs": [],
   "source": [
    "# Create docstring for world_plot\n",
    "''' Create a figure using Plotly Express' `px.choropleth` function.\n",
    "    Receives a dataframe and also the plotly colorscale string as an input'''\n",
    "\n",
    "def world_plot2(df,column,color_scale):\n",
    "    fig = px.choropleth(\n",
    "        df,\n",
    "        locations='Code',\n",
    "        color=column,\n",
    "        hover_name='Country',\n",
    "        \n",
    "        color_continuous_scale=color_scale,\n",
    "        #range_color=(0, 1500000),\n",
    "        scope='world',\n",
    "    )\n",
    "\n",
    "    # Update the layout of the figure\n",
    "    fig.update_layout(\n",
    "        title='Totals by Country',\n",
    "        margin={'r': 0, 't': 40, 'l': 0, 'b': 10},\n",
    "    )\n",
    "\n",
    "    # Show the figure\n",
    "    fig.show()\n",
    "    "
   ]
  },
  {
   "cell_type": "code",
   "execution_count": 10,
   "metadata": {},
   "outputs": [
    {
     "data": {
      "application/vnd.plotly.v1+json": {
       "config": {
        "plotlyServerURL": "https://plot.ly"
       },
       "data": [
        {
         "coloraxis": "coloraxis",
         "geo": "geo",
         "hovertemplate": "<b>%{hovertext}</b><br><br>Code=%{location}<br>Production=%{z}<extra></extra>",
         "hovertext": [
          "Angola",
          "Bolivia",
          "Brazil",
          "Burundi",
          "Ecuador",
          "Indonesia",
          "Madagascar",
          "Malawi",
          "Papua New Guinea",
          "Paraguay",
          "Peru",
          "Rwanda",
          "Timor-Leste",
          "Zimbabwe",
          "Congo",
          "Cuba",
          "Dominican Republic",
          "Haiti",
          "Philippines",
          "Tanzania",
          "Zambia",
          "Cameroon",
          "Central African Republic",
          "Colombia",
          "Costa Rica",
          "Côte d'Ivoire",
          "Democratic Republic of Congo",
          "El Salvador",
          "Equatorial Guinea",
          "Ethiopia",
          "Gabon",
          "Ghana",
          "Guatemala",
          "Guinea",
          "Guyana",
          "Honduras",
          "India",
          "Jamaica",
          "Kenya",
          "Lao People's Democratic Republic",
          "Liberia",
          "Mexico",
          "Nepal",
          "Nicaragua",
          "Nigeria",
          "Panama",
          "Sierra Leone",
          "Sri Lanka",
          "Thailand",
          "Togo",
          "Trinidad & Tobago",
          "Uganda",
          "Venezuela",
          "Vietnam",
          "Yemen"
         ],
         "locations": [
          "AGO",
          "BOL",
          "BRA",
          "BDI",
          "ECU",
          "IDN",
          "MDG",
          "MWI",
          "PNG",
          "PRY",
          "PER",
          "RWA",
          null,
          "ZWE",
          null,
          "CUB",
          "DOM",
          "HTI",
          "PHL",
          "TZA",
          "ZMB",
          "CMR",
          "CAF",
          "COL",
          "CRI",
          "CIV",
          null,
          "SLV",
          "GNQ",
          "ETH",
          "GAB",
          "GHA",
          "GTM",
          "GIN",
          "GUY",
          "HND",
          "IND",
          "JAM",
          "KEN",
          null,
          "LBR",
          "MEX",
          "NPL",
          "NIC",
          "NGA",
          "PAN",
          "SLE",
          "LKA",
          "THA",
          "TGO",
          null,
          "UGA",
          "VEN",
          "VNM",
          "YEM"
         ],
         "name": "",
         "type": "choropleth",
         "z": [
          1365.7826,
          3449.5031,
          1251382.3185,
          10396.362999999998,
          31672.561400000006,
          256749.71320000003,
          17426.543600000005,
          1370.8337999999999,
          30051.428900000006,
          1035.8646999999999,
          88627.0521,
          9457.456700000002,
          1143.4122000000002,
          2203.851900000001,
          114.58370000000002,
          5987.277100000003,
          15157.5079,
          11646.973000000004,
          14843.433400000002,
          24579.262600000002,
          1281.0475000000004,
          22644.342099999994,
          3065.7106000000003,
          359979.56460000004,
          59941.651699999995,
          79357.41130000002,
          17516.6023,
          47013.8373,
          16.835,
          144494.32599999994,
          45.1871,
          1063.6336000000001,
          117006.83459999999,
          8041.097,
          179.72599999999997,
          111212.80880000001,
          137036.3074,
          899.1378,
          29471.561400000002,
          9470.036999999998,
          249.49809999999997,
          130892.84779999997,
          25.377499999999998,
          45824.5063,
          1366.0042999999994,
          4684.544700000001,
          1452.3503999999998,
          1228.4842999999998,
          27900.515300000006,
          4689.8741,
          430.74589999999995,
          98655.523,
          33213.3564,
          480054.9727,
          3182.6585
         ]
        }
       ],
       "layout": {
        "coloraxis": {
         "colorbar": {
          "title": {
           "text": "Production"
          }
         },
         "colorscale": [
          [
           0,
           "rgb(255,255,204)"
          ],
          [
           0.125,
           "rgb(255,237,160)"
          ],
          [
           0.25,
           "rgb(254,217,118)"
          ],
          [
           0.375,
           "rgb(254,178,76)"
          ],
          [
           0.5,
           "rgb(253,141,60)"
          ],
          [
           0.625,
           "rgb(252,78,42)"
          ],
          [
           0.75,
           "rgb(227,26,28)"
          ],
          [
           0.875,
           "rgb(189,0,38)"
          ],
          [
           1,
           "rgb(128,0,38)"
          ]
         ]
        },
        "geo": {
         "center": {},
         "domain": {
          "x": [
           0,
           1
          ],
          "y": [
           0,
           1
          ]
         },
         "scope": "world"
        },
        "legend": {
         "tracegroupgap": 0
        },
        "margin": {
         "b": 10,
         "l": 0,
         "r": 0,
         "t": 40
        },
        "template": {
         "data": {
          "bar": [
           {
            "error_x": {
             "color": "#2a3f5f"
            },
            "error_y": {
             "color": "#2a3f5f"
            },
            "marker": {
             "line": {
              "color": "#E5ECF6",
              "width": 0.5
             },
             "pattern": {
              "fillmode": "overlay",
              "size": 10,
              "solidity": 0.2
             }
            },
            "type": "bar"
           }
          ],
          "barpolar": [
           {
            "marker": {
             "line": {
              "color": "#E5ECF6",
              "width": 0.5
             },
             "pattern": {
              "fillmode": "overlay",
              "size": 10,
              "solidity": 0.2
             }
            },
            "type": "barpolar"
           }
          ],
          "carpet": [
           {
            "aaxis": {
             "endlinecolor": "#2a3f5f",
             "gridcolor": "white",
             "linecolor": "white",
             "minorgridcolor": "white",
             "startlinecolor": "#2a3f5f"
            },
            "baxis": {
             "endlinecolor": "#2a3f5f",
             "gridcolor": "white",
             "linecolor": "white",
             "minorgridcolor": "white",
             "startlinecolor": "#2a3f5f"
            },
            "type": "carpet"
           }
          ],
          "choropleth": [
           {
            "colorbar": {
             "outlinewidth": 0,
             "ticks": ""
            },
            "type": "choropleth"
           }
          ],
          "contour": [
           {
            "colorbar": {
             "outlinewidth": 0,
             "ticks": ""
            },
            "colorscale": [
             [
              0,
              "#0d0887"
             ],
             [
              0.1111111111111111,
              "#46039f"
             ],
             [
              0.2222222222222222,
              "#7201a8"
             ],
             [
              0.3333333333333333,
              "#9c179e"
             ],
             [
              0.4444444444444444,
              "#bd3786"
             ],
             [
              0.5555555555555556,
              "#d8576b"
             ],
             [
              0.6666666666666666,
              "#ed7953"
             ],
             [
              0.7777777777777778,
              "#fb9f3a"
             ],
             [
              0.8888888888888888,
              "#fdca26"
             ],
             [
              1,
              "#f0f921"
             ]
            ],
            "type": "contour"
           }
          ],
          "contourcarpet": [
           {
            "colorbar": {
             "outlinewidth": 0,
             "ticks": ""
            },
            "type": "contourcarpet"
           }
          ],
          "heatmap": [
           {
            "colorbar": {
             "outlinewidth": 0,
             "ticks": ""
            },
            "colorscale": [
             [
              0,
              "#0d0887"
             ],
             [
              0.1111111111111111,
              "#46039f"
             ],
             [
              0.2222222222222222,
              "#7201a8"
             ],
             [
              0.3333333333333333,
              "#9c179e"
             ],
             [
              0.4444444444444444,
              "#bd3786"
             ],
             [
              0.5555555555555556,
              "#d8576b"
             ],
             [
              0.6666666666666666,
              "#ed7953"
             ],
             [
              0.7777777777777778,
              "#fb9f3a"
             ],
             [
              0.8888888888888888,
              "#fdca26"
             ],
             [
              1,
              "#f0f921"
             ]
            ],
            "type": "heatmap"
           }
          ],
          "heatmapgl": [
           {
            "colorbar": {
             "outlinewidth": 0,
             "ticks": ""
            },
            "colorscale": [
             [
              0,
              "#0d0887"
             ],
             [
              0.1111111111111111,
              "#46039f"
             ],
             [
              0.2222222222222222,
              "#7201a8"
             ],
             [
              0.3333333333333333,
              "#9c179e"
             ],
             [
              0.4444444444444444,
              "#bd3786"
             ],
             [
              0.5555555555555556,
              "#d8576b"
             ],
             [
              0.6666666666666666,
              "#ed7953"
             ],
             [
              0.7777777777777778,
              "#fb9f3a"
             ],
             [
              0.8888888888888888,
              "#fdca26"
             ],
             [
              1,
              "#f0f921"
             ]
            ],
            "type": "heatmapgl"
           }
          ],
          "histogram": [
           {
            "marker": {
             "pattern": {
              "fillmode": "overlay",
              "size": 10,
              "solidity": 0.2
             }
            },
            "type": "histogram"
           }
          ],
          "histogram2d": [
           {
            "colorbar": {
             "outlinewidth": 0,
             "ticks": ""
            },
            "colorscale": [
             [
              0,
              "#0d0887"
             ],
             [
              0.1111111111111111,
              "#46039f"
             ],
             [
              0.2222222222222222,
              "#7201a8"
             ],
             [
              0.3333333333333333,
              "#9c179e"
             ],
             [
              0.4444444444444444,
              "#bd3786"
             ],
             [
              0.5555555555555556,
              "#d8576b"
             ],
             [
              0.6666666666666666,
              "#ed7953"
             ],
             [
              0.7777777777777778,
              "#fb9f3a"
             ],
             [
              0.8888888888888888,
              "#fdca26"
             ],
             [
              1,
              "#f0f921"
             ]
            ],
            "type": "histogram2d"
           }
          ],
          "histogram2dcontour": [
           {
            "colorbar": {
             "outlinewidth": 0,
             "ticks": ""
            },
            "colorscale": [
             [
              0,
              "#0d0887"
             ],
             [
              0.1111111111111111,
              "#46039f"
             ],
             [
              0.2222222222222222,
              "#7201a8"
             ],
             [
              0.3333333333333333,
              "#9c179e"
             ],
             [
              0.4444444444444444,
              "#bd3786"
             ],
             [
              0.5555555555555556,
              "#d8576b"
             ],
             [
              0.6666666666666666,
              "#ed7953"
             ],
             [
              0.7777777777777778,
              "#fb9f3a"
             ],
             [
              0.8888888888888888,
              "#fdca26"
             ],
             [
              1,
              "#f0f921"
             ]
            ],
            "type": "histogram2dcontour"
           }
          ],
          "mesh3d": [
           {
            "colorbar": {
             "outlinewidth": 0,
             "ticks": ""
            },
            "type": "mesh3d"
           }
          ],
          "parcoords": [
           {
            "line": {
             "colorbar": {
              "outlinewidth": 0,
              "ticks": ""
             }
            },
            "type": "parcoords"
           }
          ],
          "pie": [
           {
            "automargin": true,
            "type": "pie"
           }
          ],
          "scatter": [
           {
            "fillpattern": {
             "fillmode": "overlay",
             "size": 10,
             "solidity": 0.2
            },
            "type": "scatter"
           }
          ],
          "scatter3d": [
           {
            "line": {
             "colorbar": {
              "outlinewidth": 0,
              "ticks": ""
             }
            },
            "marker": {
             "colorbar": {
              "outlinewidth": 0,
              "ticks": ""
             }
            },
            "type": "scatter3d"
           }
          ],
          "scattercarpet": [
           {
            "marker": {
             "colorbar": {
              "outlinewidth": 0,
              "ticks": ""
             }
            },
            "type": "scattercarpet"
           }
          ],
          "scattergeo": [
           {
            "marker": {
             "colorbar": {
              "outlinewidth": 0,
              "ticks": ""
             }
            },
            "type": "scattergeo"
           }
          ],
          "scattergl": [
           {
            "marker": {
             "colorbar": {
              "outlinewidth": 0,
              "ticks": ""
             }
            },
            "type": "scattergl"
           }
          ],
          "scattermapbox": [
           {
            "marker": {
             "colorbar": {
              "outlinewidth": 0,
              "ticks": ""
             }
            },
            "type": "scattermapbox"
           }
          ],
          "scatterpolar": [
           {
            "marker": {
             "colorbar": {
              "outlinewidth": 0,
              "ticks": ""
             }
            },
            "type": "scatterpolar"
           }
          ],
          "scatterpolargl": [
           {
            "marker": {
             "colorbar": {
              "outlinewidth": 0,
              "ticks": ""
             }
            },
            "type": "scatterpolargl"
           }
          ],
          "scatterternary": [
           {
            "marker": {
             "colorbar": {
              "outlinewidth": 0,
              "ticks": ""
             }
            },
            "type": "scatterternary"
           }
          ],
          "surface": [
           {
            "colorbar": {
             "outlinewidth": 0,
             "ticks": ""
            },
            "colorscale": [
             [
              0,
              "#0d0887"
             ],
             [
              0.1111111111111111,
              "#46039f"
             ],
             [
              0.2222222222222222,
              "#7201a8"
             ],
             [
              0.3333333333333333,
              "#9c179e"
             ],
             [
              0.4444444444444444,
              "#bd3786"
             ],
             [
              0.5555555555555556,
              "#d8576b"
             ],
             [
              0.6666666666666666,
              "#ed7953"
             ],
             [
              0.7777777777777778,
              "#fb9f3a"
             ],
             [
              0.8888888888888888,
              "#fdca26"
             ],
             [
              1,
              "#f0f921"
             ]
            ],
            "type": "surface"
           }
          ],
          "table": [
           {
            "cells": {
             "fill": {
              "color": "#EBF0F8"
             },
             "line": {
              "color": "white"
             }
            },
            "header": {
             "fill": {
              "color": "#C8D4E3"
             },
             "line": {
              "color": "white"
             }
            },
            "type": "table"
           }
          ]
         },
         "layout": {
          "annotationdefaults": {
           "arrowcolor": "#2a3f5f",
           "arrowhead": 0,
           "arrowwidth": 1
          },
          "autotypenumbers": "strict",
          "coloraxis": {
           "colorbar": {
            "outlinewidth": 0,
            "ticks": ""
           }
          },
          "colorscale": {
           "diverging": [
            [
             0,
             "#8e0152"
            ],
            [
             0.1,
             "#c51b7d"
            ],
            [
             0.2,
             "#de77ae"
            ],
            [
             0.3,
             "#f1b6da"
            ],
            [
             0.4,
             "#fde0ef"
            ],
            [
             0.5,
             "#f7f7f7"
            ],
            [
             0.6,
             "#e6f5d0"
            ],
            [
             0.7,
             "#b8e186"
            ],
            [
             0.8,
             "#7fbc41"
            ],
            [
             0.9,
             "#4d9221"
            ],
            [
             1,
             "#276419"
            ]
           ],
           "sequential": [
            [
             0,
             "#0d0887"
            ],
            [
             0.1111111111111111,
             "#46039f"
            ],
            [
             0.2222222222222222,
             "#7201a8"
            ],
            [
             0.3333333333333333,
             "#9c179e"
            ],
            [
             0.4444444444444444,
             "#bd3786"
            ],
            [
             0.5555555555555556,
             "#d8576b"
            ],
            [
             0.6666666666666666,
             "#ed7953"
            ],
            [
             0.7777777777777778,
             "#fb9f3a"
            ],
            [
             0.8888888888888888,
             "#fdca26"
            ],
            [
             1,
             "#f0f921"
            ]
           ],
           "sequentialminus": [
            [
             0,
             "#0d0887"
            ],
            [
             0.1111111111111111,
             "#46039f"
            ],
            [
             0.2222222222222222,
             "#7201a8"
            ],
            [
             0.3333333333333333,
             "#9c179e"
            ],
            [
             0.4444444444444444,
             "#bd3786"
            ],
            [
             0.5555555555555556,
             "#d8576b"
            ],
            [
             0.6666666666666666,
             "#ed7953"
            ],
            [
             0.7777777777777778,
             "#fb9f3a"
            ],
            [
             0.8888888888888888,
             "#fdca26"
            ],
            [
             1,
             "#f0f921"
            ]
           ]
          },
          "colorway": [
           "#636efa",
           "#EF553B",
           "#00cc96",
           "#ab63fa",
           "#FFA15A",
           "#19d3f3",
           "#FF6692",
           "#B6E880",
           "#FF97FF",
           "#FECB52"
          ],
          "font": {
           "color": "#2a3f5f"
          },
          "geo": {
           "bgcolor": "white",
           "lakecolor": "white",
           "landcolor": "#E5ECF6",
           "showlakes": true,
           "showland": true,
           "subunitcolor": "white"
          },
          "hoverlabel": {
           "align": "left"
          },
          "hovermode": "closest",
          "mapbox": {
           "style": "light"
          },
          "paper_bgcolor": "white",
          "plot_bgcolor": "#E5ECF6",
          "polar": {
           "angularaxis": {
            "gridcolor": "white",
            "linecolor": "white",
            "ticks": ""
           },
           "bgcolor": "#E5ECF6",
           "radialaxis": {
            "gridcolor": "white",
            "linecolor": "white",
            "ticks": ""
           }
          },
          "scene": {
           "xaxis": {
            "backgroundcolor": "#E5ECF6",
            "gridcolor": "white",
            "gridwidth": 2,
            "linecolor": "white",
            "showbackground": true,
            "ticks": "",
            "zerolinecolor": "white"
           },
           "yaxis": {
            "backgroundcolor": "#E5ECF6",
            "gridcolor": "white",
            "gridwidth": 2,
            "linecolor": "white",
            "showbackground": true,
            "ticks": "",
            "zerolinecolor": "white"
           },
           "zaxis": {
            "backgroundcolor": "#E5ECF6",
            "gridcolor": "white",
            "gridwidth": 2,
            "linecolor": "white",
            "showbackground": true,
            "ticks": "",
            "zerolinecolor": "white"
           }
          },
          "shapedefaults": {
           "line": {
            "color": "#2a3f5f"
           }
          },
          "ternary": {
           "aaxis": {
            "gridcolor": "white",
            "linecolor": "white",
            "ticks": ""
           },
           "baxis": {
            "gridcolor": "white",
            "linecolor": "white",
            "ticks": ""
           },
           "bgcolor": "#E5ECF6",
           "caxis": {
            "gridcolor": "white",
            "linecolor": "white",
            "ticks": ""
           }
          },
          "title": {
           "x": 0.05
          },
          "xaxis": {
           "automargin": true,
           "gridcolor": "white",
           "linecolor": "white",
           "ticks": "",
           "title": {
            "standoff": 15
           },
           "zerolinecolor": "white",
           "zerolinewidth": 2
          },
          "yaxis": {
           "automargin": true,
           "gridcolor": "white",
           "linecolor": "white",
           "ticks": "",
           "title": {
            "standoff": 15
           },
           "zerolinecolor": "white",
           "zerolinewidth": 2
          }
         }
        },
        "title": {
         "text": "Totals by Country"
        }
       }
      }
     },
     "metadata": {},
     "output_type": "display_data"
    }
   ],
   "source": [
    "world_plot2(df_totals,'Production','YlOrRd')"
   ]
  },
  {
   "cell_type": "code",
   "execution_count": 11,
   "metadata": {},
   "outputs": [
    {
     "data": {
      "application/vnd.plotly.v1+json": {
       "config": {
        "plotlyServerURL": "https://plot.ly"
       },
       "data": [
        {
         "coloraxis": "coloraxis",
         "geo": "geo",
         "hovertemplate": "<b>%{hovertext}</b><br><br>Code=%{location}<br>Production/Area1000=%{z}<extra></extra>",
         "hovertext": [
          "Angola",
          "Bolivia",
          "Brazil",
          "Burundi",
          "Ecuador",
          "Indonesia",
          "Madagascar",
          "Malawi",
          "Papua New Guinea",
          "Paraguay",
          "Peru",
          "Rwanda",
          "Timor-Leste",
          "Zimbabwe",
          "Congo",
          "Cuba",
          "Dominican Republic",
          "Haiti",
          "Philippines",
          "Tanzania",
          "Zambia",
          "Cameroon",
          "Central African Republic",
          "Colombia",
          "Costa Rica",
          "Côte d'Ivoire",
          "Democratic Republic of Congo",
          "El Salvador",
          "Equatorial Guinea",
          "Ethiopia",
          "Gabon",
          "Ghana",
          "Guatemala",
          "Guinea",
          "Guyana",
          "Honduras",
          "India",
          "Jamaica",
          "Kenya",
          "Lao People's Democratic Republic",
          "Liberia",
          "Mexico",
          "Nepal",
          "Nicaragua",
          "Nigeria",
          "Panama",
          "Sierra Leone",
          "Sri Lanka",
          "Thailand",
          "Togo",
          "Trinidad & Tobago",
          "Uganda",
          "Venezuela",
          "Vietnam",
          "Yemen"
         ],
         "locations": [
          "AGO",
          "BOL",
          "BRA",
          "BDI",
          "ECU",
          "IDN",
          "MDG",
          "MWI",
          "PNG",
          "PRY",
          "PER",
          "RWA",
          null,
          "ZWE",
          null,
          "CUB",
          "DOM",
          "HTI",
          "PHL",
          "TZA",
          "ZMB",
          "CMR",
          "CAF",
          "COL",
          "CRI",
          "CIV",
          null,
          "SLV",
          "GNQ",
          "ETH",
          "GAB",
          "GHA",
          "GTM",
          "GIN",
          "GUY",
          "HND",
          "IND",
          "JAM",
          "KEN",
          null,
          "LBR",
          "MEX",
          "NPL",
          "NIC",
          "NGA",
          "PAN",
          "SLE",
          "LKA",
          "THA",
          "TGO",
          null,
          "UGA",
          "VEN",
          "VNM",
          "YEM"
         ],
         "name": "",
         "type": "choropleth",
         "z": [
          1.0955182481751826,
          3.139962460665167,
          146.94886772970656,
          373.56676248652525,
          111.69575999520387,
          134.8072520344498,
          29.685394376202012,
          11.569779885891764,
          64.92833138881689,
          2.5466864167178853,
          68.9586624079924,
          359.0802908345358,
          null,
          5.642510881253522,
          null,
          54.00755096518134,
          311.0508495793146,
          419.7107387387389,
          49.47811133333334,
          26.00740736038058,
          1.7021217935260657,
          47.6281804223456,
          4.921010170405661,
          316.07375876934964,
          1173.0264520547944,
          246.1000164361472,
          null,
          2234.3917732046953,
          0.6001568571530427,
          130.84698542062839,
          0.16881834518263364,
          4.45898791382469,
          1074.541597942878,
          32.70639843486254,
          0.8360554312482263,
          992.1742242840576,
          41.68705315029554,
          81.80673278136656,
          50.78090484124701,
          null,
          2.240263087007273,
          66.35717614255657,
          0.17242375034821067,
          351.48770297530933,
          1.4787309151215449,
          62.11276451869532,
          20.24463897407304,
          18.72404054260021,
          54.374250272840676,
          82.59001672977018,
          null,
          409.29108446730834,
          36.24151629394017,
          1449.397580688989,
          6.0281276516758595
         ]
        }
       ],
       "layout": {
        "coloraxis": {
         "colorbar": {
          "title": {
           "text": "Production/Area1000"
          }
         },
         "colorscale": [
          [
           0,
           "rgb(255,255,204)"
          ],
          [
           0.125,
           "rgb(255,237,160)"
          ],
          [
           0.25,
           "rgb(254,217,118)"
          ],
          [
           0.375,
           "rgb(254,178,76)"
          ],
          [
           0.5,
           "rgb(253,141,60)"
          ],
          [
           0.625,
           "rgb(252,78,42)"
          ],
          [
           0.75,
           "rgb(227,26,28)"
          ],
          [
           0.875,
           "rgb(189,0,38)"
          ],
          [
           1,
           "rgb(128,0,38)"
          ]
         ]
        },
        "geo": {
         "center": {},
         "domain": {
          "x": [
           0,
           1
          ],
          "y": [
           0,
           1
          ]
         },
         "scope": "world"
        },
        "legend": {
         "tracegroupgap": 0
        },
        "margin": {
         "b": 10,
         "l": 0,
         "r": 0,
         "t": 40
        },
        "template": {
         "data": {
          "bar": [
           {
            "error_x": {
             "color": "#2a3f5f"
            },
            "error_y": {
             "color": "#2a3f5f"
            },
            "marker": {
             "line": {
              "color": "#E5ECF6",
              "width": 0.5
             },
             "pattern": {
              "fillmode": "overlay",
              "size": 10,
              "solidity": 0.2
             }
            },
            "type": "bar"
           }
          ],
          "barpolar": [
           {
            "marker": {
             "line": {
              "color": "#E5ECF6",
              "width": 0.5
             },
             "pattern": {
              "fillmode": "overlay",
              "size": 10,
              "solidity": 0.2
             }
            },
            "type": "barpolar"
           }
          ],
          "carpet": [
           {
            "aaxis": {
             "endlinecolor": "#2a3f5f",
             "gridcolor": "white",
             "linecolor": "white",
             "minorgridcolor": "white",
             "startlinecolor": "#2a3f5f"
            },
            "baxis": {
             "endlinecolor": "#2a3f5f",
             "gridcolor": "white",
             "linecolor": "white",
             "minorgridcolor": "white",
             "startlinecolor": "#2a3f5f"
            },
            "type": "carpet"
           }
          ],
          "choropleth": [
           {
            "colorbar": {
             "outlinewidth": 0,
             "ticks": ""
            },
            "type": "choropleth"
           }
          ],
          "contour": [
           {
            "colorbar": {
             "outlinewidth": 0,
             "ticks": ""
            },
            "colorscale": [
             [
              0,
              "#0d0887"
             ],
             [
              0.1111111111111111,
              "#46039f"
             ],
             [
              0.2222222222222222,
              "#7201a8"
             ],
             [
              0.3333333333333333,
              "#9c179e"
             ],
             [
              0.4444444444444444,
              "#bd3786"
             ],
             [
              0.5555555555555556,
              "#d8576b"
             ],
             [
              0.6666666666666666,
              "#ed7953"
             ],
             [
              0.7777777777777778,
              "#fb9f3a"
             ],
             [
              0.8888888888888888,
              "#fdca26"
             ],
             [
              1,
              "#f0f921"
             ]
            ],
            "type": "contour"
           }
          ],
          "contourcarpet": [
           {
            "colorbar": {
             "outlinewidth": 0,
             "ticks": ""
            },
            "type": "contourcarpet"
           }
          ],
          "heatmap": [
           {
            "colorbar": {
             "outlinewidth": 0,
             "ticks": ""
            },
            "colorscale": [
             [
              0,
              "#0d0887"
             ],
             [
              0.1111111111111111,
              "#46039f"
             ],
             [
              0.2222222222222222,
              "#7201a8"
             ],
             [
              0.3333333333333333,
              "#9c179e"
             ],
             [
              0.4444444444444444,
              "#bd3786"
             ],
             [
              0.5555555555555556,
              "#d8576b"
             ],
             [
              0.6666666666666666,
              "#ed7953"
             ],
             [
              0.7777777777777778,
              "#fb9f3a"
             ],
             [
              0.8888888888888888,
              "#fdca26"
             ],
             [
              1,
              "#f0f921"
             ]
            ],
            "type": "heatmap"
           }
          ],
          "heatmapgl": [
           {
            "colorbar": {
             "outlinewidth": 0,
             "ticks": ""
            },
            "colorscale": [
             [
              0,
              "#0d0887"
             ],
             [
              0.1111111111111111,
              "#46039f"
             ],
             [
              0.2222222222222222,
              "#7201a8"
             ],
             [
              0.3333333333333333,
              "#9c179e"
             ],
             [
              0.4444444444444444,
              "#bd3786"
             ],
             [
              0.5555555555555556,
              "#d8576b"
             ],
             [
              0.6666666666666666,
              "#ed7953"
             ],
             [
              0.7777777777777778,
              "#fb9f3a"
             ],
             [
              0.8888888888888888,
              "#fdca26"
             ],
             [
              1,
              "#f0f921"
             ]
            ],
            "type": "heatmapgl"
           }
          ],
          "histogram": [
           {
            "marker": {
             "pattern": {
              "fillmode": "overlay",
              "size": 10,
              "solidity": 0.2
             }
            },
            "type": "histogram"
           }
          ],
          "histogram2d": [
           {
            "colorbar": {
             "outlinewidth": 0,
             "ticks": ""
            },
            "colorscale": [
             [
              0,
              "#0d0887"
             ],
             [
              0.1111111111111111,
              "#46039f"
             ],
             [
              0.2222222222222222,
              "#7201a8"
             ],
             [
              0.3333333333333333,
              "#9c179e"
             ],
             [
              0.4444444444444444,
              "#bd3786"
             ],
             [
              0.5555555555555556,
              "#d8576b"
             ],
             [
              0.6666666666666666,
              "#ed7953"
             ],
             [
              0.7777777777777778,
              "#fb9f3a"
             ],
             [
              0.8888888888888888,
              "#fdca26"
             ],
             [
              1,
              "#f0f921"
             ]
            ],
            "type": "histogram2d"
           }
          ],
          "histogram2dcontour": [
           {
            "colorbar": {
             "outlinewidth": 0,
             "ticks": ""
            },
            "colorscale": [
             [
              0,
              "#0d0887"
             ],
             [
              0.1111111111111111,
              "#46039f"
             ],
             [
              0.2222222222222222,
              "#7201a8"
             ],
             [
              0.3333333333333333,
              "#9c179e"
             ],
             [
              0.4444444444444444,
              "#bd3786"
             ],
             [
              0.5555555555555556,
              "#d8576b"
             ],
             [
              0.6666666666666666,
              "#ed7953"
             ],
             [
              0.7777777777777778,
              "#fb9f3a"
             ],
             [
              0.8888888888888888,
              "#fdca26"
             ],
             [
              1,
              "#f0f921"
             ]
            ],
            "type": "histogram2dcontour"
           }
          ],
          "mesh3d": [
           {
            "colorbar": {
             "outlinewidth": 0,
             "ticks": ""
            },
            "type": "mesh3d"
           }
          ],
          "parcoords": [
           {
            "line": {
             "colorbar": {
              "outlinewidth": 0,
              "ticks": ""
             }
            },
            "type": "parcoords"
           }
          ],
          "pie": [
           {
            "automargin": true,
            "type": "pie"
           }
          ],
          "scatter": [
           {
            "fillpattern": {
             "fillmode": "overlay",
             "size": 10,
             "solidity": 0.2
            },
            "type": "scatter"
           }
          ],
          "scatter3d": [
           {
            "line": {
             "colorbar": {
              "outlinewidth": 0,
              "ticks": ""
             }
            },
            "marker": {
             "colorbar": {
              "outlinewidth": 0,
              "ticks": ""
             }
            },
            "type": "scatter3d"
           }
          ],
          "scattercarpet": [
           {
            "marker": {
             "colorbar": {
              "outlinewidth": 0,
              "ticks": ""
             }
            },
            "type": "scattercarpet"
           }
          ],
          "scattergeo": [
           {
            "marker": {
             "colorbar": {
              "outlinewidth": 0,
              "ticks": ""
             }
            },
            "type": "scattergeo"
           }
          ],
          "scattergl": [
           {
            "marker": {
             "colorbar": {
              "outlinewidth": 0,
              "ticks": ""
             }
            },
            "type": "scattergl"
           }
          ],
          "scattermapbox": [
           {
            "marker": {
             "colorbar": {
              "outlinewidth": 0,
              "ticks": ""
             }
            },
            "type": "scattermapbox"
           }
          ],
          "scatterpolar": [
           {
            "marker": {
             "colorbar": {
              "outlinewidth": 0,
              "ticks": ""
             }
            },
            "type": "scatterpolar"
           }
          ],
          "scatterpolargl": [
           {
            "marker": {
             "colorbar": {
              "outlinewidth": 0,
              "ticks": ""
             }
            },
            "type": "scatterpolargl"
           }
          ],
          "scatterternary": [
           {
            "marker": {
             "colorbar": {
              "outlinewidth": 0,
              "ticks": ""
             }
            },
            "type": "scatterternary"
           }
          ],
          "surface": [
           {
            "colorbar": {
             "outlinewidth": 0,
             "ticks": ""
            },
            "colorscale": [
             [
              0,
              "#0d0887"
             ],
             [
              0.1111111111111111,
              "#46039f"
             ],
             [
              0.2222222222222222,
              "#7201a8"
             ],
             [
              0.3333333333333333,
              "#9c179e"
             ],
             [
              0.4444444444444444,
              "#bd3786"
             ],
             [
              0.5555555555555556,
              "#d8576b"
             ],
             [
              0.6666666666666666,
              "#ed7953"
             ],
             [
              0.7777777777777778,
              "#fb9f3a"
             ],
             [
              0.8888888888888888,
              "#fdca26"
             ],
             [
              1,
              "#f0f921"
             ]
            ],
            "type": "surface"
           }
          ],
          "table": [
           {
            "cells": {
             "fill": {
              "color": "#EBF0F8"
             },
             "line": {
              "color": "white"
             }
            },
            "header": {
             "fill": {
              "color": "#C8D4E3"
             },
             "line": {
              "color": "white"
             }
            },
            "type": "table"
           }
          ]
         },
         "layout": {
          "annotationdefaults": {
           "arrowcolor": "#2a3f5f",
           "arrowhead": 0,
           "arrowwidth": 1
          },
          "autotypenumbers": "strict",
          "coloraxis": {
           "colorbar": {
            "outlinewidth": 0,
            "ticks": ""
           }
          },
          "colorscale": {
           "diverging": [
            [
             0,
             "#8e0152"
            ],
            [
             0.1,
             "#c51b7d"
            ],
            [
             0.2,
             "#de77ae"
            ],
            [
             0.3,
             "#f1b6da"
            ],
            [
             0.4,
             "#fde0ef"
            ],
            [
             0.5,
             "#f7f7f7"
            ],
            [
             0.6,
             "#e6f5d0"
            ],
            [
             0.7,
             "#b8e186"
            ],
            [
             0.8,
             "#7fbc41"
            ],
            [
             0.9,
             "#4d9221"
            ],
            [
             1,
             "#276419"
            ]
           ],
           "sequential": [
            [
             0,
             "#0d0887"
            ],
            [
             0.1111111111111111,
             "#46039f"
            ],
            [
             0.2222222222222222,
             "#7201a8"
            ],
            [
             0.3333333333333333,
             "#9c179e"
            ],
            [
             0.4444444444444444,
             "#bd3786"
            ],
            [
             0.5555555555555556,
             "#d8576b"
            ],
            [
             0.6666666666666666,
             "#ed7953"
            ],
            [
             0.7777777777777778,
             "#fb9f3a"
            ],
            [
             0.8888888888888888,
             "#fdca26"
            ],
            [
             1,
             "#f0f921"
            ]
           ],
           "sequentialminus": [
            [
             0,
             "#0d0887"
            ],
            [
             0.1111111111111111,
             "#46039f"
            ],
            [
             0.2222222222222222,
             "#7201a8"
            ],
            [
             0.3333333333333333,
             "#9c179e"
            ],
            [
             0.4444444444444444,
             "#bd3786"
            ],
            [
             0.5555555555555556,
             "#d8576b"
            ],
            [
             0.6666666666666666,
             "#ed7953"
            ],
            [
             0.7777777777777778,
             "#fb9f3a"
            ],
            [
             0.8888888888888888,
             "#fdca26"
            ],
            [
             1,
             "#f0f921"
            ]
           ]
          },
          "colorway": [
           "#636efa",
           "#EF553B",
           "#00cc96",
           "#ab63fa",
           "#FFA15A",
           "#19d3f3",
           "#FF6692",
           "#B6E880",
           "#FF97FF",
           "#FECB52"
          ],
          "font": {
           "color": "#2a3f5f"
          },
          "geo": {
           "bgcolor": "white",
           "lakecolor": "white",
           "landcolor": "#E5ECF6",
           "showlakes": true,
           "showland": true,
           "subunitcolor": "white"
          },
          "hoverlabel": {
           "align": "left"
          },
          "hovermode": "closest",
          "mapbox": {
           "style": "light"
          },
          "paper_bgcolor": "white",
          "plot_bgcolor": "#E5ECF6",
          "polar": {
           "angularaxis": {
            "gridcolor": "white",
            "linecolor": "white",
            "ticks": ""
           },
           "bgcolor": "#E5ECF6",
           "radialaxis": {
            "gridcolor": "white",
            "linecolor": "white",
            "ticks": ""
           }
          },
          "scene": {
           "xaxis": {
            "backgroundcolor": "#E5ECF6",
            "gridcolor": "white",
            "gridwidth": 2,
            "linecolor": "white",
            "showbackground": true,
            "ticks": "",
            "zerolinecolor": "white"
           },
           "yaxis": {
            "backgroundcolor": "#E5ECF6",
            "gridcolor": "white",
            "gridwidth": 2,
            "linecolor": "white",
            "showbackground": true,
            "ticks": "",
            "zerolinecolor": "white"
           },
           "zaxis": {
            "backgroundcolor": "#E5ECF6",
            "gridcolor": "white",
            "gridwidth": 2,
            "linecolor": "white",
            "showbackground": true,
            "ticks": "",
            "zerolinecolor": "white"
           }
          },
          "shapedefaults": {
           "line": {
            "color": "#2a3f5f"
           }
          },
          "ternary": {
           "aaxis": {
            "gridcolor": "white",
            "linecolor": "white",
            "ticks": ""
           },
           "baxis": {
            "gridcolor": "white",
            "linecolor": "white",
            "ticks": ""
           },
           "bgcolor": "#E5ECF6",
           "caxis": {
            "gridcolor": "white",
            "linecolor": "white",
            "ticks": ""
           }
          },
          "title": {
           "x": 0.05
          },
          "xaxis": {
           "automargin": true,
           "gridcolor": "white",
           "linecolor": "white",
           "ticks": "",
           "title": {
            "standoff": 15
           },
           "zerolinecolor": "white",
           "zerolinewidth": 2
          },
          "yaxis": {
           "automargin": true,
           "gridcolor": "white",
           "linecolor": "white",
           "ticks": "",
           "title": {
            "standoff": 15
           },
           "zerolinecolor": "white",
           "zerolinewidth": 2
          }
         }
        },
        "title": {
         "text": "Totals by Country"
        }
       }
      }
     },
     "metadata": {},
     "output_type": "display_data"
    }
   ],
   "source": [
    "world_plot2(df_totals,'Production/Area1000','YlOrRd')"
   ]
  },
  {
   "cell_type": "code",
   "execution_count": 12,
   "metadata": {},
   "outputs": [
    {
     "data": {
      "image/png": "[encoded data removed]",
      "text/plain": [
       "<Figure size 640x480 with 1 Axes>"
      ]
     },
     "metadata": {},
     "output_type": "display_data"
    }
   ],
   "source": [
    "# Create a correlation seaborn plot between production and surface area\n",
    "sns.scatterplot(df_totals,x='Production',y='Latitude',hue='Continent',size='Area',sizes=(40,400),alpha=0.7,)\n",
    "ax=plt.gca()\n",
    "ax.set_ylim([-90, 90])\n",
    "plt.show()"
   ]
  },
  {
   "cell_type": "code",
   "execution_count": 13,
   "metadata": {},
   "outputs": [
    {
     "data": {
      "image/png": "[encoded data removed]",
      "text/plain": [
       "<Figure size 640x480 with 1 Axes>"
      ]
     },
     "metadata": {},
     "output_type": "display_data"
    }
   ],
   "source": [
    "# Create a correlation seaborn plot between imports and surface area\n",
    "sns.scatterplot(df_imports,x='Totals',y='Latitude',hue='Continent',size='Area',sizes=(40,400),alpha=0.7)\n",
    "ax=plt.gca()\n",
    "ax.set_ylim([-90, 90])\n",
    "plt.show()"
   ]
  },
  {
   "cell_type": "code",
   "execution_count": 14,
   "metadata": {},
   "outputs": [],
   "source": [
    "# Function that creates a line plot for production/dom. consumption of any given country\n",
    "def lineplot_production(country_code):\n",
    "    '''Create a line plot of imports for a given country code'''\n",
    "    country_prod = df_production[df_production['Code'] == country_code].iloc[:,2:-3]\n",
    "    country_prod=country_prod.T\n",
    "    country_prod.rename(columns={country_prod.columns[0]:f'{country_code} Production'},inplace=True)\n",
    "    country_prod['Dom. consumption']= df_consumption[df_consumption['Code'] == country_code].iloc[:,2:-3].T\n",
    "    sns.lineplot(data=country_prod)\n",
    "    plt.xticks(rotation=45)\n",
    "    plt.xlabel('Year')\n",
    "    plt.ylabel('Total 60kg bags in thousands') \n",
    "    plt.show()"
   ]
  },
  {
   "cell_type": "code",
   "execution_count": 15,
   "metadata": {},
   "outputs": [
    {
     "data": {
      "image/png": "[encoded data removed]",
      "text/plain": [
       "<Figure size 640x480 with 1 Axes>"
      ]
     },
     "metadata": {},
     "output_type": "display_data"
    }
   ],
   "source": [
    "lineplot_production('COL')"
   ]
  },
  {
   "cell_type": "code",
   "execution_count": 16,
   "metadata": {},
   "outputs": [
    {
     "data": {
      "text/plain": [
       "0.33261535119342617"
      ]
     },
     "execution_count": 16,
     "metadata": {},
     "output_type": "execute_result"
    },
    {
     "data": {
      "image/png": "[encoded data removed]",
      "text/plain": [
       "<Figure size 640x480 with 1 Axes>"
      ]
     },
     "metadata": {},
     "output_type": "display_data"
    }
   ],
   "source": [
    "# Define a function that calculates the percentage of production of a country\n",
    "def country_percentage_prod(df, country_code):\n",
    "    perc = df[df['Code'] == country_code]['Production']/df['Production'].sum()\n",
    "    percentage =perc.iloc[0]\n",
    "    data = [percentage,1-percentage]\n",
    "    labels = [f\"{country_code} Production\", 'Rest of the world']\n",
    "    plt.pie(data, labels=labels, autopct='%.0f%%')\n",
    "    #plt.show()\n",
    "    return percentage\n",
    "\n",
    "country_percentage_prod(df_totals,'BRA')"
   ]
  },
  {
   "cell_type": "code",
   "execution_count": 17,
   "metadata": {},
   "outputs": [
    {
     "data": {
      "text/plain": [
       "0.03793759042014332"
      ]
     },
     "execution_count": 17,
     "metadata": {},
     "output_type": "execute_result"
    },
    {
     "data": {
      "image/png": "[encoded data removed]",
      "text/plain": [
       "<Figure size 640x480 with 1 Axes>"
      ]
     },
     "metadata": {},
     "output_type": "display_data"
    }
   ],
   "source": [
    "# Define a function that calculates the percentage of imports of a country\n",
    "def country_percentage_imports(df, country_code):\n",
    "    perc = df[df['Code'] == country_code]['Totals']/df['Totals'].sum()\n",
    "    percentage =perc.iloc[0]\n",
    "    data = [percentage,1-percentage]\n",
    "    labels = [f\"{country_code} Imports\", 'Rest of the world']\n",
    "    plt.pie(data, labels=labels, autopct='%.0f%%')\n",
    "    #plt.show()\n",
    "    return percentage\n",
    "\n",
    "country_percentage_imports(df_imports,'GBR')"
   ]
  }
 ],
 "metadata": {
  "kernelspec": {
   "display_name": "Python 3",
   "language": "python",
   "name": "python3"
  },
  "language_info": {
   "codemirror_mode": {
    "name": "ipython",
    "version": 3
   },
   "file_extension": ".py",
   "mimetype": "text/x-python",
   "name": "python",
   "nbconvert_exporter": "python",
   "pygments_lexer": "ipython3",
   "version": "3.11.3"
  },
  "orig_nbformat": 4
 },
 "nbformat": 4,
 "nbformat_minor": 2
}
