{
 "cells": [
  {
   "cell_type": "code",
   "execution_count": 78,
   "metadata": {},
   "outputs": [],
   "source": [
    "#Import required libraries\n",
    "import matplotlib.pyplot as plt\n",
    "import numpy as np\n",
    "import pandas as pd\n",
    "import seaborn as sns\n",
    "import scipy.stats as stats\n",
    "import math\n",
    "import pycountry_convert as pc\n",
    "from countries_dataset import countries\n"
   ]
  },
  {
   "cell_type": "code",
   "execution_count": 82,
   "metadata": {},
   "outputs": [
    {
     "name": "stderr",
     "output_type": "stream",
     "text": [
      "d:\\Python\\Python311\\Lib\\site-packages\\openpyxl\\worksheet\\_reader.py:329: UserWarning: Unknown extension is not supported and will be removed\n",
      "  warn(msg)\n",
      "d:\\Python\\Python311\\Lib\\site-packages\\openpyxl\\worksheet\\_reader.py:329: UserWarning: Unknown extension is not supported and will be removed\n",
      "  warn(msg)\n"
     ]
    }
   ],
   "source": [
    "#Import excel files after initial row cleaning\n",
    "\n",
    "#Production data in thousands 60kg bags\n",
    "df_production = pd.read_excel('datasets/1a - Total production.xlsx',skiprows=3,skipfooter=3) \n",
    "df_production['Country'] = df_production['Country'].str.lstrip()\n",
    "df_production['Continent'] = df_production['Country'].map(countries)\n",
    "\n",
    "#Domestic Consumption data in thousands 60kg bags\n",
    "df_consumption = pd.read_excel('datasets/1b - Domestic consumption.xlsx',skiprows=3,skipfooter=3) \n",
    "df_consumption['Country'] = df_consumption['Country'].str.lstrip()\n",
    "df_consumption['Continent'] = df_consumption['Country'].map(countries)\n",
    "\n",
    "#Gross Openings \n",
    "df_openings = pd.read_excel('datasets/1d - Gross Opening stocks.xlsx',skiprows=3,skipfooter=3) \n",
    "df_openings['Country'] = df_openings['Country'].str.lstrip()\n",
    "df_openings['Continent'] = df_openings['Country'].map(countries)\n",
    "\n",
    "#Exports in thousands 60kg bags\n",
    "df_exports = pd.read_excel('datasets/1e - Exports - crop year.xlsx',skiprows=3,skipfooter=3) \n",
    "df_exports['Country'] = df_exports['Country'].str.lstrip()\n",
    "df_exports['Continent'] = df_exports['Country'].map(countries)\n",
    "\n",
    "#Imports in thousands 60kg bags\n",
    "df_imports = pd.read_excel('datasets/2b - Imports.xlsx',skiprows=3,skipfooter=3) \n",
    "df_imports['Country'] = df_imports['Country'].str.lstrip()\n",
    "df_imports['Continent'] = df_imports['Country'].map(countries)"
   ]
  },
  {
   "cell_type": "code",
   "execution_count": 85,
   "metadata": {},
   "outputs": [
    {
     "data": {
      "text/plain": [
       "Index(['Country', 'Group', '1990/91', '1991/92', '1992/93', '1993/94',\n",
       "       '1994/95', '1995/96', '1996/97', '1997/98', '1998/99', '1999/00',\n",
       "       '2000/01', '2001/02', '2002/03', '2003/04', '2004/05', '2005/06',\n",
       "       '2006/07', '2007/08', '2008/09', '2009/10', '2010/11', '2011/12',\n",
       "       '2012/13', '2013/14', '2014/15', '2015/16', '2016/17', '2017/18',\n",
       "       '2018/19', '2019/20', 'Totals', 'Continent'],\n",
       "      dtype='object')"
      ]
     },
     "execution_count": 85,
     "metadata": {},
     "output_type": "execute_result"
    }
   ],
   "source": [
    "df_production.columns"
   ]
  },
  {
   "cell_type": "code",
   "execution_count": 91,
   "metadata": {},
   "outputs": [
    {
     "data": {
      "text/html": [
       "<div>\n",
       "<style scoped>\n",
       "    .dataframe tbody tr th:only-of-type {\n",
       "        vertical-align: middle;\n",
       "    }\n",
       "\n",
       "    .dataframe tbody tr th {\n",
       "        vertical-align: top;\n",
       "    }\n",
       "\n",
       "    .dataframe thead th {\n",
       "        text-align: right;\n",
       "    }\n",
       "</style>\n",
       "<table border=\"1\" class=\"dataframe\">\n",
       "  <thead>\n",
       "    <tr style=\"text-align: right;\">\n",
       "      <th></th>\n",
       "      <th>Country</th>\n",
       "      <th>Totals</th>\n",
       "    </tr>\n",
       "  </thead>\n",
       "  <tbody>\n",
       "    <tr>\n",
       "      <th>2</th>\n",
       "      <td>Brazil</td>\n",
       "      <td>1.251382e+06</td>\n",
       "    </tr>\n",
       "    <tr>\n",
       "      <th>53</th>\n",
       "      <td>Viet Nam</td>\n",
       "      <td>4.800550e+05</td>\n",
       "    </tr>\n",
       "    <tr>\n",
       "      <th>23</th>\n",
       "      <td>Colombia</td>\n",
       "      <td>3.599796e+05</td>\n",
       "    </tr>\n",
       "    <tr>\n",
       "      <th>5</th>\n",
       "      <td>Indonesia</td>\n",
       "      <td>2.567497e+05</td>\n",
       "    </tr>\n",
       "    <tr>\n",
       "      <th>29</th>\n",
       "      <td>Ethiopia</td>\n",
       "      <td>1.444943e+05</td>\n",
       "    </tr>\n",
       "    <tr>\n",
       "      <th>36</th>\n",
       "      <td>India</td>\n",
       "      <td>1.370363e+05</td>\n",
       "    </tr>\n",
       "    <tr>\n",
       "      <th>41</th>\n",
       "      <td>Mexico</td>\n",
       "      <td>1.308928e+05</td>\n",
       "    </tr>\n",
       "    <tr>\n",
       "      <th>32</th>\n",
       "      <td>Guatemala</td>\n",
       "      <td>1.170068e+05</td>\n",
       "    </tr>\n",
       "    <tr>\n",
       "      <th>35</th>\n",
       "      <td>Honduras</td>\n",
       "      <td>1.112128e+05</td>\n",
       "    </tr>\n",
       "    <tr>\n",
       "      <th>51</th>\n",
       "      <td>Uganda</td>\n",
       "      <td>9.865552e+04</td>\n",
       "    </tr>\n",
       "  </tbody>\n",
       "</table>\n",
       "</div>"
      ],
      "text/plain": [
       "      Country        Totals\n",
       "2      Brazil  1.251382e+06\n",
       "53   Viet Nam  4.800550e+05\n",
       "23   Colombia  3.599796e+05\n",
       "5   Indonesia  2.567497e+05\n",
       "29   Ethiopia  1.444943e+05\n",
       "36      India  1.370363e+05\n",
       "41     Mexico  1.308928e+05\n",
       "32  Guatemala  1.170068e+05\n",
       "35   Honduras  1.112128e+05\n",
       "51     Uganda  9.865552e+04"
      ]
     },
     "execution_count": 91,
     "metadata": {},
     "output_type": "execute_result"
    }
   ],
   "source": [
    "# sort the resulting DataFrame by production in descending order and select the top 10 countries\n",
    "top_10_producing_countries = df_production[['Country','Totals']].sort_values(by='Totals', ascending=False).head(10)\n",
    "\n",
    "# print the resulting DataFrame\n",
    "top_10_producing_countries\n"
   ]
  },
  {
   "cell_type": "code",
   "execution_count": null,
   "metadata": {},
   "outputs": [],
   "source": []
  }
 ],
 "metadata": {
  "kernelspec": {
   "display_name": "Python 3",
   "language": "python",
   "name": "python3"
  },
  "language_info": {
   "codemirror_mode": {
    "name": "ipython",
    "version": 3
   },
   "file_extension": ".py",
   "mimetype": "text/x-python",
   "name": "python",
   "nbconvert_exporter": "python",
   "pygments_lexer": "ipython3",
   "version": "3.11.3"
  },
  "orig_nbformat": 4
 },
 "nbformat": 4,
 "nbformat_minor": 2
}
